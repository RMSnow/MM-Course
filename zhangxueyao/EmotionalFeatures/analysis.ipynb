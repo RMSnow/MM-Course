{
 "cells": [
  {
   "cell_type": "markdown",
   "metadata": {},
   "source": [
    "# 整体数据集 Emotion"
   ]
  },
  {
   "cell_type": "code",
   "execution_count": 1,
   "metadata": {
    "collapsed": true
   },
   "outputs": [],
   "source": [
    "import pandas as pd\n",
    "pd.set_option('max_colwidth', 200)\n",
    "\n",
    "import numpy as np\n",
    "\n",
    "import matplotlib.pyplot as plt\n",
    "%matplotlib inline\n",
    "\n",
    "import seaborn as sns\n",
    "sns.set_style('whitegrid')\n",
    "\n",
    "plt.rcParams['figure.dpi'] = 100"
   ]
  },
  {
   "cell_type": "code",
   "execution_count": 2,
   "metadata": {},
   "outputs": [
    {
     "data": {
      "text/plain": [
       "(16841, 16965)"
      ]
     },
     "execution_count": 2,
     "metadata": {},
     "output_type": "execute_result"
    }
   ],
   "source": [
    "rumor_df = pd.read_csv('./emotion_rumor.csv')\n",
    "truth_df = pd.read_csv('./emotion_truth.csv')\n",
    "\n",
    "len(rumor_df), len(truth_df)"
   ]
  },
  {
   "cell_type": "code",
   "execution_count": 3,
   "metadata": {},
   "outputs": [
    {
     "data": {
      "text/html": [
       "<div>\n",
       "<style scoped>\n",
       "    .dataframe tbody tr th:only-of-type {\n",
       "        vertical-align: middle;\n",
       "    }\n",
       "\n",
       "    .dataframe tbody tr th {\n",
       "        vertical-align: top;\n",
       "    }\n",
       "\n",
       "    .dataframe thead th {\n",
       "        text-align: right;\n",
       "    }\n",
       "</style>\n",
       "<table border=\"1\" class=\"dataframe\">\n",
       "  <thead>\n",
       "    <tr style=\"text-align: right;\">\n",
       "      <th></th>\n",
       "      <th>category</th>\n",
       "      <th>content</th>\n",
       "      <th>index</th>\n",
       "      <th>label</th>\n",
       "      <th>publisher_emotion</th>\n",
       "      <th>dataset</th>\n",
       "    </tr>\n",
       "  </thead>\n",
       "  <tbody>\n",
       "    <tr>\n",
       "      <th>0</th>\n",
       "      <td>社会生活</td>\n",
       "      <td>，帮忙转一下，找一名职中学生，叫刘冻雪，16岁，请速回鲁甸县医院，妈妈在地震伤的很严重，想最后见她一面，姐姐号码：13751977218，爱心接力，不转对不起自己，好人有好报2花园南路</td>\n",
       "      <td>16074</td>\n",
       "      <td>1</td>\n",
       "      <td>none</td>\n",
       "      <td>train</td>\n",
       "    </tr>\n",
       "    <tr>\n",
       "      <th>1</th>\n",
       "      <td>社会生活</td>\n",
       "      <td>请帮忙，求转本人：曹艳，电话13762612323今天上午的2岁女儿在增城大润发附近被人拐走了，女儿能说出她爸爸的手机号码从监控上看是被一个四十多岁男人抱走了现我们家老太太都急疯了有知情者请告之万分感谢看到信息的兄弟姐妹留意一下联系人张明均如果看一眼懒得转的冷漠人也请你伸出手指按3秒看到就转转吧我们都会有孩子谢谢你2东莞·横沥镇</td>\n",
       "      <td>16075</td>\n",
       "      <td>1</td>\n",
       "      <td>none</td>\n",
       "      <td>train</td>\n",
       "    </tr>\n",
       "    <tr>\n",
       "      <th>2</th>\n",
       "      <td>社会生活</td>\n",
       "      <td>寻人启事13940292999。有线索酬金10万帮忙扩散，今天上午一个三岁多小女孩在锦绣花园小区附近被人拐走了，小女孩能说出她爸爸的手机号码从监控上看是被一个四十多岁男人抱走了现大人都急疯了有知情者请告之万分感谢看到信息的兄弟姐妹留意一下联系人宁继春13940292999</td>\n",
       "      <td>16076</td>\n",
       "      <td>1</td>\n",
       "      <td>none</td>\n",
       "      <td>train</td>\n",
       "    </tr>\n",
       "    <tr>\n",
       "      <th>3</th>\n",
       "      <td>社会生活</td>\n",
       "      <td>雅安總人口153萬，三星蘋果富士康三家公司總共捐款加起來是1億6000萬，平均分給每個人是105萬左右。現在還在缺物資，缺錢，各地方各組織各學校還在圈錢。錢去哪了我們不知道，真的不知道該說啥。我只想問。錢呢。給老百姓們的錢呢。</td>\n",
       "      <td>16077</td>\n",
       "      <td>1</td>\n",
       "      <td>none</td>\n",
       "      <td>train</td>\n",
       "    </tr>\n",
       "    <tr>\n",
       "      <th>4</th>\n",
       "      <td>社会生活</td>\n",
       "      <td>我想成为你最心动的相遇和最不舍的告别；广西平南。一男子闯入午托居民屋刀砍16名儿童致3死13伤</td>\n",
       "      <td>16078</td>\n",
       "      <td>1</td>\n",
       "      <td>angry</td>\n",
       "      <td>train</td>\n",
       "    </tr>\n",
       "  </tbody>\n",
       "</table>\n",
       "</div>"
      ],
      "text/plain": [
       "  category  \\\n",
       "0     社会生活   \n",
       "1     社会生活   \n",
       "2     社会生活   \n",
       "3     社会生活   \n",
       "4     社会生活   \n",
       "\n",
       "                                                                                                                                                                 content  \\\n",
       "0                                                                           ，帮忙转一下，找一名职中学生，叫刘冻雪，16岁，请速回鲁甸县医院，妈妈在地震伤的很严重，想最后见她一面，姐姐号码：13751977218，爱心接力，不转对不起自己，好人有好报2花园南路   \n",
       "1  请帮忙，求转本人：曹艳，电话13762612323今天上午的2岁女儿在增城大润发附近被人拐走了，女儿能说出她爸爸的手机号码从监控上看是被一个四十多岁男人抱走了现我们家老太太都急疯了有知情者请告之万分感谢看到信息的兄弟姐妹留意一下联系人张明均如果看一眼懒得转的冷漠人也请你伸出手指按3秒看到就转转吧我们都会有孩子谢谢你2东莞·横沥镇   \n",
       "2                               寻人启事13940292999。有线索酬金10万帮忙扩散，今天上午一个三岁多小女孩在锦绣花园小区附近被人拐走了，小女孩能说出她爸爸的手机号码从监控上看是被一个四十多岁男人抱走了现大人都急疯了有知情者请告之万分感谢看到信息的兄弟姐妹留意一下联系人宁继春13940292999   \n",
       "3                                                      雅安總人口153萬，三星蘋果富士康三家公司總共捐款加起來是1億6000萬，平均分給每個人是105萬左右。現在還在缺物資，缺錢，各地方各組織各學校還在圈錢。錢去哪了我們不知道，真的不知道該說啥。我只想問。錢呢。給老百姓們的錢呢。   \n",
       "4                                                                                                                        我想成为你最心动的相遇和最不舍的告别；广西平南。一男子闯入午托居民屋刀砍16名儿童致3死13伤   \n",
       "\n",
       "   index  label publisher_emotion dataset  \n",
       "0  16074      1              none   train  \n",
       "1  16075      1              none   train  \n",
       "2  16076      1              none   train  \n",
       "3  16077      1              none   train  \n",
       "4  16078      1             angry   train  "
      ]
     },
     "execution_count": 3,
     "metadata": {},
     "output_type": "execute_result"
    }
   ],
   "source": [
    "rumor_df.head()"
   ]
  },
  {
   "cell_type": "code",
   "execution_count": 5,
   "metadata": {
    "collapsed": true
   },
   "outputs": [],
   "source": [
    "def get_full_df(r_df, t_df):\n",
    "    r_df['label'] = 1\n",
    "    t_df['label'] = 0\n",
    "\n",
    "    df = pd.concat((r_df, t_df))\n",
    "    \n",
    "    a = df[df['label'] == 1]['publisher_emotion'].value_counts() / \\\n",
    "        len(rumor_df)\n",
    "    b = df[df['label'] == 0]['publisher_emotion'].value_counts() / \\\n",
    "        len(truth_df)\n",
    "        \n",
    "    keys = ['none', 'angry', 'happy', 'sad', 'fearful', 'disgusting']\n",
    "    keys.sort()\n",
    "    \n",
    "    # 处理未出现的key\n",
    "    for v in [a, b]:\n",
    "        for key in keys:\n",
    "            if key not in v:\n",
    "                v[key] = 0.0\n",
    "    \n",
    "    r = pd.DataFrame({'emotion': keys, 'publisher_emotion': [\n",
    "                     a[key] for key in keys]})\n",
    "    t = pd.DataFrame({'emotion': keys, 'publisher_emotion': [\n",
    "                     b[key] for key in keys]})\n",
    "\n",
    "    r['label'] = 'Fake News'\n",
    "    t['label'] = 'Real News'\n",
    "    hue_df = pd.concat((r, t))\n",
    "\n",
    "    # 输出差值\n",
    "    print('Publisher Emotion: (Fake news - Real News) = ')\n",
    "    for key in keys:\n",
    "        print('{}: {:.2%}'.format(key, a[key] - b[key]))\n",
    "\n",
    "    return hue_df\n",
    "\n",
    "def show_bar_hue(r_df, t_df, emotion_type):\n",
    "    hue_df = get_full_df(r_df, t_df)\n",
    "\n",
    "#     plt.rcParams['figure.dpi'] = 500\n",
    "    ax = sns.barplot(x='emotion', y=emotion_type, hue=\"label\", data=hue_df)\n",
    "\n",
    "#     ax.legend().set_title('')\n",
    "#     ax.legend(prop={'size':17})\n",
    "\n",
    "#     ax.set_xlabel(ax.get_xlabel(), fontsize=18, x=0.9)\n",
    "#     ax.set_ylabel(ax.get_ylabel(), fontsize=18)\n",
    "#     ax.tick_params(labelsize=18)\n",
    "#     ax.set_xbound(lower=0.05, upper=0.35)"
   ]
  },
  {
   "cell_type": "code",
   "execution_count": 4,
   "metadata": {},
   "outputs": [
    {
     "name": "stdout",
     "output_type": "stream",
     "text": [
      "none          14832\n",
      "angry          1424\n",
      "disgusting      522\n",
      "happy            43\n",
      "sad              15\n",
      "fearful           5\n",
      "Name: publisher_emotion, dtype: int64\n",
      "\n",
      "none          15553\n",
      "angry           668\n",
      "disgusting      532\n",
      "happy           192\n",
      "sad              15\n",
      "fearful           5\n",
      "Name: publisher_emotion, dtype: int64\n"
     ]
    }
   ],
   "source": [
    "print(rumor_df['publisher_emotion'].value_counts())\n",
    "print()\n",
    "print(truth_df['publisher_emotion'].value_counts())"
   ]
  },
  {
   "cell_type": "code",
   "execution_count": 6,
   "metadata": {},
   "outputs": [
    {
     "name": "stdout",
     "output_type": "stream",
     "text": [
      "Publisher Emotion: (Fake news - Real News) = \n",
      "angry: 4.52%\n",
      "disgusting: -0.04%\n",
      "fearful: 0.00%\n",
      "happy: -0.88%\n",
      "none: -3.61%\n",
      "sad: 0.00%\n"
     ]
    },
    {
     "data": {
      "image/png": "[encoded data removed]",
      "text/plain": [
       "<matplotlib.figure.Figure at 0x7fa4ac7e5588>"
      ]
     },
     "metadata": {},
     "output_type": "display_data"
    }
   ],
   "source": [
    "show_bar_hue(rumor_df, truth_df, 'publisher_emotion')"
   ]
  },
  {
   "cell_type": "markdown",
   "metadata": {},
   "source": [
    "# Train"
   ]
  },
  {
   "cell_type": "code",
   "execution_count": 7,
   "metadata": {},
   "outputs": [
    {
     "data": {
      "text/html": [
       "<div>\n",
       "<style scoped>\n",
       "    .dataframe tbody tr th:only-of-type {\n",
       "        vertical-align: middle;\n",
       "    }\n",
       "\n",
       "    .dataframe tbody tr th {\n",
       "        vertical-align: top;\n",
       "    }\n",
       "\n",
       "    .dataframe thead th {\n",
       "        text-align: right;\n",
       "    }\n",
       "</style>\n",
       "<table border=\"1\" class=\"dataframe\">\n",
       "  <thead>\n",
       "    <tr style=\"text-align: right;\">\n",
       "      <th></th>\n",
       "      <th>category</th>\n",
       "      <th>content</th>\n",
       "      <th>index</th>\n",
       "      <th>label</th>\n",
       "      <th>publisher_emotion</th>\n",
       "      <th>dataset</th>\n",
       "    </tr>\n",
       "  </thead>\n",
       "  <tbody>\n",
       "    <tr>\n",
       "      <th>0</th>\n",
       "      <td>社会生活</td>\n",
       "      <td>，帮忙转一下，找一名职中学生，叫刘冻雪，16岁，请速回鲁甸县医院，妈妈在地震伤的很严重，想最后见她一面，姐姐号码：13751977218，爱心接力，不转对不起自己，好人有好报2花园南路</td>\n",
       "      <td>16074</td>\n",
       "      <td>1</td>\n",
       "      <td>none</td>\n",
       "      <td>train</td>\n",
       "    </tr>\n",
       "    <tr>\n",
       "      <th>1</th>\n",
       "      <td>社会生活</td>\n",
       "      <td>请帮忙，求转本人：曹艳，电话13762612323今天上午的2岁女儿在增城大润发附近被人拐走了，女儿能说出她爸爸的手机号码从监控上看是被一个四十多岁男人抱走了现我们家老太太都急疯了有知情者请告之万分感谢看到信息的兄弟姐妹留意一下联系人张明均如果看一眼懒得转的冷漠人也请你伸出手指按3秒看到就转转吧我们都会有孩子谢谢你2东莞·横沥镇</td>\n",
       "      <td>16075</td>\n",
       "      <td>1</td>\n",
       "      <td>none</td>\n",
       "      <td>train</td>\n",
       "    </tr>\n",
       "    <tr>\n",
       "      <th>2</th>\n",
       "      <td>社会生活</td>\n",
       "      <td>寻人启事13940292999。有线索酬金10万帮忙扩散，今天上午一个三岁多小女孩在锦绣花园小区附近被人拐走了，小女孩能说出她爸爸的手机号码从监控上看是被一个四十多岁男人抱走了现大人都急疯了有知情者请告之万分感谢看到信息的兄弟姐妹留意一下联系人宁继春13940292999</td>\n",
       "      <td>16076</td>\n",
       "      <td>1</td>\n",
       "      <td>none</td>\n",
       "      <td>train</td>\n",
       "    </tr>\n",
       "    <tr>\n",
       "      <th>3</th>\n",
       "      <td>社会生活</td>\n",
       "      <td>雅安總人口153萬，三星蘋果富士康三家公司總共捐款加起來是1億6000萬，平均分給每個人是105萬左右。現在還在缺物資，缺錢，各地方各組織各學校還在圈錢。錢去哪了我們不知道，真的不知道該說啥。我只想問。錢呢。給老百姓們的錢呢。</td>\n",
       "      <td>16077</td>\n",
       "      <td>1</td>\n",
       "      <td>none</td>\n",
       "      <td>train</td>\n",
       "    </tr>\n",
       "    <tr>\n",
       "      <th>4</th>\n",
       "      <td>社会生活</td>\n",
       "      <td>我想成为你最心动的相遇和最不舍的告别；广西平南。一男子闯入午托居民屋刀砍16名儿童致3死13伤</td>\n",
       "      <td>16078</td>\n",
       "      <td>1</td>\n",
       "      <td>angry</td>\n",
       "      <td>train</td>\n",
       "    </tr>\n",
       "  </tbody>\n",
       "</table>\n",
       "</div>"
      ],
      "text/plain": [
       "  category  \\\n",
       "0     社会生活   \n",
       "1     社会生活   \n",
       "2     社会生活   \n",
       "3     社会生活   \n",
       "4     社会生活   \n",
       "\n",
       "                                                                                                                                                                 content  \\\n",
       "0                                                                           ，帮忙转一下，找一名职中学生，叫刘冻雪，16岁，请速回鲁甸县医院，妈妈在地震伤的很严重，想最后见她一面，姐姐号码：13751977218，爱心接力，不转对不起自己，好人有好报2花园南路   \n",
       "1  请帮忙，求转本人：曹艳，电话13762612323今天上午的2岁女儿在增城大润发附近被人拐走了，女儿能说出她爸爸的手机号码从监控上看是被一个四十多岁男人抱走了现我们家老太太都急疯了有知情者请告之万分感谢看到信息的兄弟姐妹留意一下联系人张明均如果看一眼懒得转的冷漠人也请你伸出手指按3秒看到就转转吧我们都会有孩子谢谢你2东莞·横沥镇   \n",
       "2                               寻人启事13940292999。有线索酬金10万帮忙扩散，今天上午一个三岁多小女孩在锦绣花园小区附近被人拐走了，小女孩能说出她爸爸的手机号码从监控上看是被一个四十多岁男人抱走了现大人都急疯了有知情者请告之万分感谢看到信息的兄弟姐妹留意一下联系人宁继春13940292999   \n",
       "3                                                      雅安總人口153萬，三星蘋果富士康三家公司總共捐款加起來是1億6000萬，平均分給每個人是105萬左右。現在還在缺物資，缺錢，各地方各組織各學校還在圈錢。錢去哪了我們不知道，真的不知道該說啥。我只想問。錢呢。給老百姓們的錢呢。   \n",
       "4                                                                                                                        我想成为你最心动的相遇和最不舍的告别；广西平南。一男子闯入午托居民屋刀砍16名儿童致3死13伤   \n",
       "\n",
       "   index  label publisher_emotion dataset  \n",
       "0  16074      1              none   train  \n",
       "1  16075      1              none   train  \n",
       "2  16076      1              none   train  \n",
       "3  16077      1              none   train  \n",
       "4  16078      1             angry   train  "
      ]
     },
     "execution_count": 7,
     "metadata": {},
     "output_type": "execute_result"
    }
   ],
   "source": [
    "rumor_df.head()"
   ]
  },
  {
   "cell_type": "code",
   "execution_count": 9,
   "metadata": {},
   "outputs": [
    {
     "data": {
      "text/plain": [
       "(16119, 16074, 32193)"
      ]
     },
     "execution_count": 9,
     "metadata": {},
     "output_type": "execute_result"
    }
   ],
   "source": [
    "train_rumor_df = rumor_df[rumor_df['dataset']=='train']\n",
    "train_truth_df = truth_df[truth_df['dataset']=='train']\n",
    "\n",
    "len(train_rumor_df), len(train_truth_df), len(train_rumor_df) + len(train_truth_df)"
   ]
  },
  {
   "cell_type": "code",
   "execution_count": 10,
   "metadata": {},
   "outputs": [
    {
     "name": "stdout",
     "output_type": "stream",
     "text": [
      "none          14160\n",
      "angry          1400\n",
      "disgusting      496\n",
      "happy            43\n",
      "sad              15\n",
      "fearful           5\n",
      "Name: publisher_emotion, dtype: int64\n",
      "\n",
      "none          14704\n",
      "angry           645\n",
      "disgusting      526\n",
      "happy           179\n",
      "sad              15\n",
      "fearful           5\n",
      "Name: publisher_emotion, dtype: int64\n"
     ]
    }
   ],
   "source": [
    "print(train_rumor_df['publisher_emotion'].value_counts())\n",
    "print()\n",
    "print(train_truth_df['publisher_emotion'].value_counts())"
   ]
  },
  {
   "cell_type": "code",
   "execution_count": 11,
   "metadata": {},
   "outputs": [
    {
     "name": "stderr",
     "output_type": "stream",
     "text": [
      "/Users/snow/anaconda2/envs/python35/lib/python3.5/site-packages/ipykernel_launcher.py:2: SettingWithCopyWarning: \n",
      "A value is trying to be set on a copy of a slice from a DataFrame.\n",
      "Try using .loc[row_indexer,col_indexer] = value instead\n",
      "\n",
      "See the caveats in the documentation: http://pandas.pydata.org/pandas-docs/stable/indexing.html#indexing-view-versus-copy\n",
      "  \n",
      "/Users/snow/anaconda2/envs/python35/lib/python3.5/site-packages/ipykernel_launcher.py:3: SettingWithCopyWarning: \n",
      "A value is trying to be set on a copy of a slice from a DataFrame.\n",
      "Try using .loc[row_indexer,col_indexer] = value instead\n",
      "\n",
      "See the caveats in the documentation: http://pandas.pydata.org/pandas-docs/stable/indexing.html#indexing-view-versus-copy\n",
      "  This is separate from the ipykernel package so we can avoid doing imports until\n"
     ]
    },
    {
     "name": "stdout",
     "output_type": "stream",
     "text": [
      "Publisher Emotion: (Fake news - Real News) = \n",
      "angry: 4.51%\n",
      "disgusting: -0.16%\n",
      "fearful: 0.00%\n",
      "happy: -0.80%\n",
      "none: -2.59%\n",
      "sad: 0.00%\n"
     ]
    },
    {
     "data": {
      "image/png": "[encoded data removed]",
      "text/plain": [
       "<matplotlib.figure.Figure at 0x7fa4ae889048>"
      ]
     },
     "metadata": {},
     "output_type": "display_data"
    }
   ],
   "source": [
    "show_bar_hue(train_rumor_df, train_truth_df, 'publisher_emotion')"
   ]
  },
  {
   "cell_type": "markdown",
   "metadata": {},
   "source": [
    "# Test"
   ]
  },
  {
   "cell_type": "code",
   "execution_count": 12,
   "metadata": {},
   "outputs": [
    {
     "data": {
      "text/plain": [
       "(722, 891, 1613)"
      ]
     },
     "execution_count": 12,
     "metadata": {},
     "output_type": "execute_result"
    }
   ],
   "source": [
    "test_rumor_df = rumor_df[rumor_df['dataset']=='test']\n",
    "test_truth_df = truth_df[truth_df['dataset']=='test']\n",
    "\n",
    "len(test_rumor_df), len(test_truth_df), len(test_rumor_df) + len(test_truth_df)"
   ]
  },
  {
   "cell_type": "code",
   "execution_count": 13,
   "metadata": {},
   "outputs": [
    {
     "name": "stdout",
     "output_type": "stream",
     "text": [
      "none          672\n",
      "disgusting     26\n",
      "angry          24\n",
      "Name: publisher_emotion, dtype: int64\n",
      "\n",
      "none          849\n",
      "angry          23\n",
      "happy          13\n",
      "disgusting      6\n",
      "Name: publisher_emotion, dtype: int64\n"
     ]
    }
   ],
   "source": [
    "print(test_rumor_df['publisher_emotion'].value_counts())\n",
    "print()\n",
    "print(test_truth_df['publisher_emotion'].value_counts())"
   ]
  },
  {
   "cell_type": "code",
   "execution_count": 14,
   "metadata": {},
   "outputs": [
    {
     "name": "stderr",
     "output_type": "stream",
     "text": [
      "/Users/snow/anaconda2/envs/python35/lib/python3.5/site-packages/ipykernel_launcher.py:2: SettingWithCopyWarning: \n",
      "A value is trying to be set on a copy of a slice from a DataFrame.\n",
      "Try using .loc[row_indexer,col_indexer] = value instead\n",
      "\n",
      "See the caveats in the documentation: http://pandas.pydata.org/pandas-docs/stable/indexing.html#indexing-view-versus-copy\n",
      "  \n",
      "/Users/snow/anaconda2/envs/python35/lib/python3.5/site-packages/ipykernel_launcher.py:3: SettingWithCopyWarning: \n",
      "A value is trying to be set on a copy of a slice from a DataFrame.\n",
      "Try using .loc[row_indexer,col_indexer] = value instead\n",
      "\n",
      "See the caveats in the documentation: http://pandas.pydata.org/pandas-docs/stable/indexing.html#indexing-view-versus-copy\n",
      "  This is separate from the ipykernel package so we can avoid doing imports until\n"
     ]
    },
    {
     "name": "stdout",
     "output_type": "stream",
     "text": [
      "Publisher Emotion: (Fake news - Real News) = \n",
      "angry: 0.01%\n",
      "disgusting: 0.12%\n",
      "fearful: 0.00%\n",
      "happy: -0.08%\n",
      "none: -1.01%\n",
      "sad: 0.00%\n"
     ]
    },
    {
     "data": {
      "image/png": "[encoded data removed]",
      "text/plain": [
       "<matplotlib.figure.Figure at 0x7fa4b0a8bb00>"
      ]
     },
     "metadata": {},
     "output_type": "display_data"
    }
   ],
   "source": [
    "show_bar_hue(test_rumor_df, test_truth_df, 'publisher_emotion')"
   ]
  },
  {
   "cell_type": "code",
   "execution_count": null,
   "metadata": {
    "collapsed": true
   },
   "outputs": [],
   "source": []
  }
 ],
 "metadata": {
  "kernelspec": {
   "display_name": "Python 3",
   "language": "python",
   "name": "python3"
  },
  "language_info": {
   "codemirror_mode": {
    "name": "ipython",
    "version": 3
   },
   "file_extension": ".py",
   "mimetype": "text/x-python",
   "name": "python",
   "nbconvert_exporter": "python",
   "pygments_lexer": "ipython3",
   "version": "3.5.3"
  },
  "toc": {
   "base_numbering": 1,
   "nav_menu": {},
   "number_sections": true,
   "sideBar": true,
   "skip_h1_title": false,
   "title_cell": "Table of Contents",
   "title_sidebar": "Contents",
   "toc_cell": false,
   "toc_position": {},
   "toc_section_display": true,
   "toc_window_display": true
  }
 },
 "nbformat": 4,
 "nbformat_minor": 2
}
