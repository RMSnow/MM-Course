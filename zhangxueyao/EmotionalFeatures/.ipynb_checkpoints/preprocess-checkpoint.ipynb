{
 "cells": [
  {
   "cell_type": "markdown",
   "metadata": {},
   "source": [
    "# 处理返回的json"
   ]
  },
  {
   "cell_type": "code",
   "execution_count": 1,
   "metadata": {
    "collapsed": true
   },
   "outputs": [],
   "source": [
    "import pandas as pd\n",
    "import json\n",
    "import demjson\n",
    "import numpy as np\n",
    "import joblib"
   ]
  },
  {
   "cell_type": "code",
   "execution_count": 13,
   "metadata": {
    "collapsed": true
   },
   "outputs": [],
   "source": [
    "def parse_text(text):\n",
    "    #     try:\n",
    "    #         # 单引号变为双引号\n",
    "    #         return json.loads(text.replace('\\'', '\"'))\n",
    "    #     except:\n",
    "    #         text = text.replace('\"', '')\n",
    "    #         return json.loads(text.replace('\\'', '\"'))\n",
    "\n",
    "    return demjson.decode(text)\n",
    "\n",
    "\n",
    "def extract_emotions(items_dict):\n",
    "    if 'error_msg' in items_dict.keys():\n",
    "        msg = items_dict['error_msg']\n",
    "        if msg == 'input text too long':\n",
    "            return {'neutral': 1.0, 'optimistic': 0.0, 'pessimistic': 0.0}\n",
    "\n",
    "    try:\n",
    "        items = items_dict['items']\n",
    "        assert len(items) == 3\n",
    "    except:\n",
    "        print(items_dict)\n",
    "        return {'neutral': 1.0, 'optimistic': 0.0, 'pessimistic': 0.0}\n",
    "\n",
    "    emotions_dict = dict()\n",
    "    for item in items:\n",
    "        emotions_dict[item['label']] = item['prob']\n",
    "        subitems = item['subitems']\n",
    "        for subitem in subitems:\n",
    "            emotions_dict[subitem['label']] = subitem['prob']\n",
    "\n",
    "    return emotions_dict"
   ]
  },
  {
   "cell_type": "code",
   "execution_count": 3,
   "metadata": {},
   "outputs": [
    {
     "data": {
      "text/plain": [
       "(32193, 1613)"
      ]
     },
     "execution_count": 3,
     "metadata": {},
     "output_type": "execute_result"
    }
   ],
   "source": [
    "with open('../dataset/train.json', 'r') as f:\n",
    "    train = json.load(f)\n",
    "with open('../dataset/test.json', 'r') as f:\n",
    "    test = json.load(f)\n",
    "\n",
    "len(train), len(test)"
   ]
  },
  {
   "cell_type": "markdown",
   "metadata": {},
   "source": [
    "## Content"
   ]
  },
  {
   "cell_type": "code",
   "execution_count": 5,
   "metadata": {},
   "outputs": [
    {
     "data": {
      "text/plain": [
       "(32193, 1613)"
      ]
     },
     "execution_count": 5,
     "metadata": {},
     "output_type": "execute_result"
    }
   ],
   "source": [
    "with open('./baidu_train.txt', 'r') as src:\n",
    "    train_lines = src.readlines()\n",
    "    train_lines = [line.strip() for line in train_lines]\n",
    "    \n",
    "with open('./baidu_test.txt', 'r') as src:\n",
    "    test_lines = src.readlines()\n",
    "    test_lines = [line.strip() for line in test_lines]\n",
    "\n",
    "len(train_lines), len(test_lines)"
   ]
  },
  {
   "cell_type": "code",
   "execution_count": 7,
   "metadata": {},
   "outputs": [
    {
     "data": {
      "text/plain": [
       "\"{'log_id': 3283784587524047522, 'items': [{'prob': 0.995265, 'label': 'neutral', 'subitems': [], 'replies': []}, {'prob': 0.00297933, 'label': 'optimistic', 'subitems': [], 'replies': []}, {'prob': 0.00175571, 'label': 'pessimistic', 'subitems': [], 'replies': []}], 'text': '回复新浪网友对博文【国家文物局限制鉴宝节目现场估价转】的评论：;;查看原文：'}\""
      ]
     },
     "execution_count": 7,
     "metadata": {},
     "output_type": "execute_result"
    }
   ],
   "source": [
    "train_lines[0]"
   ]
  },
  {
   "cell_type": "code",
   "execution_count": 6,
   "metadata": {},
   "outputs": [
    {
     "data": {
      "text/plain": [
       "{'neutral': 0.995265, 'optimistic': 0.00297933, 'pessimistic': 0.00175571}"
      ]
     },
     "execution_count": 6,
     "metadata": {},
     "output_type": "execute_result"
    }
   ],
   "source": [
    "extract_emotions(parse_text(train_lines[0]))"
   ]
  },
  {
   "cell_type": "code",
   "execution_count": 8,
   "metadata": {},
   "outputs": [
    {
     "data": {
      "text/plain": [
       "'回复新浪网友对博文【国家文物局限制鉴宝节目现场估价转】的评论：;;查看原文：'"
      ]
     },
     "execution_count": 8,
     "metadata": {},
     "output_type": "execute_result"
    }
   ],
   "source": [
    "train[0]['content']"
   ]
  },
  {
   "cell_type": "code",
   "execution_count": 9,
   "metadata": {},
   "outputs": [
    {
     "data": {
      "text/plain": [
       "{'category': '文体娱乐',\n",
       " 'category_label': 2,\n",
       " 'content': '回复新浪网友对博文【国家文物局限制鉴宝节目现场估价转】的评论：;;查看原文：',\n",
       " 'content_words': '回复 新浪 网友 对 博文 【 国家文物局 限制 鉴宝 节目 现场 估价 转 】 的 评论 ： ; ; 查看 原文 ：',\n",
       " 'fake_label': 0}"
      ]
     },
     "execution_count": 9,
     "metadata": {},
     "output_type": "execute_result"
    }
   ],
   "source": [
    "train[0]"
   ]
  },
  {
   "cell_type": "code",
   "execution_count": 17,
   "metadata": {},
   "outputs": [
    {
     "name": "stdout",
     "output_type": "stream",
     "text": [
      "{'error_code': 18, 'error_msg': 'Open api qps request limit reached'}\n",
      "{'error_code': 282134, 'log_id': 2348648912883782530, 'error_msg': 'input empty'}\n"
     ]
    }
   ],
   "source": [
    "for i, piece in enumerate(train):\n",
    "    piece['content_emotions'] = extract_emotions(parse_text(train_lines[i]))"
   ]
  },
  {
   "cell_type": "code",
   "execution_count": 14,
   "metadata": {
    "collapsed": true
   },
   "outputs": [],
   "source": [
    "for i, piece in enumerate(test):\n",
    "    piece['content_emotions'] = extract_emotions(parse_text(test_lines[i]))"
   ]
  },
  {
   "cell_type": "code",
   "execution_count": 18,
   "metadata": {},
   "outputs": [
    {
     "data": {
      "text/plain": [
       "{'category': '文体娱乐',\n",
       " 'category_label': 2,\n",
       " 'content': '回复新浪网友对博文【国家文物局限制鉴宝节目现场估价转】的评论：;;查看原文：',\n",
       " 'content_emotions': {'neutral': 0.995265,\n",
       "  'optimistic': 0.00297933,\n",
       "  'pessimistic': 0.00175571},\n",
       " 'content_words': '回复 新浪 网友 对 博文 【 国家文物局 限制 鉴宝 节目 现场 估价 转 】 的 评论 ： ; ; 查看 原文 ：',\n",
       " 'fake_label': 0}"
      ]
     },
     "execution_count": 18,
     "metadata": {},
     "output_type": "execute_result"
    }
   ],
   "source": [
    "train[0]"
   ]
  },
  {
   "cell_type": "code",
   "execution_count": 19,
   "metadata": {},
   "outputs": [
    {
     "data": {
      "text/plain": [
       "\"{'log_id': 3283784587524047522, 'items': [{'prob': 0.995265, 'label': 'neutral', 'subitems': [], 'replies': []}, {'prob': 0.00297933, 'label': 'optimistic', 'subitems': [], 'replies': []}, {'prob': 0.00175571, 'label': 'pessimistic', 'subitems': [], 'replies': []}], 'text': '回复新浪网友对博文【国家文物局限制鉴宝节目现场估价转】的评论：;;查看原文：'}\""
      ]
     },
     "execution_count": 19,
     "metadata": {},
     "output_type": "execute_result"
    }
   ],
   "source": [
    "train_lines[0]"
   ]
  },
  {
   "cell_type": "code",
   "execution_count": 20,
   "metadata": {
    "collapsed": true
   },
   "outputs": [],
   "source": [
    "with open('../dataset/train.json', 'w') as f:\n",
    "    json.dump(train, f, ensure_ascii=False, indent=4, sort_keys=True)\n",
    "with open('../dataset/test.json', 'w') as f:\n",
    "    json.dump(test, f, ensure_ascii=False, indent=4, sort_keys=True)"
   ]
  },
  {
   "cell_type": "markdown",
   "metadata": {
    "collapsed": true
   },
   "source": [
    "# 生成label的df"
   ]
  },
  {
   "cell_type": "code",
   "execution_count": 1,
   "metadata": {
    "collapsed": true
   },
   "outputs": [],
   "source": [
    "import json\n",
    "import pandas as pd\n",
    "import numpy as np"
   ]
  },
  {
   "cell_type": "code",
   "execution_count": 2,
   "metadata": {},
   "outputs": [
    {
     "data": {
      "text/plain": [
       "(32193, 1613)"
      ]
     },
     "execution_count": 2,
     "metadata": {},
     "output_type": "execute_result"
    }
   ],
   "source": [
    "with open('../dataset/train.json', 'r') as f:\n",
    "    train = json.load(f)\n",
    "with open('../dataset/test.json', 'r') as f:\n",
    "    test = json.load(f)\n",
    "\n",
    "len(train), len(test)"
   ]
  },
  {
   "cell_type": "markdown",
   "metadata": {},
   "source": [
    "情绪二级分类标签；客服模型正向（thankful感谢、happy愉快）、客服模型负向（complaining抱怨、angry愤怒）；闲聊模型正向（like喜爱、happy愉快）、闲聊模型负向（angry愤怒、disgusting厌恶、fearful恐惧、sad悲伤）"
   ]
  },
  {
   "cell_type": "code",
   "execution_count": 3,
   "metadata": {},
   "outputs": [
    {
     "data": {
      "text/plain": [
       "['angry',\n",
       " 'complaining',\n",
       " 'disgusting',\n",
       " 'fearful',\n",
       " 'happy',\n",
       " 'like',\n",
       " 'neutral',\n",
       " 'sad',\n",
       " 'thankful']"
      ]
     },
     "execution_count": 3,
     "metadata": {},
     "output_type": "execute_result"
    }
   ],
   "source": [
    "emotions = ['complaining', 'angry', 'disgusting', 'fearful',\n",
    "            'sad', 'thankful', 'happy', 'like', 'neutral']\n",
    "emotions.sort()\n",
    "\n",
    "emotions"
   ]
  },
  {
   "cell_type": "code",
   "execution_count": 4,
   "metadata": {},
   "outputs": [
    {
     "data": {
      "text/plain": [
       "{'neutral': 0.995265, 'optimistic': 0.00297933, 'pessimistic': 0.00175571}"
      ]
     },
     "execution_count": 4,
     "metadata": {},
     "output_type": "execute_result"
    }
   ],
   "source": [
    "train[0]['content_emotions']"
   ]
  },
  {
   "cell_type": "code",
   "execution_count": 6,
   "metadata": {},
   "outputs": [
    {
     "data": {
      "text/plain": [
       "'回复新浪网友对博文【国家文物局限制鉴宝节目现场估价转】的评论：;;查看原文：'"
      ]
     },
     "execution_count": 6,
     "metadata": {},
     "output_type": "execute_result"
    }
   ],
   "source": [
    "train[0]['content']"
   ]
  },
  {
   "cell_type": "code",
   "execution_count": 7,
   "metadata": {
    "collapsed": true
   },
   "outputs": [],
   "source": [
    "def get_label_from_emotions(emotions_dict):\n",
    "    emotions_dict = sorted(emotions_dict.items(),\n",
    "                           key=lambda item: item[1], reverse=True)\n",
    "    \n",
    "    if emotions_dict[0][0] in ['pessimistic', 'optimistic']:\n",
    "        if emotions_dict[1][0] in ['pessimistic', 'optimistic']:\n",
    "            return emotions_dict[2][0]\n",
    "        else:\n",
    "            return emotions_dict[1][0]\n",
    "    else:\n",
    "        return emotions_dict[0][0]"
   ]
  },
  {
   "cell_type": "code",
   "execution_count": 8,
   "metadata": {},
   "outputs": [
    {
     "data": {
      "text/plain": [
       "'neutral'"
      ]
     },
     "execution_count": 8,
     "metadata": {},
     "output_type": "execute_result"
    }
   ],
   "source": [
    "get_label_from_emotions(train[0]['content_emotions'])"
   ]
  },
  {
   "cell_type": "code",
   "execution_count": 10,
   "metadata": {},
   "outputs": [
    {
     "data": {
      "text/plain": [
       "{'category': '文体娱乐',\n",
       " 'category_label': 2,\n",
       " 'content': '回复新浪网友对博文【国家文物局限制鉴宝节目现场估价转】的评论：;;查看原文：',\n",
       " 'content_emotions': {'neutral': 0.995265,\n",
       "  'optimistic': 0.00297933,\n",
       "  'pessimistic': 0.00175571},\n",
       " 'content_words': '回复 新浪 网友 对 博文 【 国家文物局 限制 鉴宝 节目 现场 估价 转 】 的 评论 ： ; ; 查看 原文 ：',\n",
       " 'fake_label': 0}"
      ]
     },
     "execution_count": 10,
     "metadata": {},
     "output_type": "execute_result"
    }
   ],
   "source": [
    "train[0]"
   ]
  },
  {
   "cell_type": "code",
   "execution_count": 18,
   "metadata": {
    "collapsed": true
   },
   "outputs": [],
   "source": [
    "def gen_emotioin_df(pieces, dataset_type):\n",
    "    idx = [i for i in range(len(pieces))]\n",
    "    contents = [piece['content'] for piece in pieces]\n",
    "    content_labels = []\n",
    "    fake_labels = []\n",
    "    category_labels = []\n",
    "\n",
    "    for piece in pieces:\n",
    "        content_labels.append(\n",
    "            get_label_from_emotions(piece['content_emotions']))\n",
    "        fake_labels.append(piece['fake_label'])\n",
    "        category_labels.append(piece['category'])\n",
    "\n",
    "    df = pd.DataFrame({'index': idx, 'content': contents, 'label': fake_labels, 'category': category_labels,\n",
    "                       'publisher_emotion': content_labels})\n",
    "    df['dataset'] = dataset_type\n",
    "    return df"
   ]
  },
  {
   "cell_type": "code",
   "execution_count": 19,
   "metadata": {},
   "outputs": [
    {
     "data": {
      "text/plain": [
       "(32193, 1613)"
      ]
     },
     "execution_count": 19,
     "metadata": {},
     "output_type": "execute_result"
    }
   ],
   "source": [
    "train_df = gen_emotioin_df(train, 'train')\n",
    "\n",
    "test_df = gen_emotioin_df(test, 'test')\n",
    "\n",
    "len(train_df), len(test_df)"
   ]
  },
  {
   "cell_type": "code",
   "execution_count": 20,
   "metadata": {},
   "outputs": [
    {
     "data": {
      "text/html": [
       "<div>\n",
       "<style scoped>\n",
       "    .dataframe tbody tr th:only-of-type {\n",
       "        vertical-align: middle;\n",
       "    }\n",
       "\n",
       "    .dataframe tbody tr th {\n",
       "        vertical-align: top;\n",
       "    }\n",
       "\n",
       "    .dataframe thead th {\n",
       "        text-align: right;\n",
       "    }\n",
       "</style>\n",
       "<table border=\"1\" class=\"dataframe\">\n",
       "  <thead>\n",
       "    <tr style=\"text-align: right;\">\n",
       "      <th></th>\n",
       "      <th>category</th>\n",
       "      <th>content</th>\n",
       "      <th>index</th>\n",
       "      <th>label</th>\n",
       "      <th>publisher_emotion</th>\n",
       "      <th>dataset</th>\n",
       "    </tr>\n",
       "  </thead>\n",
       "  <tbody>\n",
       "    <tr>\n",
       "      <th>0</th>\n",
       "      <td>文体娱乐</td>\n",
       "      <td>回复新浪网友对博文【国家文物局限制鉴宝节目现场估价转】的评论：;;查看原文：</td>\n",
       "      <td>0</td>\n",
       "      <td>0</td>\n",
       "      <td>neutral</td>\n",
       "      <td>train</td>\n",
       "    </tr>\n",
       "    <tr>\n",
       "      <th>1</th>\n",
       "      <td>社会生活</td>\n",
       "      <td>//分享网易新闻:《发生在昆明的火锅店老板“辱滇门”，云南人该愤怒还是羞愧》|发生在昆明.....</td>\n",
       "      <td>1</td>\n",
       "      <td>0</td>\n",
       "      <td>neutral</td>\n",
       "      <td>train</td>\n",
       "    </tr>\n",
       "    <tr>\n",
       "      <th>2</th>\n",
       "      <td>社会生活</td>\n",
       "      <td>西宁城管围殴民警扬言要把警察打死|西宁城管围...</td>\n",
       "      <td>2</td>\n",
       "      <td>0</td>\n",
       "      <td>angry</td>\n",
       "      <td>train</td>\n",
       "    </tr>\n",
       "    <tr>\n",
       "      <th>3</th>\n",
       "      <td>社会生活</td>\n",
       "      <td>【川航航班因驾驶舱风挡破裂安全备降成都】今天上午6:26从重庆江北国际机场出发前往拉萨的四川...</td>\n",
       "      <td>3</td>\n",
       "      <td>0</td>\n",
       "      <td>neutral</td>\n",
       "      <td>train</td>\n",
       "    </tr>\n",
       "    <tr>\n",
       "      <th>4</th>\n",
       "      <td>社会生活</td>\n",
       "      <td>支持郑强！！！//【贵州大学校长回应空姐言论:常给她们写感谢信】</td>\n",
       "      <td>4</td>\n",
       "      <td>0</td>\n",
       "      <td>neutral</td>\n",
       "      <td>train</td>\n",
       "    </tr>\n",
       "  </tbody>\n",
       "</table>\n",
       "</div>"
      ],
      "text/plain": [
       "  category                                            content  index  label  \\\n",
       "0     文体娱乐             回复新浪网友对博文【国家文物局限制鉴宝节目现场估价转】的评论：;;查看原文：      0      0   \n",
       "1     社会生活  //分享网易新闻:《发生在昆明的火锅店老板“辱滇门”，云南人该愤怒还是羞愧》|发生在昆明.....      1      0   \n",
       "2     社会生活                          西宁城管围殴民警扬言要把警察打死|西宁城管围...      2      0   \n",
       "3     社会生活  【川航航班因驾驶舱风挡破裂安全备降成都】今天上午6:26从重庆江北国际机场出发前往拉萨的四川...      3      0   \n",
       "4     社会生活                   支持郑强！！！//【贵州大学校长回应空姐言论:常给她们写感谢信】      4      0   \n",
       "\n",
       "  publisher_emotion dataset  \n",
       "0           neutral   train  \n",
       "1           neutral   train  \n",
       "2             angry   train  \n",
       "3           neutral   train  \n",
       "4           neutral   train  "
      ]
     },
     "execution_count": 20,
     "metadata": {},
     "output_type": "execute_result"
    }
   ],
   "source": [
    "train_df.head()"
   ]
  },
  {
   "cell_type": "code",
   "execution_count": 21,
   "metadata": {},
   "outputs": [
    {
     "data": {
      "text/plain": [
       "33806"
      ]
     },
     "execution_count": 21,
     "metadata": {},
     "output_type": "execute_result"
    }
   ],
   "source": [
    "df = pd.concat([train_df, test_df])\n",
    "len(df)"
   ]
  },
  {
   "cell_type": "code",
   "execution_count": 22,
   "metadata": {},
   "outputs": [
    {
     "data": {
      "text/plain": [
       "(16841, 16965)"
      ]
     },
     "execution_count": 22,
     "metadata": {},
     "output_type": "execute_result"
    }
   ],
   "source": [
    "rumor_df = df[df['label'] == 1]\n",
    "truth_df = df[df['label'] == 0]\n",
    "len(rumor_df), len(truth_df)"
   ]
  },
  {
   "cell_type": "code",
   "execution_count": 23,
   "metadata": {
    "collapsed": true
   },
   "outputs": [],
   "source": [
    "rumor_df.to_csv('./emotion_rumor.csv', index=None)\n",
    "truth_df.to_csv('./emotion_truth.csv', index=None)"
   ]
  },
  {
   "cell_type": "code",
   "execution_count": null,
   "metadata": {
    "collapsed": true
   },
   "outputs": [],
   "source": []
  },
  {
   "cell_type": "code",
   "execution_count": null,
   "metadata": {
    "collapsed": true
   },
   "outputs": [],
   "source": []
  }
 ],
 "metadata": {
  "kernelspec": {
   "display_name": "Python 3",
   "language": "python",
   "name": "python3"
  },
  "language_info": {
   "codemirror_mode": {
    "name": "ipython",
    "version": 3
   },
   "file_extension": ".py",
   "mimetype": "text/x-python",
   "name": "python",
   "nbconvert_exporter": "python",
   "pygments_lexer": "ipython3",
   "version": "3.5.3"
  },
  "toc": {
   "base_numbering": 1,
   "nav_menu": {},
   "number_sections": true,
   "sideBar": true,
   "skip_h1_title": false,
   "title_cell": "Table of Contents",
   "title_sidebar": "Contents",
   "toc_cell": false,
   "toc_position": {},
   "toc_section_display": true,
   "toc_window_display": true
  }
 },
 "nbformat": 4,
 "nbformat_minor": 2
}
