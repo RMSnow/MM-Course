{
 "cells": [
  {
   "cell_type": "code",
   "execution_count": 1,
   "metadata": {
    "collapsed": true
   },
   "outputs": [],
   "source": [
    "import json\n",
    "import pandas as pd\n",
    "from aip import AipNlp\n",
    "import time\n",
    "import re"
   ]
  },
  {
   "cell_type": "code",
   "execution_count": 2,
   "metadata": {
    "collapsed": true
   },
   "outputs": [],
   "source": [
    "APP_ID = '18857913'\n",
    "API_KEY = '8bo7QMkkIgpabi4NHWroZusc'\n",
    "SECRET_KEY = 'd1xHvnMgYvw9NHViE0RN6bSaGDt5q2xO'\n",
    "\n",
    "client = AipNlp(APP_ID, API_KEY, SECRET_KEY)"
   ]
  },
  {
   "cell_type": "code",
   "execution_count": 3,
   "metadata": {},
   "outputs": [
    {
     "data": {
      "text/plain": [
       "(32193, 1613)"
      ]
     },
     "execution_count": 3,
     "metadata": {},
     "output_type": "execute_result"
    }
   ],
   "source": [
    "with open('../dataset/train.json', 'r', encoding='utf-8') as f:\n",
    "    train = json.load(f)\n",
    "with open('../dataset/test.json', 'r', encoding='utf-8') as f:\n",
    "    test = json.load(f)\n",
    "\n",
    "len(train), len(test)"
   ]
  },
  {
   "cell_type": "code",
   "execution_count": 4,
   "metadata": {
    "collapsed": true
   },
   "outputs": [],
   "source": [
    "def extract_pure_chinese(text):\n",
    "    pat = re.compile(r'[^\\u4e00-\\u9fa50-9A-Za-z，。！？：；“”（）《》]+')\n",
    "    result = pat.sub('', text)\n",
    "    return result"
   ]
  },
  {
   "cell_type": "code",
   "execution_count": 5,
   "metadata": {
    "collapsed": true
   },
   "outputs": [],
   "source": [
    "def request_api(text, sleep_sec=0.5):\n",
    "    #     text = text.replace('⋯', '').replace('\\u200b', '').replace(\n",
    "    #         '\\u301c', '').replace('\\u2708', '').replace('\\ufe0f', '').replace('\\xa0', '')\n",
    "    #     text = text.replace('\\U0001f44d', '').replace('\\U0001f64f', '').replace('\\U0001f602', '')\n",
    "\n",
    "    try:\n",
    "        api = client.emotion(text)\n",
    "    except UnicodeEncodeError:\n",
    "        api = client.emotion(extract_pure_chinese(text))\n",
    "    \n",
    "    time.sleep(sleep_sec)\n",
    "    return api"
   ]
  },
  {
   "cell_type": "code",
   "execution_count": 6,
   "metadata": {},
   "outputs": [
    {
     "data": {
      "text/plain": [
       "{'category': '文体娱乐',\n",
       " 'category_label': 2,\n",
       " 'content': '回复新浪网友对博文【国家文物局限制鉴宝节目现场估价转】的评论：;;查看原文：',\n",
       " 'content_words': '回复 新浪 网友 对 博文 【 国家文物局 限制 鉴宝 节目 现场 估价 转 】 的 评论 ： ; ; 查看 原文 ：',\n",
       " 'fake_label': 0}"
      ]
     },
     "execution_count": 6,
     "metadata": {},
     "output_type": "execute_result"
    }
   ],
   "source": [
    "train[0]"
   ]
  },
  {
   "cell_type": "code",
   "execution_count": 7,
   "metadata": {},
   "outputs": [
    {
     "data": {
      "text/plain": [
       "'回复新浪网友对博文【国家文物局限制鉴宝节目现场估价转】的评论：;;查看原文：'"
      ]
     },
     "execution_count": 7,
     "metadata": {},
     "output_type": "execute_result"
    }
   ],
   "source": [
    "train[0]['content']"
   ]
  },
  {
   "cell_type": "markdown",
   "metadata": {},
   "source": [
    "# Train"
   ]
  },
  {
   "cell_type": "code",
   "execution_count": null,
   "metadata": {},
   "outputs": [
    {
     "name": "stdout",
     "output_type": "stream",
     "text": [
      "[2020-06-02 15:51:37] 0/32193 done\n",
      "[2020-06-02 15:51:44] 10/32193 done\n",
      "[2020-06-02 15:51:51] 20/32193 done\n",
      "[2020-06-02 15:51:58] 30/32193 done\n",
      "[2020-06-02 15:52:04] 40/32193 done\n",
      "[2020-06-02 15:52:12] 50/32193 done\n",
      "[2020-06-02 15:52:18] 60/32193 done\n",
      "[2020-06-02 15:52:26] 70/32193 done\n",
      "[2020-06-02 15:52:32] 80/32193 done\n",
      "[2020-06-02 15:52:39] 90/32193 done\n"
     ]
    }
   ],
   "source": [
    "with open('./baidu_train.txt', 'a') as out:\n",
    "    for i, piece in enumerate(train):\n",
    "        if i % 10 == 0:\n",
    "            print('[{}] {}/{} done'.format(time.strftime(\"%Y-%m-%d %H:%M:%S\",\n",
    "                                                     time.localtime()), i, len(train)))\n",
    "\n",
    "        api = request_api(piece['content'][:250], sleep_sec=0.5)\n",
    "        out.write(str(api)+'\\n')\n",
    "        out.flush()"
   ]
  },
  {
   "cell_type": "code",
   "execution_count": null,
   "metadata": {},
   "outputs": [],
   "source": [
    "with open('./baidu_test.txt', 'a') as out:\n",
    "    for i, piece in enumerate(test):\n",
    "        if i % 10 == 0:\n",
    "            print('[{}] {}/{} done'.format(time.strftime(\"%Y-%m-%d %H:%M:%S\",\n",
    "                                                     time.localtime()), i, len(test)))\n",
    "\n",
    "        api = request_api(piece['content'][:250], sleep_sec=0.5)\n",
    "        out.write(str(api)+'\\n')\n",
    "        out.flush()"
   ]
  },
  {
   "cell_type": "code",
   "execution_count": null,
   "metadata": {
    "collapsed": true
   },
   "outputs": [],
   "source": []
  }
 ],
 "metadata": {
  "kernelspec": {
   "display_name": "Python 3",
   "language": "python",
   "name": "python3"
  },
  "language_info": {
   "codemirror_mode": {
    "name": "ipython",
    "version": 3
   },
   "file_extension": ".py",
   "mimetype": "text/x-python",
   "name": "python",
   "nbconvert_exporter": "python",
   "pygments_lexer": "ipython3",
   "version": "3.5.3"
  },
  "toc": {
   "base_numbering": 1,
   "nav_menu": {},
   "number_sections": true,
   "sideBar": true,
   "skip_h1_title": false,
   "title_cell": "Table of Contents",
   "title_sidebar": "Contents",
   "toc_cell": false,
   "toc_position": {},
   "toc_section_display": true,
   "toc_window_display": true
  }
 },
 "nbformat": 4,
 "nbformat_minor": 2
}
