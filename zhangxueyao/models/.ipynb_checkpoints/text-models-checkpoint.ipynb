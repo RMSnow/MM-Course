{
 "cells": [
  {
   "cell_type": "markdown",
   "metadata": {},
   "source": [
    "# 数据加载"
   ]
  },
  {
   "cell_type": "code",
   "execution_count": 1,
   "metadata": {},
   "outputs": [],
   "source": [
    "import numpy as np\n",
    "import os\n",
    "# os.environ[\"CUDA_VISIBLE_DEVICES\"] = \"1\"\n",
    "\n",
    "os.environ[\"CUDA_DEVICE_ORDER\"] = \"PCI_BUS_ID\"\n",
    "os.environ[\"CUDA_VISIBLE_DEVICES\"] = \"-1\""
   ]
  },
  {
   "cell_type": "code",
   "execution_count": 2,
   "metadata": {},
   "outputs": [
    {
     "data": {
      "text/plain": [
       "((32193, 120), (1613, 120), (32193, 2), (1613, 2))"
      ]
     },
     "execution_count": 2,
     "metadata": {},
     "output_type": "execute_result"
    }
   ],
   "source": [
    "train_we = np.load('../Semantics/data/train_we_(32193, 120).npy')\n",
    "test_we = np.load('../Semantics/data/test_we_(1613, 120).npy')\n",
    "we_emb_matrix = np.load('../Semantics/data/we_embedding_matrix_(6000, 300).npy')\n",
    "\n",
    "y_train = np.load('../dataset/data/train_label_(32193, 2).npy')\n",
    "y_test = np.load('../dataset/data/test_label_(1613, 2).npy')\n",
    "\n",
    "train_we.shape, test_we.shape, y_train.shape, y_test.shape"
   ]
  },
  {
   "cell_type": "markdown",
   "metadata": {},
   "source": [
    "# BiGRU"
   ]
  },
  {
   "cell_type": "code",
   "execution_count": 3,
   "metadata": {},
   "outputs": [
    {
     "name": "stderr",
     "output_type": "stream",
     "text": [
      "Using TensorFlow backend.\n",
      "/usr/local/anaconda3/lib/python3.7/site-packages/tensorflow/python/framework/dtypes.py:516: FutureWarning: Passing (type, 1) or '1type' as a synonym of type is deprecated; in a future version of numpy, it will be understood as (type, (1,)) / '(1,)type'.\n",
      "  _np_qint8 = np.dtype([(\"qint8\", np.int8, 1)])\n",
      "/usr/local/anaconda3/lib/python3.7/site-packages/tensorflow/python/framework/dtypes.py:517: FutureWarning: Passing (type, 1) or '1type' as a synonym of type is deprecated; in a future version of numpy, it will be understood as (type, (1,)) / '(1,)type'.\n",
      "  _np_quint8 = np.dtype([(\"quint8\", np.uint8, 1)])\n",
      "/usr/local/anaconda3/lib/python3.7/site-packages/tensorflow/python/framework/dtypes.py:518: FutureWarning: Passing (type, 1) or '1type' as a synonym of type is deprecated; in a future version of numpy, it will be understood as (type, (1,)) / '(1,)type'.\n",
      "  _np_qint16 = np.dtype([(\"qint16\", np.int16, 1)])\n",
      "/usr/local/anaconda3/lib/python3.7/site-packages/tensorflow/python/framework/dtypes.py:519: FutureWarning: Passing (type, 1) or '1type' as a synonym of type is deprecated; in a future version of numpy, it will be understood as (type, (1,)) / '(1,)type'.\n",
      "  _np_quint16 = np.dtype([(\"quint16\", np.uint16, 1)])\n",
      "/usr/local/anaconda3/lib/python3.7/site-packages/tensorflow/python/framework/dtypes.py:520: FutureWarning: Passing (type, 1) or '1type' as a synonym of type is deprecated; in a future version of numpy, it will be understood as (type, (1,)) / '(1,)type'.\n",
      "  _np_qint32 = np.dtype([(\"qint32\", np.int32, 1)])\n",
      "/usr/local/anaconda3/lib/python3.7/site-packages/tensorflow/python/framework/dtypes.py:525: FutureWarning: Passing (type, 1) or '1type' as a synonym of type is deprecated; in a future version of numpy, it will be understood as (type, (1,)) / '(1,)type'.\n",
      "  np_resource = np.dtype([(\"resource\", np.ubyte, 1)])\n",
      "/usr/local/anaconda3/lib/python3.7/site-packages/tensorboard/compat/tensorflow_stub/dtypes.py:541: FutureWarning: Passing (type, 1) or '1type' as a synonym of type is deprecated; in a future version of numpy, it will be understood as (type, (1,)) / '(1,)type'.\n",
      "  _np_qint8 = np.dtype([(\"qint8\", np.int8, 1)])\n",
      "/usr/local/anaconda3/lib/python3.7/site-packages/tensorboard/compat/tensorflow_stub/dtypes.py:542: FutureWarning: Passing (type, 1) or '1type' as a synonym of type is deprecated; in a future version of numpy, it will be understood as (type, (1,)) / '(1,)type'.\n",
      "  _np_quint8 = np.dtype([(\"quint8\", np.uint8, 1)])\n",
      "/usr/local/anaconda3/lib/python3.7/site-packages/tensorboard/compat/tensorflow_stub/dtypes.py:543: FutureWarning: Passing (type, 1) or '1type' as a synonym of type is deprecated; in a future version of numpy, it will be understood as (type, (1,)) / '(1,)type'.\n",
      "  _np_qint16 = np.dtype([(\"qint16\", np.int16, 1)])\n",
      "/usr/local/anaconda3/lib/python3.7/site-packages/tensorboard/compat/tensorflow_stub/dtypes.py:544: FutureWarning: Passing (type, 1) or '1type' as a synonym of type is deprecated; in a future version of numpy, it will be understood as (type, (1,)) / '(1,)type'.\n",
      "  _np_quint16 = np.dtype([(\"quint16\", np.uint16, 1)])\n",
      "/usr/local/anaconda3/lib/python3.7/site-packages/tensorboard/compat/tensorflow_stub/dtypes.py:545: FutureWarning: Passing (type, 1) or '1type' as a synonym of type is deprecated; in a future version of numpy, it will be understood as (type, (1,)) / '(1,)type'.\n",
      "  _np_qint32 = np.dtype([(\"qint32\", np.int32, 1)])\n",
      "/usr/local/anaconda3/lib/python3.7/site-packages/tensorboard/compat/tensorflow_stub/dtypes.py:550: FutureWarning: Passing (type, 1) or '1type' as a synonym of type is deprecated; in a future version of numpy, it will be understood as (type, (1,)) / '(1,)type'.\n",
      "  np_resource = np.dtype([(\"resource\", np.ubyte, 1)])\n"
     ]
    },
    {
     "name": "stdout",
     "output_type": "stream",
     "text": [
      "WARNING:tensorflow:From /usr/local/anaconda3/lib/python3.7/site-packages/keras/backend/tensorflow_backend.py:497: The name tf.placeholder is deprecated. Please use tf.compat.v1.placeholder instead.\n",
      "\n",
      "WARNING:tensorflow:From /usr/local/anaconda3/lib/python3.7/site-packages/keras/backend/tensorflow_backend.py:64: The name tf.get_default_graph is deprecated. Please use tf.compat.v1.get_default_graph instead.\n",
      "\n",
      "WARNING:tensorflow:From /usr/local/anaconda3/lib/python3.7/site-packages/keras/backend/tensorflow_backend.py:3636: The name tf.random_uniform is deprecated. Please use tf.random.uniform instead.\n",
      "\n",
      "WARNING:tensorflow:From /usr/local/anaconda3/lib/python3.7/site-packages/keras/backend/tensorflow_backend.py:1247: calling reduce_sum_v1 (from tensorflow.python.ops.math_ops) with keep_dims is deprecated and will be removed in a future version.\n",
      "Instructions for updating:\n",
      "keep_dims is deprecated, use keepdims instead\n",
      "WARNING:tensorflow:From /usr/local/anaconda3/lib/python3.7/site-packages/keras/backend/tensorflow_backend.py:1213: calling reduce_max_v1 (from tensorflow.python.ops.math_ops) with keep_dims is deprecated and will be removed in a future version.\n",
      "Instructions for updating:\n",
      "keep_dims is deprecated, use keepdims instead\n",
      "WARNING:tensorflow:From /usr/local/anaconda3/lib/python3.7/site-packages/keras/optimizers.py:711: The name tf.train.Optimizer is deprecated. Please use tf.compat.v1.train.Optimizer instead.\n",
      "\n",
      "WARNING:tensorflow:From /usr/local/anaconda3/lib/python3.7/site-packages/keras/backend/tensorflow_backend.py:2889: The name tf.log is deprecated. Please use tf.math.log instead.\n",
      "\n",
      "__________________________________________________________________________________________________\n",
      "Layer (type)                    Output Shape         Param #     Connected to                     \n",
      "==================================================================================================\n",
      "Word2Vec (InputLayer)           (None, 120)          0                                            \n",
      "__________________________________________________________________________________________________\n",
      "embedding_1 (Embedding)         (None, 120, 300)     1800000     Word2Vec[0][0]                   \n",
      "__________________________________________________________________________________________________\n",
      "bidirectional_1 (Bidirectional) (None, 120, 64)      63936       embedding_1[0][0]                \n",
      "__________________________________________________________________________________________________\n",
      "global_average_pooling1d_1 (Glo (None, 64)           0           bidirectional_1[0][0]            \n",
      "__________________________________________________________________________________________________\n",
      "global_max_pooling1d_1 (GlobalM (None, 64)           0           bidirectional_1[0][0]            \n",
      "__________________________________________________________________________________________________\n",
      "concatenate_1 (Concatenate)     (None, 128)          0           global_average_pooling1d_1[0][0] \n",
      "                                                                 global_max_pooling1d_1[0][0]     \n",
      "__________________________________________________________________________________________________\n",
      "dense_1 (Dense)                 (None, 32)           4128        concatenate_1[0][0]              \n",
      "__________________________________________________________________________________________________\n",
      "dense_2 (Dense)                 (None, 2)            66          dense_1[0][0]                    \n",
      "==================================================================================================\n",
      "Total params: 1,868,130\n",
      "Trainable params: 68,130\n",
      "Non-trainable params: 1,800,000\n",
      "__________________________________________________________________________________________________\n"
     ]
    }
   ],
   "source": [
    "from TextModels import BiGRU\n",
    "from train import train\n",
    "\n",
    "model = BiGRU(max_sequence_length=120, embedding_matrix=we_emb_matrix).model\n",
    "model.summary()"
   ]
  },
  {
   "cell_type": "code",
   "execution_count": 6,
   "metadata": {},
   "outputs": [
    {
     "name": "stdout",
     "output_type": "stream",
     "text": [
      "Train on 32193 samples, validate on 1613 samples\n",
      "Epoch 1/100\n",
      "32193/32193 [==============================] - 33s 1ms/step - loss: 0.5006 - acc: 0.8848 - val_loss: 0.7455 - val_acc: 0.6851\n",
      "Epoch 2/100\n",
      "32193/32193 [==============================] - 30s 919us/step - loss: 0.1994 - acc: 0.9535 - val_loss: 0.6789 - val_acc: 0.7142\n",
      "Epoch 3/100\n",
      "32193/32193 [==============================] - 29s 907us/step - loss: 0.1404 - acc: 0.9672 - val_loss: 0.6813 - val_acc: 0.7285\n",
      "Epoch 4/100\n",
      "32193/32193 [==============================] - 29s 906us/step - loss: 0.1129 - acc: 0.9756 - val_loss: 0.8573 - val_acc: 0.6956\n",
      "Epoch 5/100\n",
      "32193/32193 [==============================] - 29s 895us/step - loss: 0.0957 - acc: 0.9806 - val_loss: 0.7097 - val_acc: 0.7402\n",
      "Epoch 6/100\n",
      "32193/32193 [==============================] - 29s 903us/step - loss: 0.0817 - acc: 0.9856 - val_loss: 0.8559 - val_acc: 0.7210\n",
      "Epoch 7/100\n",
      "32193/32193 [==============================] - 29s 902us/step - loss: 0.0710 - acc: 0.9879 - val_loss: 0.9078 - val_acc: 0.7111\n",
      "Epoch 8/100\n",
      "32193/32193 [==============================] - 29s 893us/step - loss: 0.0653 - acc: 0.9891 - val_loss: 1.1023 - val_acc: 0.7117\n",
      "Epoch 9/100\n",
      "32193/32193 [==============================] - 29s 898us/step - loss: 0.0597 - acc: 0.9904 - val_loss: 0.8069 - val_acc: 0.7446\n",
      "Epoch 10/100\n",
      "32193/32193 [==============================] - 29s 904us/step - loss: 0.0536 - acc: 0.9927 - val_loss: 0.7134 - val_acc: 0.7669\n",
      "Epoch 11/100\n",
      "32193/32193 [==============================] - 29s 894us/step - loss: 0.0507 - acc: 0.9937 - val_loss: 0.8457 - val_acc: 0.7489\n",
      "Epoch 12/100\n",
      "32193/32193 [==============================] - 29s 899us/step - loss: 0.0489 - acc: 0.9934 - val_loss: 0.8617 - val_acc: 0.7347\n",
      "Epoch 13/100\n",
      "32193/32193 [==============================] - 29s 897us/step - loss: 0.0442 - acc: 0.9957 - val_loss: 1.0332 - val_acc: 0.7297\n",
      "Epoch 14/100\n",
      "32193/32193 [==============================] - 29s 892us/step - loss: 0.0419 - acc: 0.9957 - val_loss: 0.8672 - val_acc: 0.7520\n",
      "Epoch 15/100\n",
      "32193/32193 [==============================] - 29s 894us/step - loss: 0.0374 - acc: 0.9972 - val_loss: 1.3775 - val_acc: 0.6857\n",
      "Epoch 16/100\n",
      "32193/32193 [==============================] - 29s 897us/step - loss: 0.0406 - acc: 0.9952 - val_loss: 0.7507 - val_acc: 0.7836\n",
      "Epoch 17/100\n",
      "32193/32193 [==============================] - 29s 897us/step - loss: 0.0439 - acc: 0.9947 - val_loss: 0.8114 - val_acc: 0.7688\n",
      "Epoch 18/100\n",
      "32193/32193 [==============================] - 29s 896us/step - loss: 0.0369 - acc: 0.9964 - val_loss: 0.9458 - val_acc: 0.7328\n",
      "Epoch 19/100\n",
      "32193/32193 [==============================] - 29s 894us/step - loss: 0.0343 - acc: 0.9971 - val_loss: 1.3231 - val_acc: 0.6956\n",
      "Epoch 20/100\n",
      "32193/32193 [==============================] - 29s 901us/step - loss: 0.0342 - acc: 0.9968 - val_loss: 0.7936 - val_acc: 0.7557\n",
      "Epoch 21/100\n",
      "32193/32193 [==============================] - 29s 891us/step - loss: 0.0356 - acc: 0.9973 - val_loss: 0.9112 - val_acc: 0.7514\n",
      "Epoch 22/100\n",
      "32193/32193 [==============================] - 29s 900us/step - loss: 0.0311 - acc: 0.9975 - val_loss: 1.1242 - val_acc: 0.7309\n",
      "Epoch 23/100\n",
      "32193/32193 [==============================] - 29s 894us/step - loss: 0.0323 - acc: 0.9973 - val_loss: 1.0932 - val_acc: 0.7285\n",
      "Epoch 24/100\n",
      "32193/32193 [==============================] - 29s 892us/step - loss: 0.0718 - acc: 0.9861 - val_loss: 1.2363 - val_acc: 0.6534\n",
      "Epoch 25/100\n",
      "32193/32193 [==============================] - 29s 896us/step - loss: 0.0581 - acc: 0.9921 - val_loss: 0.8731 - val_acc: 0.7303\n",
      "Epoch 26/100\n",
      "32193/32193 [==============================] - 29s 896us/step - loss: 0.0399 - acc: 0.9971 - val_loss: 1.2673 - val_acc: 0.6931\n",
      "Epoch 00026: early stopping\n"
     ]
    },
    {
     "data": {
      "image/png": "[encoded data removed]",
      "text/plain": [
       "<Figure size 432x288 with 1 Axes>"
      ]
     },
     "metadata": {
      "needs_background": "light"
     },
     "output_type": "display_data"
    },
    {
     "ename": "ValueError",
     "evalue": "Classification metrics can't handle a mix of multilabel-indicator and binary targets",
     "output_type": "error",
     "traceback": [
      "\u001b[0;31m---------------------------------------------------------------------------\u001b[0m",
      "\u001b[0;31mValueError\u001b[0m                                Traceback (most recent call last)",
      "\u001b[0;32m<ipython-input-6-eab2b04cb172>\u001b[0m in \u001b[0;36m<module>\u001b[0;34m\u001b[0m\n\u001b[1;32m      9\u001b[0m train(model, model_name='BiGRU', \n\u001b[1;32m     10\u001b[0m       \u001b[0mtrain_data\u001b[0m\u001b[0;34m=\u001b[0m\u001b[0mX_train\u001b[0m\u001b[0;34m,\u001b[0m \u001b[0mtest_data\u001b[0m\u001b[0;34m=\u001b[0m\u001b[0mX_test\u001b[0m\u001b[0;34m,\u001b[0m\u001b[0;34m\u001b[0m\u001b[0;34m\u001b[0m\u001b[0m\n\u001b[0;32m---> 11\u001b[0;31m       train_label=y_train, test_label=y_test, epochs=100, batch_size=128)\n\u001b[0m",
      "\u001b[0;32m~/MM-Course/zhangxueyao/models/train.py\u001b[0m in \u001b[0;36mtrain\u001b[0;34m(model, model_name, train_data, test_data, train_label, test_label, epochs, batch_size, early_stop, error_analysis)\u001b[0m\n\u001b[1;32m     63\u001b[0m         \u001b[0mpredict_error_analysis\u001b[0m\u001b[0;34m(\u001b[0m\u001b[0mmodel\u001b[0m\u001b[0;34m,\u001b[0m \u001b[0mmodel_file\u001b[0m\u001b[0;34m,\u001b[0m \u001b[0mmodel_name\u001b[0m\u001b[0;34m,\u001b[0m \u001b[0mtest_data\u001b[0m\u001b[0;34m,\u001b[0m \u001b[0mtest_label\u001b[0m\u001b[0;34m)\u001b[0m\u001b[0;34m\u001b[0m\u001b[0;34m\u001b[0m\u001b[0m\n\u001b[1;32m     64\u001b[0m     \u001b[0;32melse\u001b[0m\u001b[0;34m:\u001b[0m\u001b[0;34m\u001b[0m\u001b[0;34m\u001b[0m\u001b[0m\n\u001b[0;32m---> 65\u001b[0;31m         \u001b[0mpredict\u001b[0m\u001b[0;34m(\u001b[0m\u001b[0mmodel\u001b[0m\u001b[0;34m,\u001b[0m \u001b[0mmodel_file\u001b[0m\u001b[0;34m,\u001b[0m \u001b[0mtest_data\u001b[0m\u001b[0;34m,\u001b[0m \u001b[0mtest_label\u001b[0m\u001b[0;34m)\u001b[0m\u001b[0;34m\u001b[0m\u001b[0;34m\u001b[0m\u001b[0m\n\u001b[0m\u001b[1;32m     66\u001b[0m \u001b[0;34m\u001b[0m\u001b[0m\n\u001b[1;32m     67\u001b[0m \u001b[0;34m\u001b[0m\u001b[0m\n",
      "\u001b[0;32m~/MM-Course/zhangxueyao/models/train.py\u001b[0m in \u001b[0;36mpredict\u001b[0;34m(model, model_file, test_data, test_label)\u001b[0m\n\u001b[1;32m     74\u001b[0m     \u001b[0my_pred_label\u001b[0m\u001b[0;34m[\u001b[0m\u001b[0my_pred_label\u001b[0m \u001b[0;34m<=\u001b[0m \u001b[0;36m0.5\u001b[0m\u001b[0;34m]\u001b[0m \u001b[0;34m=\u001b[0m \u001b[0;36m0\u001b[0m\u001b[0;34m\u001b[0m\u001b[0;34m\u001b[0m\u001b[0m\n\u001b[1;32m     75\u001b[0m \u001b[0;34m\u001b[0m\u001b[0m\n\u001b[0;32m---> 76\u001b[0;31m     \u001b[0maccuracy\u001b[0m \u001b[0;34m=\u001b[0m \u001b[0maccuracy_score\u001b[0m\u001b[0;34m(\u001b[0m\u001b[0mtest_label\u001b[0m\u001b[0;34m,\u001b[0m \u001b[0my_pred_label\u001b[0m\u001b[0;34m)\u001b[0m\u001b[0;34m\u001b[0m\u001b[0;34m\u001b[0m\u001b[0m\n\u001b[0m\u001b[1;32m     77\u001b[0m \u001b[0;34m\u001b[0m\u001b[0m\n\u001b[1;32m     78\u001b[0m     \u001b[0mprint\u001b[0m\u001b[0;34m(\u001b[0m\u001b[0;34m)\u001b[0m\u001b[0;34m\u001b[0m\u001b[0;34m\u001b[0m\u001b[0m\n",
      "\u001b[0;32m/usr/local/anaconda3/lib/python3.7/site-packages/sklearn/metrics/classification.py\u001b[0m in \u001b[0;36maccuracy_score\u001b[0;34m(y_true, y_pred, normalize, sample_weight)\u001b[0m\n\u001b[1;32m    174\u001b[0m \u001b[0;34m\u001b[0m\u001b[0m\n\u001b[1;32m    175\u001b[0m     \u001b[0;31m# Compute accuracy for each possible representation\u001b[0m\u001b[0;34m\u001b[0m\u001b[0;34m\u001b[0m\u001b[0;34m\u001b[0m\u001b[0m\n\u001b[0;32m--> 176\u001b[0;31m     \u001b[0my_type\u001b[0m\u001b[0;34m,\u001b[0m \u001b[0my_true\u001b[0m\u001b[0;34m,\u001b[0m \u001b[0my_pred\u001b[0m \u001b[0;34m=\u001b[0m \u001b[0m_check_targets\u001b[0m\u001b[0;34m(\u001b[0m\u001b[0my_true\u001b[0m\u001b[0;34m,\u001b[0m \u001b[0my_pred\u001b[0m\u001b[0;34m)\u001b[0m\u001b[0;34m\u001b[0m\u001b[0;34m\u001b[0m\u001b[0m\n\u001b[0m\u001b[1;32m    177\u001b[0m     \u001b[0mcheck_consistent_length\u001b[0m\u001b[0;34m(\u001b[0m\u001b[0my_true\u001b[0m\u001b[0;34m,\u001b[0m \u001b[0my_pred\u001b[0m\u001b[0;34m,\u001b[0m \u001b[0msample_weight\u001b[0m\u001b[0;34m)\u001b[0m\u001b[0;34m\u001b[0m\u001b[0;34m\u001b[0m\u001b[0m\n\u001b[1;32m    178\u001b[0m     \u001b[0;32mif\u001b[0m \u001b[0my_type\u001b[0m\u001b[0;34m.\u001b[0m\u001b[0mstartswith\u001b[0m\u001b[0;34m(\u001b[0m\u001b[0;34m'multilabel'\u001b[0m\u001b[0;34m)\u001b[0m\u001b[0;34m:\u001b[0m\u001b[0;34m\u001b[0m\u001b[0;34m\u001b[0m\u001b[0m\n",
      "\u001b[0;32m/usr/local/anaconda3/lib/python3.7/site-packages/sklearn/metrics/classification.py\u001b[0m in \u001b[0;36m_check_targets\u001b[0;34m(y_true, y_pred)\u001b[0m\n\u001b[1;32m     79\u001b[0m     \u001b[0;32mif\u001b[0m \u001b[0mlen\u001b[0m\u001b[0;34m(\u001b[0m\u001b[0my_type\u001b[0m\u001b[0;34m)\u001b[0m \u001b[0;34m>\u001b[0m \u001b[0;36m1\u001b[0m\u001b[0;34m:\u001b[0m\u001b[0;34m\u001b[0m\u001b[0;34m\u001b[0m\u001b[0m\n\u001b[1;32m     80\u001b[0m         raise ValueError(\"Classification metrics can't handle a mix of {0} \"\n\u001b[0;32m---> 81\u001b[0;31m                          \"and {1} targets\".format(type_true, type_pred))\n\u001b[0m\u001b[1;32m     82\u001b[0m \u001b[0;34m\u001b[0m\u001b[0m\n\u001b[1;32m     83\u001b[0m     \u001b[0;31m# We can't have more than one value on y_type => The set is no more needed\u001b[0m\u001b[0;34m\u001b[0m\u001b[0;34m\u001b[0m\u001b[0;34m\u001b[0m\u001b[0m\n",
      "\u001b[0;31mValueError\u001b[0m: Classification metrics can't handle a mix of multilabel-indicator and binary targets"
     ]
    }
   ],
   "source": [
    "# 1.修改输入数据\n",
    "X_train = [train_we]\n",
    "X_test = [test_we]\n",
    "\n",
    "# 2.修改model\n",
    "model = BiGRU(max_sequence_length=120, embedding_matrix=we_emb_matrix).model\n",
    "\n",
    "# 3.修改model_name、超参数\n",
    "train(model, model_name='BiGRU', \n",
    "      train_data=X_train, test_data=X_test,\n",
    "      train_label=y_train, test_label=y_test, epochs=100, batch_size=128)"
   ]
  },
  {
   "cell_type": "code",
   "execution_count": 4,
   "metadata": {},
   "outputs": [
    {
     "name": "stdout",
     "output_type": "stream",
     "text": [
      "WARNING:tensorflow:From /usr/local/anaconda3/lib/python3.7/site-packages/keras/backend/tensorflow_backend.py:159: The name tf.get_default_session is deprecated. Please use tf.compat.v1.get_default_session instead.\n",
      "\n",
      "\n",
      "TEST_sz: 1613\n",
      "\n",
      "Accuracy: 0.7836329820210788\n",
      "\n",
      "              precision    recall  f1-score   support\n",
      "\n",
      "       truth      0.742     0.934     0.827       891\n",
      "       rumor      0.880     0.598     0.712       722\n",
      "\n",
      "   micro avg      0.784     0.784     0.784      1613\n",
      "   macro avg      0.811     0.766     0.769      1613\n",
      "weighted avg      0.803     0.784     0.775      1613\n",
      " samples avg      0.784     0.784     0.784      1613\n",
      "\n",
      "\n"
     ]
    },
    {
     "data": {
      "text/plain": [
       "array([[0.96468985, 0.03531018],\n",
       "       [0.9985771 , 0.00142282],\n",
       "       [0.995261  , 0.00473902],\n",
       "       ...,\n",
       "       [0.21726112, 0.78273886],\n",
       "       [0.3283201 , 0.6716799 ],\n",
       "       [0.08903226, 0.9109677 ]], dtype=float32)"
      ]
     },
     "execution_count": 4,
     "metadata": {},
     "output_type": "execute_result"
    }
   ],
   "source": [
    "from train import predict\n",
    "\n",
    "predict(model, model_file='./model/BiGRU.hdf5', test_data=test_we, test_label=y_test)"
   ]
  },
  {
   "cell_type": "code",
   "execution_count": null,
   "metadata": {},
   "outputs": [],
   "source": []
  }
 ],
 "metadata": {
  "kernelspec": {
   "display_name": "Python 3",
   "language": "python",
   "name": "python3"
  },
  "language_info": {
   "codemirror_mode": {
    "name": "ipython",
    "version": 3
   },
   "file_extension": ".py",
   "mimetype": "text/x-python",
   "name": "python",
   "nbconvert_exporter": "python",
   "pygments_lexer": "ipython3",
   "version": "3.7.4"
  },
  "toc": {
   "base_numbering": 1,
   "nav_menu": {},
   "number_sections": true,
   "sideBar": true,
   "skip_h1_title": false,
   "title_cell": "Table of Contents",
   "title_sidebar": "Contents",
   "toc_cell": false,
   "toc_position": {},
   "toc_section_display": true,
   "toc_window_display": true
  }
 },
 "nbformat": 4,
 "nbformat_minor": 2
}
