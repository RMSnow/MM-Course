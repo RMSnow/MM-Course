{
 "cells": [
  {
   "cell_type": "markdown",
   "metadata": {},
   "source": [
    "# 数据加载"
   ]
  },
  {
   "cell_type": "code",
   "execution_count": 1,
   "metadata": {},
   "outputs": [
    {
     "data": {
      "text/plain": [
       "((32193, 120), (1613, 120), (32193, 2), (1613, 2))"
      ]
     },
     "execution_count": 1,
     "metadata": {},
     "output_type": "execute_result"
    }
   ],
   "source": [
    "import numpy as np\n",
    "import os\n",
    "# os.environ[\"CUDA_VISIBLE_DEVICES\"] = \"1\"\n",
    "\n",
    "os.environ[\"CUDA_DEVICE_ORDER\"] = \"PCI_BUS_ID\"\n",
    "os.environ[\"CUDA_VISIBLE_DEVICES\"] = \"-1\"\n",
    "\n",
    "train_we = np.load('../Semantics/data/train_we_(32193, 120).npy')\n",
    "test_we = np.load('../Semantics/data/test_we_(1613, 120).npy')\n",
    "we_emb_matrix = np.load(\n",
    "    '../Semantics/data/we_embedding_matrix_(6000, 300).npy')\n",
    "\n",
    "y_fake_train = np.load('../dataset/data/train_label_(32193, 2).npy')\n",
    "y_fake_test = np.load('../dataset/data/test_label_(1613, 2).npy')\n",
    "\n",
    "train_we.shape, test_we.shape, y_fake_train.shape, y_fake_test.shape"
   ]
  },
  {
   "cell_type": "code",
   "execution_count": 2,
   "metadata": {},
   "outputs": [
    {
     "name": "stderr",
     "output_type": "stream",
     "text": [
      "Using TensorFlow backend.\n",
      "/usr/local/anaconda3/lib/python3.7/site-packages/tensorflow/python/framework/dtypes.py:516: FutureWarning: Passing (type, 1) or '1type' as a synonym of type is deprecated; in a future version of numpy, it will be understood as (type, (1,)) / '(1,)type'.\n",
      "  _np_qint8 = np.dtype([(\"qint8\", np.int8, 1)])\n",
      "/usr/local/anaconda3/lib/python3.7/site-packages/tensorflow/python/framework/dtypes.py:517: FutureWarning: Passing (type, 1) or '1type' as a synonym of type is deprecated; in a future version of numpy, it will be understood as (type, (1,)) / '(1,)type'.\n",
      "  _np_quint8 = np.dtype([(\"quint8\", np.uint8, 1)])\n",
      "/usr/local/anaconda3/lib/python3.7/site-packages/tensorflow/python/framework/dtypes.py:518: FutureWarning: Passing (type, 1) or '1type' as a synonym of type is deprecated; in a future version of numpy, it will be understood as (type, (1,)) / '(1,)type'.\n",
      "  _np_qint16 = np.dtype([(\"qint16\", np.int16, 1)])\n",
      "/usr/local/anaconda3/lib/python3.7/site-packages/tensorflow/python/framework/dtypes.py:519: FutureWarning: Passing (type, 1) or '1type' as a synonym of type is deprecated; in a future version of numpy, it will be understood as (type, (1,)) / '(1,)type'.\n",
      "  _np_quint16 = np.dtype([(\"quint16\", np.uint16, 1)])\n",
      "/usr/local/anaconda3/lib/python3.7/site-packages/tensorflow/python/framework/dtypes.py:520: FutureWarning: Passing (type, 1) or '1type' as a synonym of type is deprecated; in a future version of numpy, it will be understood as (type, (1,)) / '(1,)type'.\n",
      "  _np_qint32 = np.dtype([(\"qint32\", np.int32, 1)])\n",
      "/usr/local/anaconda3/lib/python3.7/site-packages/tensorflow/python/framework/dtypes.py:525: FutureWarning: Passing (type, 1) or '1type' as a synonym of type is deprecated; in a future version of numpy, it will be understood as (type, (1,)) / '(1,)type'.\n",
      "  np_resource = np.dtype([(\"resource\", np.ubyte, 1)])\n",
      "/usr/local/anaconda3/lib/python3.7/site-packages/tensorboard/compat/tensorflow_stub/dtypes.py:541: FutureWarning: Passing (type, 1) or '1type' as a synonym of type is deprecated; in a future version of numpy, it will be understood as (type, (1,)) / '(1,)type'.\n",
      "  _np_qint8 = np.dtype([(\"qint8\", np.int8, 1)])\n",
      "/usr/local/anaconda3/lib/python3.7/site-packages/tensorboard/compat/tensorflow_stub/dtypes.py:542: FutureWarning: Passing (type, 1) or '1type' as a synonym of type is deprecated; in a future version of numpy, it will be understood as (type, (1,)) / '(1,)type'.\n",
      "  _np_quint8 = np.dtype([(\"quint8\", np.uint8, 1)])\n",
      "/usr/local/anaconda3/lib/python3.7/site-packages/tensorboard/compat/tensorflow_stub/dtypes.py:543: FutureWarning: Passing (type, 1) or '1type' as a synonym of type is deprecated; in a future version of numpy, it will be understood as (type, (1,)) / '(1,)type'.\n",
      "  _np_qint16 = np.dtype([(\"qint16\", np.int16, 1)])\n",
      "/usr/local/anaconda3/lib/python3.7/site-packages/tensorboard/compat/tensorflow_stub/dtypes.py:544: FutureWarning: Passing (type, 1) or '1type' as a synonym of type is deprecated; in a future version of numpy, it will be understood as (type, (1,)) / '(1,)type'.\n",
      "  _np_quint16 = np.dtype([(\"quint16\", np.uint16, 1)])\n",
      "/usr/local/anaconda3/lib/python3.7/site-packages/tensorboard/compat/tensorflow_stub/dtypes.py:545: FutureWarning: Passing (type, 1) or '1type' as a synonym of type is deprecated; in a future version of numpy, it will be understood as (type, (1,)) / '(1,)type'.\n",
      "  _np_qint32 = np.dtype([(\"qint32\", np.int32, 1)])\n",
      "/usr/local/anaconda3/lib/python3.7/site-packages/tensorboard/compat/tensorflow_stub/dtypes.py:550: FutureWarning: Passing (type, 1) or '1type' as a synonym of type is deprecated; in a future version of numpy, it will be understood as (type, (1,)) / '(1,)type'.\n",
      "  np_resource = np.dtype([(\"resource\", np.ubyte, 1)])\n"
     ]
    }
   ],
   "source": [
    "two_branches_attention_file = './model/Branches_Balanced3_BiGRU_TwoBranches_attention2.hdf5'\n",
    "\n",
    "from keras import backend as K\n",
    "\n",
    "\n",
    "def get_layer_output(model, x, index=-1):\n",
    "    \"\"\"\n",
    "    get the computing result output of any layer you want, default the last layer.\n",
    "    :param model: primary model\n",
    "    :param x: input of primary model( x of model.predict([x])[0])\n",
    "    :param index: index of target layer, i.e., layer[23]\n",
    "    :return: result\n",
    "    \"\"\"\n",
    "    layer = K.function([model.input], [model.layers[index].output])\n",
    "    return layer([x])[0]"
   ]
  },
  {
   "cell_type": "code",
   "execution_count": 3,
   "metadata": {},
   "outputs": [
    {
     "name": "stdout",
     "output_type": "stream",
     "text": [
      "WARNING:tensorflow:From /usr/local/anaconda3/lib/python3.7/site-packages/keras/backend/tensorflow_backend.py:497: The name tf.placeholder is deprecated. Please use tf.compat.v1.placeholder instead.\n",
      "\n",
      "WARNING:tensorflow:From /usr/local/anaconda3/lib/python3.7/site-packages/keras/backend/tensorflow_backend.py:64: The name tf.get_default_graph is deprecated. Please use tf.compat.v1.get_default_graph instead.\n",
      "\n",
      "WARNING:tensorflow:From /usr/local/anaconda3/lib/python3.7/site-packages/keras/backend/tensorflow_backend.py:3636: The name tf.random_uniform is deprecated. Please use tf.random.uniform instead.\n",
      "\n",
      "WARNING:tensorflow:From /usr/local/anaconda3/lib/python3.7/site-packages/keras/backend/tensorflow_backend.py:1247: calling reduce_sum_v1 (from tensorflow.python.ops.math_ops) with keep_dims is deprecated and will be removed in a future version.\n",
      "Instructions for updating:\n",
      "keep_dims is deprecated, use keepdims instead\n",
      "WARNING:tensorflow:From /usr/local/anaconda3/lib/python3.7/site-packages/keras/backend/tensorflow_backend.py:1213: calling reduce_max_v1 (from tensorflow.python.ops.math_ops) with keep_dims is deprecated and will be removed in a future version.\n",
      "Instructions for updating:\n",
      "keep_dims is deprecated, use keepdims instead\n",
      "WARNING:tensorflow:From /usr/local/anaconda3/lib/python3.7/site-packages/keras/optimizers.py:711: The name tf.train.Optimizer is deprecated. Please use tf.compat.v1.train.Optimizer instead.\n",
      "\n",
      "WARNING:tensorflow:From /usr/local/anaconda3/lib/python3.7/site-packages/keras/backend/tensorflow_backend.py:2889: The name tf.log is deprecated. Please use tf.math.log instead.\n",
      "\n",
      "WARNING:tensorflow:From /usr/local/anaconda3/lib/python3.7/site-packages/keras/backend/tensorflow_backend.py:159: The name tf.get_default_session is deprecated. Please use tf.compat.v1.get_default_session instead.\n",
      "\n"
     ]
    },
    {
     "name": "stderr",
     "output_type": "stream",
     "text": [
      "/usr/local/anaconda3/lib/python3.7/site-packages/keras/engine/topology.py:622: UserWarning: Class `GradientReversal.GradientReversal` defines `get_output_shape_for` but does not override `compute_output_shape`. If this is a Keras 1 layer, please implement `compute_output_shape` to support Keras 2.\n",
      "  output_shape = self.compute_output_shape(input_shape)\n"
     ]
    },
    {
     "name": "stdout",
     "output_type": "stream",
     "text": [
      "__________________________________________________________________________________________________\n",
      "Layer (type)                    Output Shape         Param #     Connected to                     \n",
      "==================================================================================================\n",
      "Word2Vec (InputLayer)           (None, 120)          0                                            \n",
      "__________________________________________________________________________________________________\n",
      "embedding_3 (Embedding)         (None, 120, 300)     1800000     Word2Vec[0][0]                   \n",
      "__________________________________________________________________________________________________\n",
      "bidirectional_3 (Bidirectional) (None, 120, 64)      63936       embedding_3[0][0]                \n",
      "__________________________________________________________________________________________________\n",
      "global_average_pooling1d_3 (Glo (None, 64)           0           bidirectional_3[0][0]            \n",
      "__________________________________________________________________________________________________\n",
      "global_max_pooling1d_3 (GlobalM (None, 64)           0           bidirectional_3[0][0]            \n",
      "__________________________________________________________________________________________________\n",
      "concatenate_3 (Concatenate)     (None, 128)          0           global_average_pooling1d_3[0][0] \n",
      "                                                                 global_max_pooling1d_3[0][0]     \n",
      "__________________________________________________________________________________________________\n",
      "related_branch (Dense)          (None, 32)           4128        concatenate_3[0][0]              \n",
      "__________________________________________________________________________________________________\n",
      "unrelated_branch (Dense)        (None, 32)           4128        concatenate_3[0][0]              \n",
      "__________________________________________________________________________________________________\n",
      "reshape_1 (Reshape)             (None, 1, 32)        0           related_branch[0][0]             \n",
      "__________________________________________________________________________________________________\n",
      "reshape_2 (Reshape)             (None, 1, 32)        0           unrelated_branch[0][0]           \n",
      "__________________________________________________________________________________________________\n",
      "two_branches (Concatenate)      (None, 2, 32)        0           reshape_1[0][0]                  \n",
      "                                                                 reshape_2[0][0]                  \n",
      "__________________________________________________________________________________________________\n",
      "two_branches_attention (SelfAtt (None, 32)           32          two_branches[0][0]               \n",
      "__________________________________________________________________________________________________\n",
      "dense_3 (Dense)                 (None, 2)            66          two_branches_attention[0][0]     \n",
      "==================================================================================================\n",
      "Total params: 1,872,290\n",
      "Trainable params: 64,034\n",
      "Non-trainable params: 1,808,256\n",
      "__________________________________________________________________________________________________\n"
     ]
    }
   ],
   "source": [
    "from TextModels import BiGRU\n",
    "from TextTransferModels import TwoBranchesBiGRU\n",
    "\n",
    "related_model = BiGRU(max_sequence_length=120, embedding_matrix=we_emb_matrix,\n",
    "                      output=3, gradient_reversal=False).model\n",
    "unrelated_model = BiGRU(max_sequence_length=120, embedding_matrix=we_emb_matrix,\n",
    "                        output=3, gradient_reversal=True).model\n",
    "\n",
    "related_model.load_weights(\n",
    "    './model/Branches_Balanced3_BiGRU_RelatedBranch_useClassWeight.hdf5')\n",
    "unrelated_model.load_weights(\n",
    "    './model/Branches_Balanced3_BiGRU_UnrelatedBranch_useClassWeight.hdf5')\n",
    "\n",
    "model = TwoBranchesBiGRU(max_sequence_length=120, embedding_matrix=we_emb_matrix,\n",
    "                         related_branch_layer=related_model.get_layer(\n",
    "                             'category_branch'),\n",
    "                         unrelated_branch_layer=unrelated_model.get_layer(\n",
    "                             'category_branch'),\n",
    "                         fusion_mode='attention').model\n",
    "\n",
    "model.load_weights(two_branches_attention_file)\n",
    "model.summary()"
   ]
  },
  {
   "cell_type": "markdown",
   "metadata": {},
   "source": [
    "## TwoBranches 层的输出"
   ]
  },
  {
   "cell_type": "code",
   "execution_count": 4,
   "metadata": {},
   "outputs": [
    {
     "data": {
      "text/plain": [
       "<keras.engine.training.Model at 0x7f760c40c910>"
      ]
     },
     "execution_count": 4,
     "metadata": {},
     "output_type": "execute_result"
    }
   ],
   "source": [
    "model"
   ]
  },
  {
   "cell_type": "code",
   "execution_count": 6,
   "metadata": {},
   "outputs": [
    {
     "data": {
      "text/plain": [
       "(32193, 2, 32)"
      ]
     },
     "execution_count": 6,
     "metadata": {},
     "output_type": "execute_result"
    }
   ],
   "source": [
    "two_branches_train = get_layer_output(model, train_we, index=-3)\n",
    "two_branches_train.shape"
   ]
  },
  {
   "cell_type": "code",
   "execution_count": 5,
   "metadata": {},
   "outputs": [
    {
     "data": {
      "text/plain": [
       "(1613, 2, 32)"
      ]
     },
     "execution_count": 5,
     "metadata": {},
     "output_type": "execute_result"
    }
   ],
   "source": [
    "two_branches_test = get_layer_output(model, test_we, index=-3)\n",
    "two_branches_test.shape"
   ]
  },
  {
   "cell_type": "markdown",
   "metadata": {},
   "source": [
    "## SelfAtt 层的权重"
   ]
  },
  {
   "cell_type": "code",
   "execution_count": 7,
   "metadata": {},
   "outputs": [
    {
     "data": {
      "text/plain": [
       "(32,)"
      ]
     },
     "execution_count": 7,
     "metadata": {},
     "output_type": "execute_result"
    }
   ],
   "source": [
    "selfAtt_weights = model.get_layer('two_branches_attention').get_weights()[0]\n",
    "selfAtt_weights.shape"
   ]
  },
  {
   "cell_type": "markdown",
   "metadata": {},
   "source": [
    "## 计算attention的输出"
   ]
  },
  {
   "cell_type": "code",
   "execution_count": 8,
   "metadata": {},
   "outputs": [],
   "source": [
    "def get_attention(x, W):\n",
    "    e = np.exp(np.tanh(np.sum(x*W, axis=-1)))\n",
    "    a = e / np.expand_dims(np.sum(e, axis=1), axis=-1)\n",
    "    return a"
   ]
  },
  {
   "cell_type": "code",
   "execution_count": 9,
   "metadata": {},
   "outputs": [
    {
     "data": {
      "text/plain": [
       "(32193, 2)"
      ]
     },
     "execution_count": 9,
     "metadata": {},
     "output_type": "execute_result"
    }
   ],
   "source": [
    "attention_train = get_attention(two_branches_train, selfAtt_weights)\n",
    "attention_train.shape"
   ]
  },
  {
   "cell_type": "code",
   "execution_count": 10,
   "metadata": {},
   "outputs": [
    {
     "data": {
      "text/plain": [
       "(1613, 2)"
      ]
     },
     "execution_count": 10,
     "metadata": {},
     "output_type": "execute_result"
    }
   ],
   "source": [
    "attention_test = get_attention(two_branches_test, selfAtt_weights)\n",
    "attention_test.shape"
   ]
  },
  {
   "cell_type": "code",
   "execution_count": 11,
   "metadata": {},
   "outputs": [],
   "source": [
    "np.save('./analysis/attention_weights_train_{}.npy'.format(attention_train.shape), attention_train)\n",
    "np.save('./analysis/attention_weights_test_{}.npy'.format(attention_test.shape), attention_test)"
   ]
  },
  {
   "cell_type": "markdown",
   "metadata": {},
   "source": [
    "# Attention 分析"
   ]
  },
  {
   "cell_type": "code",
   "execution_count": 1,
   "metadata": {},
   "outputs": [],
   "source": [
    "import numpy as np\n",
    "import matplotlib.pyplot as plt\n",
    "import seaborn as sns\n",
    "import pandas as pd\n",
    "import json\n",
    "%matplotlib inline\n",
    "sns.set()"
   ]
  },
  {
   "cell_type": "code",
   "execution_count": 2,
   "metadata": {},
   "outputs": [
    {
     "data": {
      "text/plain": [
       "((32193, 2), (1613, 2))"
      ]
     },
     "execution_count": 2,
     "metadata": {},
     "output_type": "execute_result"
    }
   ],
   "source": [
    "attention_train = np.load('./analysis/attention_weights_train_(32193, 2).npy')\n",
    "attention_test = np.load('./analysis/attention_weights_test_(1613, 2).npy')\n",
    "attention_train.shape, attention_test.shape"
   ]
  },
  {
   "cell_type": "code",
   "execution_count": 3,
   "metadata": {},
   "outputs": [
    {
     "data": {
      "text/plain": [
       "(32193, 1613)"
      ]
     },
     "execution_count": 3,
     "metadata": {},
     "output_type": "execute_result"
    }
   ],
   "source": [
    "with open('../dataset/train.json', 'r') as f:\n",
    "    train = json.load(f)\n",
    "with open('../dataset/test.json', 'r') as f:\n",
    "    test = json.load(f)\n",
    "len(train), len(test)"
   ]
  },
  {
   "cell_type": "code",
   "execution_count": 4,
   "metadata": {},
   "outputs": [
    {
     "data": {
      "text/plain": [
       "{'category': '军事',\n",
       " 'category_label': 6,\n",
       " 'content': '战事一触即发？伊朗大规模海上军演向美示威，美将派更多军舰前往!!!!!|战事一触即...',\n",
       " 'content_words': '战事 一触即发 ？ 伊朗 大规模 海上 军演 向 美 示威 ， 美将 派 更 多 军舰 前往 ! ! ! ! ! | 战事 一触 即 ...',\n",
       " 'fake_label': 0}"
      ]
     },
     "execution_count": 4,
     "metadata": {},
     "output_type": "execute_result"
    }
   ],
   "source": [
    "test[0]"
   ]
  },
  {
   "cell_type": "code",
   "execution_count": 24,
   "metadata": {},
   "outputs": [],
   "source": [
    "def analysis_index(attention, analysis_num=5):\n",
    "    sort = attention[:, 0].argsort()\n",
    "    return sort[:analysis_num], sort[-1 * analysis_num:]"
   ]
  },
  {
   "cell_type": "markdown",
   "metadata": {},
   "source": [
    "## Test"
   ]
  },
  {
   "cell_type": "code",
   "execution_count": 41,
   "metadata": {},
   "outputs": [],
   "source": [
    "unrelated_top, related_top = analysis_index(attention_test, analysis_num=50)"
   ]
  },
  {
   "cell_type": "code",
   "execution_count": 42,
   "metadata": {},
   "outputs": [
    {
     "name": "stdout",
     "output_type": "stream",
     "text": [
      "index: 1182, related_weights = 0.8804444074630737, unrelated_weights = 0.11955558508634567\n",
      "#########################################################\n",
      "【政治】\n",
      "求证【到了拼老公的时代了！法院副院长？】北京朝阳门一带，一辆MINI，没驾驶证，多次违章，闯红灯，超速。差点把一位过马路老奶奶撞倒。交警拦下后该女子叫嚣老公是个非常有钱有权有势的XX领导！你知道我男人是谁吗？说出来吓死你们！有网友爆料：京M87187女车主的老公为北京市人民法院副院长赵航\n",
      "\n",
      "index: 1070, related_weights = 0.8804531097412109, unrelated_weights = 0.11954689025878906\n",
      "#########################################################\n",
      "【政治】\n",
      "人大代表杨澜终于承认自己是外国人了（图）|杨澜终于承认自己是美国国籍的人大代表了。她理直气壮地说——虽然我入了美国籍，但我出身于中国，所以从原产地角度而言，我不出席美国两会而出席中国的两会是天经地义的，这说明我更爱中\n",
      "\n",
      "index: 932, related_weights = 0.8804532289505005, unrelated_weights = 0.1195467859506607\n",
      "#########################################################\n",
      "【军事】\n",
      "2017年6月1日是我最伤心的一天，因为我父亲被凶手残忍的杀害。父亲是一位解放大西北和抗美援朝老革命军人，为了讨要残疾补助被打死在山西省临汾市襄汾县委办公楼前，至今一个多不立案，谁能站出来替老军人说一句话，又是谁要包庇凶手，我希望请网友帮忙转发，让更多人关注。女儿宋喜莲发。???//【黄磊为孙莉庆生一句饱含22年柔情的“宝贝”甜齁】，7月18日是孙莉40岁生日，老公黄磊晒老婆美照送上生日祝福，称：“宝贝，生日快乐！”并特意艾特孙莉，大秀恩爱。照片中，孙莉双手捧着大束的鲜花，眼睛微闭，幸福写在脸上！黄磊“这一声宝贝叫得那个酥”。嫁对了人，每天都是情人节！\n",
      "\n",
      "index: 696, related_weights = 0.8804562091827393, unrelated_weights = 0.11954376846551895\n",
      "#########################################################\n",
      "【军事】\n",
      "【罗马尼亚：一架战斗机坠毁，飞行员死亡】#TopCGTN#一架来自罗马尼亚空军的米格-21战斗机于7月7日在一次航展期间坠毁，飞行员丧生，但没有造成其他人员伤亡。造成该事故的具体原因尚未确定。对该事故的进一步调查已经开始。#TopCGTN#Roumanie:unaviondechasses'estécraséetlepiloteestdécédéUnchasseurMiG-21del'arméedel'Airroumaines'estécraséle7juilletlorsd'unspectacleaérienetsonpiloten'apassurvécu.LelieutenantFlorinRotaru，36ans，participaitauspectaclequisetenaitdanslarégiondeCalarasi，devantdesmilliersdespectateurs.L'accident，dontlescausesn'ontpasétédéterminéesdansl'immédiat，n'apasfaitd'autrevictime.Uneenquêtejudiciaireaétéouverte.\n",
      "\n",
      "index: 1383, related_weights = 0.8804630041122437, unrelated_weights = 0.11953701078891754\n",
      "#########################################################\n",
      "【政治】\n",
      "河北省审计厅厅长助理董建柱，正跟女部下偷欢，却被女部下的爱人堵在门外。情急之下，他冒险从女部下8楼的家中窗户爬出，手脚并用，沿管道从8楼下到1楼，裸体逃跑.。～董助理你这是为了命根子而不要命啊！店长和小伙伴们都惊呆了！\n",
      "\n",
      "index: 1525, related_weights = 0.8804811835289001, unrelated_weights = 0.11951885372400284\n",
      "#########################################################\n",
      "【政治】\n",
      "奥运8000亿，世博6000亿，大运3000亿，买美国国债40000亿，支援非4000亿，军费6000亿，三公消费39000亿，干部病房疗养6000亿。全民医疗，没钱。更换安全校车改善教舍环境，没钱。山区的孩子午餐吃水泡饭，没钱。环保设施跟不上，没钱。是啊！我们还是发展中国家，确实还很穷，真的很穷。\n",
      "\n",
      "index: 1467, related_weights = 0.8804865479469299, unrelated_weights = 0.11951345950365067\n",
      "#########################################################\n",
      "【政治】\n",
      "神秘】他们有钱，有权，有势，有名，唯一没有的就是安全感。一本美国护照好比传说中的软猬甲，金钟罩铁布衫，给他们一种贴身的安全感，使他们游走于正邪善恶间时刀枪不入，辗转腾挪时毫发无伤。美国护照真是一部通往武林至尊宝座必修的神功秘籍呀。杨澜终于承认自己是美国国籍的人大代表了。.\n",
      "\n",
      "index: 1392, related_weights = 0.8804865479469299, unrelated_weights = 0.11951345950365067\n",
      "#########################################################\n",
      "【政治】\n",
      "神秘】他们有钱，有权，有势，有名，唯一没有的就是安全感。一本美国护照好比传说中的软猬甲，金钟罩铁布衫，给他们一种贴身的安全感，使他们游走于正邪善恶间时刀枪不入，辗转腾挪时毫发无伤。美国护照真是一部通往武林至尊宝座必修的神功秘籍呀。杨澜终于承认自己是美国国籍的人大代表了。.\n",
      "\n",
      "index: 950, related_weights = 0.8804865479469299, unrelated_weights = 0.11951345950365067\n",
      "#########################################################\n",
      "【政治】\n",
      "神秘】他们有钱，有权，有势，有名，唯一没有的就是安全感。一本美国护照好比传说中的软猬甲，金钟罩铁布衫，给他们一种贴身的安全感，使他们游走于正邪善恶间时刀枪不入，辗转腾挪时毫发无伤。美国护照真是一部通往武林至尊宝座必修的神功秘籍呀。杨澜终于承认自己是美国国籍的人大代表了。\n",
      "\n",
      "index: 1073, related_weights = 0.8804866075515747, unrelated_weights = 0.11951334029436111\n",
      "#########################################################\n",
      "【政治】\n",
      "周孝正：九八年，有三名福建工人在以色列被炸死！以政府找到中国使馆商议赔偿及处理后事，中使馆以三名工人是偷渡客为由不予理睬！以政府对此硬是一查到底，不远万里来到福建，把受害者骨灰交到家属手中、向三名受害者各赔了七十万美元。这批钱后来还被我们的政府收了每人十八万的税！【肉末茄子焖面教程】周末的晚上，必须安排一碗焖面才行！这个茄子焖面真的巨神仙肉末的香气渗入软糯的茄子和劲道的面条中，别说了，吃就完了！老规矩，评论见1️⃣长茄子1根，洗净切成手指粗细的条；250g肉馅中加入1瓷勺料酒抓匀去腥；准备适量葱花、蒜...\n",
      "\n",
      "index: 1079, related_weights = 0.8804876804351807, unrelated_weights = 0.11951228231191635\n",
      "#########################################################\n",
      "【政治】\n",
      "奥运8000亿，世博6000亿，亚运4000亿，买美国国债40000亿，支援非洲4000亿，军费6000亿，”唯吻“8000亿，干部病房疗养6000亿，三公消费9000亿……从维稳、三公消费两项中提取1%干什么都够了。看了这组数字我觉得排第二太冤了。\n",
      "\n",
      "index: 1602, related_weights = 0.8804896473884583, unrelated_weights = 0.11951030045747757\n",
      "#########################################################\n",
      "【政治】\n",
      "奥运花8000亿，世博花6000亿，大运花3000亿，买美国国债花40000亿，支援非洲的兄弟花了4000亿，军费花了6000亿，干部病房疗养花了6000亿。搞个全民医疗，他们说：没钱。云南贫困地区收不到电视信号，有些地方水电不通！我们只能说中国真穷！\n",
      "\n",
      "index: 1353, related_weights = 0.8804924488067627, unrelated_weights = 0.11950751394033432\n",
      "#########################################################\n",
      "【政治】\n",
      "周孝正【阎王都不敢收的死人税】1998年，三名福建工人在以色列被炸死！以政府找到中国使馆商议赔偿及处理后事，中使馆以三名工人是偷渡客为由不予理睬！以政府对此硬是一查到底，后来不远万里来到福建，把受害者骨灰交到家属手中，向三名受害者各赔了70万美元。可这【死人钱】还被中国政府收了每人18万的税\n",
      "\n",
      "index: 1610, related_weights = 0.8804970979690552, unrelated_weights = 0.11950290948152542\n",
      "#########################################################\n",
      "【政治】\n",
      "@元芳视角奥运花8000亿，世博花6000亿，大运花3000亿，买美国债花40000亿，支援非洲兄弟花4000亿，军费花6000亿，干部病房疗养花6000亿。搞个全民医疗，他们说:没钱..广西的小朋友拿棺材当板凳！湘西的小朋友饿肚上学！四川的女童悬崖背水!//@Joy_Chiang:\n",
      "\n",
      "index: 158, related_weights = 0.8804983496665955, unrelated_weights = 0.11950160562992096\n",
      "#########################################################\n",
      "【政治】\n",
      "【沙特瓦利德王子被新反腐机构逮捕】外媒消息，4日，由沙特国王萨勒曼下令，王储穆罕默德·本·萨勒曼领导的新沙特反腐机构逮捕了11名沙特王子及数位部长。据美联社报道，被誉为阿拉伯的“沃伦·巴菲特”，有“中东股神”称号的瓦利德王子（瓦利德·本·塔拉勒·阿勒沙特）也在被逮捕人员当中。via.微天下\n",
      "\n",
      "index: 107, related_weights = 0.8805028796195984, unrelated_weights = 0.11949706822633743\n",
      "#########################################################\n",
      "【政治】\n",
      "【沙特“反腐风暴”24小时已有2名王子丧生】当地时间11月6日，沙特阿拉伯已故国王法赫德最小的儿子阿齐兹王子，在拒捕中因交火身亡。这是继沙特前任王储穆克林之子曼苏尔王子坠机身亡后，第二个丧生的王子。此前报道沙特一直升机坠毁一名王子等机上7人遇难利雅得11月5日电(记者王波)据沙特阿拉伯国家电视台5日报道，一架载有一名沙特王子和数名政府官员的直升机当晚在沙特靠近也门边界的阿西尔省坠毁，包括王子、2名机组人员和4名政府官员在内的7名机上人员全部遇难。报道说，沙特前王储穆克林的儿子、阿西尔省副省长曼苏尔·本·穆克林当天在数名政府官员陪同下，乘直升机前往位于山区的一座小城视察建设项目。目前尚不清楚飞机坠毁的原因。据沙特媒体报道，在该直升机失事前一天，也门胡塞武装向沙特首都利雅得国际机场方向发射一枚弹道导弹，被沙特防空部队拦截并摧毁，没有造成人员伤亡和财产损失。此前，胡塞武装不时向阿西尔省等沙特与也门接壤省份发射炮弹和导弹，以报复沙特对其目标的轰炸。\n",
      "\n",
      "index: 921, related_weights = 0.8805040121078491, unrelated_weights = 0.11949601769447327\n",
      "#########################################################\n",
      "【政治】\n",
      "【杨;美人;委员代表终于承认了自己的美国国籍2013-03-17】杨澜昨天终于承认了自己的美国籍身份。她理直气壮地说：“虽然我入了美国籍，但我出身于中国，所以从原产地角度而言，我不出席美国的两会而出席中国的两会是天经地义的”@美网有约\n",
      "\n",
      "index: 949, related_weights = 0.8805118203163147, unrelated_weights = 0.1194881796836853\n",
      "#########################################################\n",
      "【军事】\n",
      "2017年6月1日是我最伤心的一天，因为我父亲被凶手残忍的杀害。父亲是一位解放大西北和抗美援朝老革命军人，为了讨要残疾补助被打死在山西省临汾市襄汾县委办公楼前，至今一个多不立案，谁能站出来替老军人说一句话，又是谁要包庇凶手，我希望请网友帮忙转发，让更多人关注。女儿宋喜莲发。???//黄磊为孙莉庆生一句饱含22年柔情的“宝贝”甜齁嫁对了人，每天都是情人节\n",
      "\n",
      "index: 732, related_weights = 0.8805129528045654, unrelated_weights = 0.11948709189891815\n",
      "#########################################################\n",
      "【政治】\n",
      "【奶昔简介】大家好，我叫奶昔，今年37岁了[调皮]1980年出生于美国，走南闯北，去到了97个国家和地区，05年以贵族得身份来到中国，深受大家喜爱！我爱管闲事儿，发现偏胖、偏瘦、需要健康的人，我就想管[呲牙][呲牙]通过我还可以让你事业有成，跟我做朋友，将会受益终生哦[呲牙][呲牙]#康宝莱奶昔减肥#|廊坊·淑阳...\n",
      "\n",
      "index: 1597, related_weights = 0.8805152177810669, unrelated_weights = 0.11948482692241669\n",
      "#########################################################\n",
      "【政治】\n",
      "奥运花8000亿，世博花6000亿，大运花3000亿，买美国国债花40000亿，支援非洲的兄弟花了4000亿，军费花了6000亿，干部病房疗养花了6000亿。搞个全民医疗，他们说：没钱。广西的小朋友拿棺材当板凳！湘西的小朋友每天肚饿肚上学！而四川的8岁女童小孩悬崖背水我在:2老隆大道\n",
      "\n",
      "index: 186, related_weights = 0.8805198669433594, unrelated_weights = 0.11948012560606003\n",
      "#########################################################\n",
      "【军事】\n",
      "越南使领馆暂停3天受理持中国护照的旅游签证，警告越南，如果一意孤行，我们必须收回赠送的两段线，恢复11段线，在捣乱就消灭越南，恢复南越。那些去越南的要有志气，去哪个数典忘祖的地方丢人去干什么？|越南使领馆...\n",
      "\n",
      "index: 1307, related_weights = 0.8805261254310608, unrelated_weights = 0.11947385221719742\n",
      "#########################################################\n",
      "【政治】\n",
      "求证：【中国红会——你凭什么购买这么多路虎】一种无耻可以肆无忌惮！一种诈骗可以正大光明！一种抢劫可以毫无顾忌！一种挥霍可以明目张胆！一种贪污可以合情合理！——最后，一种法律对它视而不见！一个国家的慈善机构，贪婪到连慈善捐款都不放过，你们真是穷凶恶极了吧！企鹅的刀手们，我们来比赛。\n",
      "\n",
      "index: 157, related_weights = 0.8805366158485413, unrelated_weights = 0.11946336925029755\n",
      "#########################################################\n",
      "【政治】\n",
      "【转发扩散！越南发生非法聚集伴有反华内容，中使馆发安全提醒】这段时间别去越南了，已经在越南的一定要注意安全！记住中国驻越南大使馆的电话和位置！\n",
      "\n",
      "index: 1544, related_weights = 0.8805416226387024, unrelated_weights = 0.11945833265781403\n",
      "#########################################################\n",
      "【政治】\n",
      "震惊世界的上海高院几名法官集体嫖娼风波未平，又有媒体人爆出上海市金山区公安局长马淮海因贪腐20多亿并谋杀市人大代表，遭情妇举报的丑闻。马淮海还包养了十几名年轻貌美的情妇，一名情妇惠儿因为马生了一个儿子，提出要与马结婚未果，一怒之下发帖举报马，被马打死500转【爆笑！这个警方官微居然捧红了两位“嫌疑人”】近日，@四平公安推出了小品普法短视频，戳视频↓网友：这样的普法，我愿意追着看\n",
      "\n",
      "index: 1374, related_weights = 0.8805493712425232, unrelated_weights = 0.11945058405399323\n",
      "#########################################################\n",
      "【政治】\n",
      "@hao123搞笑频道:《没钱，真的很穷》奥运花8000亿，世博花6000亿，大运花3000亿，买美国国债花40000亿，支援非洲的兄弟花了4000亿，军费花了6000亿，干部病房疗养花了6000亿搞个全民医疗，他们说：没钱。广西的小朋友拿棺材当板凳！湘西的小朋友每天肚饿肚上学！而四川的8岁女\n",
      "\n",
      "index: 1280, related_weights = 0.8805537223815918, unrelated_weights = 0.1194462850689888\n",
      "#########################################################\n",
      "【政治】\n",
      "奥运花8000亿，世博花6000亿，大运花3000亿，买美国国债40000亿，支援非洲兄弟花4000亿，军费花6000亿，干部病房养老花6000亿。搞个全民医疗，他们说：没钱。广西的小朋友拿棺材当板凳，湘西的小朋友每天饿肚子上学，而四川的8岁女童小孩悬崖背水······我在:2东盛街\n",
      "\n",
      "index: 1220, related_weights = 0.880561351776123, unrelated_weights = 0.11943863332271576\n",
      "#########################################################\n",
      "【政治】\n",
      "周孝正：九八年，有三名福建工人在以色列被炸死！以政府找到中国使馆商议赔偿及处理后事，中使馆以三名工人是偷渡客为由不予理睬！以政府对此硬是一查到底，不远万里来到福建，把受害者骨灰交到家属手中、向三名受害者各赔了七十万美元。这批钱后来还被我们的政府收了每人十八万的税！#学习时间#【改革开放只有进行时！习近平的这些论述意义重大】庆祝#改革开放40周年#大会将于12月18日上午10时在人民大会堂举行，习近平将出席大会并发表重要讲话。关于改革开放，习近平曾多次在国际国内不同场合谈到，并旗帜鲜明地宣示改革开放决心。9个方面，一起重温金句，凝聚前行的力量↓学习！\n",
      "\n",
      "index: 1100, related_weights = 0.8805667757987976, unrelated_weights = 0.1194332018494606\n",
      "#########################################################\n",
      "【政治】\n",
      "【联合国第9527号决议】凡是加入联合国的国家和地区，警察面对群众运动时；如果抗议者只有1000人，你们有权使用催泪弹；如果１万人上街游行，你们只能站在那里注视；但如果有10万人出现，你们应该加入他们的行列，因为那代表了民意（联合国国际警察组织在2014年3月29日通过了该项旨在保护人权的决议）\n",
      "\n",
      "index: 1431, related_weights = 0.8805715441703796, unrelated_weights = 0.11942844092845917\n",
      "#########################################################\n",
      "【政治】\n",
      "问天LF:中国红十字会——你们凭什么购买这么多路虎？一种无耻可以肆无忌惮！一种诈骗可以正大光明！一种抢劫可以毫无顾忌！一种挥霍可以明目张胆！一种贪污可以合情合理！一种发言可以掩盖真相！——最后，一种法律对它视而不见！一个国家的慈善机构，贪婪到连慈善捐款都不放过，你们到底是什么人——\n",
      "\n",
      "index: 1491, related_weights = 0.8805761933326721, unrelated_weights = 0.11942378431558609\n",
      "#########################################################\n",
      "【政治】\n",
      "中国红十字会——你们凭什么购买这么多路虎？一种无耻可以肆无忌惮！一种诈骗可以正大光明！一种抢劫可以毫无顾忌！一种挥霍可以明目张胆！一种贪污可以合情合理！一种发言可以掩盖真相！——最后，一种法律对它视而不见！一个国家的慈善机构，贪婪到连慈善捐款都不放过，你们到底是什么人——？？？\n",
      "\n",
      "index: 1362, related_weights = 0.880585253238678, unrelated_weights = 0.11941470205783844\n",
      "#########################################################\n",
      "【政治】\n",
      "奥运花8000亿，世博花6000亿，大运花3000亿，买美国国债花40000亿，支援非洲的兄弟花了4000亿，军费花了6000亿，干部病房疗养花了6000亿。搞个全民医疗，他们说：没钱。广西的小朋友拿棺材当板凳！湘西的小朋友每天肚饿肚上学！而四川的8岁女童小孩悬崖背水\n",
      "\n",
      "index: 1232, related_weights = 0.8805913329124451, unrelated_weights = 0.11940868943929672\n",
      "#########################################################\n",
      "【政治】\n",
      "奥运8000亿，世博6000亿，亚运4000亿，买美国国债40000亿，支援非洲4000亿，军费6000亿，维稳8000亿，干部病房疗养6000亿，三公消费9000亿……评：只需从维稳、三公消费两项中提取1%来振灾，还需要屁民的捐款吗？\n",
      "\n",
      "index: 1339, related_weights = 0.88059401512146, unrelated_weights = 0.11940595507621765\n",
      "#########################################################\n",
      "【政治】\n",
      "【中国红十字会——你们凭什么购买这么多路虎？】一种无耻可以肆无忌惮！一种诈骗可以正大光明！一种抢劫可以毫无顾忌！一种挥霍可以明目张胆！一种贪污可以合情合理！一种发言可以掩盖真相！——最后，一种法律对它视而不见！一个国家的慈善机构，贪婪到连慈善捐款都不放过，你们到底是什么人？//明天出差商丘，加油，我一定可以做的很好的，爱自己，晚安\n",
      "\n",
      "index: 410, related_weights = 0.8806069493293762, unrelated_weights = 0.11939304322004318\n",
      "#########################################################\n",
      "【军事】\n",
      "#温馨提示#【越南驻中国领馆最新通知：中国公民前往越南签证目前暂停3天！】据越南驻华使领馆和多家赴越南旅行社消息，越南驻华使领馆在20日至22日暂停受理大陆游客赴越南旅游签证，只针对中国护照（港澳台地区护照除外），原因暂不明确，仅越南驻南宁领事馆就在一天内“就取消了上千份签证申请”。\n",
      "\n",
      "index: 986, related_weights = 0.8806107640266418, unrelated_weights = 0.11938922852277756\n",
      "#########################################################\n",
      "【政治】\n",
      "没钱，真的很穷奥运花8000亿，世博花6000亿，买美国国债花40000亿，支援非洲的兄弟花了4000亿，，三公消费39000亿，干部病房疗养花了6000亿。搞个全民医疗，他们说：没钱。山区的孩子午餐吃水泡饭，他们说：没钱。环保设施跟不上，他们说：没钱。是啊！我们还是发展中国家，确实还很穷，真的很穷。\n",
      "\n",
      "index: 586, related_weights = 0.880613386631012, unrelated_weights = 0.11938658356666565\n",
      "#########################################################\n",
      "【军事】\n",
      "●越南暂停受理中国大陆旅游签证3天&gt;&gt;越南驻华使领馆在20日至22日暂停受理大陆游客赴越南旅游签证，只针对中国护照(港澳台地区护照除外)，原因暂不明确，仅越南驻南宁领事馆在一天内就取消了上千份签证申请。&gt;&gt;据越南媒体日前报道，越南边检人员以“‘九段线’违法”为由拒绝在印有南海“九段线”暗...\n",
      "\n",
      "index: 1482, related_weights = 0.8806240558624268, unrelated_weights = 0.11937591433525085\n",
      "#########################################################\n",
      "【政治】\n",
      "洪源——杨澜终于承认自己是美国国籍的人大代表了。她理直气壮地说：虽然我入了美国籍，但我出身于中国，所以从原产地角度而言，我不出席美国的两会而出席中国的两会是天经地义的，说明我更爱国。//刚才一室友在备考公务员，看了会说:这尼玛公务员考试怎么什么题目都有啊……天文，地理，人文，历史都有。另一个室友悠悠的来了一句:公务员上班都是聊天，知识面不广谁跟你聊啊……我无语了……转[霹雳]\n",
      "\n",
      "index: 952, related_weights = 0.8806257843971252, unrelated_weights = 0.11937417089939117\n",
      "#########################################################\n",
      "【政治】\n",
      "奥运花8000亿，世博花6000亿，亚运花4000亿，买老美国债花40000亿，支援非洲的兄弟花4000亿，军费花6000亿，维稳花8000亿，干部病房疗养花6000亿。给;老不信;搞个全民医疗——没钱，广西的小朋友拿棺材当板凳！湘西的小朋友每天肚饿肚上学！四川的8岁女童小孩悬崖背水喝……您不转？\n",
      "\n",
      "index: 1574, related_weights = 0.8806301355361938, unrelated_weights = 0.11936989426612854\n",
      "#########################################################\n",
      "【政治】\n",
      "奥运花8000亿，世博花6000亿，大运花3000亿，买美国国债花40000亿，支援非洲的兄弟花了4000亿，军费花了6000亿，干部病房疗养花了6000亿。搞个全民医疗，他们说：没钱。广西的小朋友拿棺材当板凳！湘西的小朋友每天肚饿肚上学！而四川的8岁女童小孩悬崖背水……@精辟语录集\n",
      "\n",
      "index: 987, related_weights = 0.8806301355361938, unrelated_weights = 0.11936989426612854\n",
      "#########################################################\n",
      "【政治】\n",
      "奥运花8000亿，世博花6000亿，大运花3000亿，买美国国债花40000亿，支援非洲的兄弟花了4000亿，军费花了6000亿，干部病房疗养花了6000亿。搞个全民医疗，他们说：没钱。广西的小朋友拿棺材当板凳！湘西的小朋友每天肚饿肚上学！而四川的8岁女童小孩悬崖背水……\n",
      "\n",
      "index: 1120, related_weights = 0.8806304335594177, unrelated_weights = 0.11936955899000168\n",
      "#########################################################\n",
      "【政治】\n",
      "奥运花8000亿，世博花6000亿，亚运花4000亿，买美国国债花40000亿，给非洲兄弟4000亿，三公9000亿，维稳8000亿，干部病房疗养6000亿。搞全民医疗，他们说：没钱。广西小朋友拿棺材当板凳！湘西的小朋友每天肚饿肚上学！而四川的8岁女童小孩悬崖背水…@公民监政@新闻连环画@彭园v@正义者公益联盟\n",
      "\n",
      "index: 443, related_weights = 0.8806471228599548, unrelated_weights = 0.11935289204120636\n",
      "#########################################################\n",
      "【政治】\n",
      "越南在经济上，和中国一样，越南坚持市场取向的经济改革，而且在这方面越南应该是个加强版，它的自由度更大，社会活力也更强。换句话说，越南的政府是个无为政府，这和中国不一样，中国的政府是积极有为的政府。在越南，政府管的事情比较少，有些也管不了，这反倒给了社会很大的空间。\n",
      "\n",
      "index: 1108, related_weights = 0.8806571960449219, unrelated_weights = 0.11934278160333633\n",
      "#########################################################\n",
      "【军事】\n",
      "2017年6月1日是我最伤心的一天，因为我父亲被凶手残忍的杀害。父亲是一位解放大西北和抗美援朝老革命军人，为了讨要残疾补助被打死在山西省临汾市襄汾县委办公楼前，至今一个多不立案，谁能站出来替老军人说一句话，又是谁要包庇凶手，我希望请网友帮忙转发，让更多人关注。女儿宋喜莲发。???#小浪首发#@鞠婧祎《Don’tTouch》MV发布。鞠婧祎化身猫系少女，白色娇俏可爱，黑色缄默冷艳，欲擒故纵的心跳节奏中藏着爱与被爱、接纳与抗拒的矛盾心情。#亚洲新歌榜##超级打歌月#\n",
      "\n",
      "index: 1273, related_weights = 0.8806658387184143, unrelated_weights = 0.11933418363332748\n",
      "#########################################################\n",
      "【军事】\n",
      "2017年6月1日是我最伤心的一天，因为我父亲被凶手残忍的杀害。父亲是一位解放大西北和抗美援朝老革命军人，为了讨要残疾补助被打死在山西省临汾市襄汾县委办公楼前，至今一个多不立案，谁能站出来替老军人说一句话，又是谁要包庇凶手，我希望请网友帮忙转发，让更多人关注。女儿宋喜莲发。???//【黄磊为孙莉庆生一句饱含22年柔情的“宝贝”甜齁】7月18日是孙莉40岁生日，老公黄磊发微博为孙莉庆生，称：“宝贝，生日快乐！”并艾特孙莉，大秀恩爱。据悉黄磊孙莉夫妇二人感情十分甜蜜，黄磊对妻子也是十分照顾，手捧一大束鲜花的孙莉看起来非常幸福~\n",
      "\n",
      "index: 1345, related_weights = 0.880682647228241, unrelated_weights = 0.11931739002466202\n",
      "#########################################################\n",
      "【军事】\n",
      "2017年6月1日是我最伤心的一天，因为我父亲被凶手残忍的杀害。父亲是一位解放大西北和抗美援朝老革命军人，为了讨要残疾补助被打死在山西省临汾市襄汾县委办公楼前，至今一个多不立案，谁能站出来替老军人说一句话，又是谁要包庇凶手，我希望请网友帮忙转发，让更多人关注。女儿宋喜莲发。???//#黄磊#为孙莉庆生携手度过22年仍甜蜜如初18日晚，@黄磊微博晒出妻子#孙莉#手捧鲜花的照片，并配文“宝贝，生日快乐。”一句简短的话语却饱含夫妻二人的深厚情感。黄磊和孙莉共同育有两女一儿，黄磊的睿智好爸爸，顾家好丈夫的形象让人印象深刻；刚过完40岁生日的多妈皮肤白皙，身材纤细；大女...全文\n",
      "\n",
      "index: 1008, related_weights = 0.8806887865066528, unrelated_weights = 0.11931117624044418\n",
      "#########################################################\n",
      "【军事】\n",
      "2017年6月1日是我最伤心的一天，因为我父亲被凶手残忍的杀害。父亲是一位解放大西北和抗美援朝老革命军人，为了讨要残疾补助被打死在山西省临汾市襄汾县委办公楼前，至今一个多不立案，谁能站出来替老军人说一句话，又是谁要包庇凶手，我希望请网友帮忙转发，让更多人关注。女儿宋喜莲发。???//#黄磊为孙莉庆生#一句饱含22年柔情的“宝贝”甜齁7月18日，7月18日是#孙莉#40岁生日，老公#黄磊#通过微博晒老婆美照送上生日祝福，称：“宝贝，生日快乐！”并特意艾特孙莉，大秀恩爱。照片中，孙莉双手捧着大束的鲜花，眼睛微闭，幸福写在脸上太有爱了啊啊啊\n",
      "\n",
      "index: 1388, related_weights = 0.8806957006454468, unrelated_weights = 0.1193043440580368\n",
      "#########################################################\n",
      "【政治】\n",
      "动车相撞35人死亡；重庆暴雨35人死亡；河南平顶山矿难35人死亡；山西临汾矿难35人死亡；深圳黄田机场空难35人死亡；云南曲靖假酒案35人死亡；辽宁铁岭烟花厂爆炸35人死亡…因为超过36人，市委书记级别官员要就地免职，故许多事件发生后，注定死亡人数不超36人我分享了//责任应该在市政！也就是“世博”前期！外滩改造的局部设计缺陷所致！当然应该是政府负全责！！！包括对死伤者的全程医疗及善后赔偿等！！！我分享了上海外滩发生踩踏事故致36人死亡\n",
      "\n",
      "index: 1178, related_weights = 0.8806962370872498, unrelated_weights = 0.11930379271507263\n",
      "#########################################################\n",
      "【军事】\n",
      "2017年6月1日是我最伤心的一天，因为我父亲被凶手残忍的杀害。父亲是一位解放大西北和抗美援朝老革命军人，为了讨要残疾补助被打死在山西省临汾市襄汾县委办公楼前，至今一个多不立案，谁能站出来替老军人说一句话，又是谁要包庇凶手，我希望请网友帮忙转发，让更多人关注。女儿宋喜莲发。???//#黄磊为孙莉庆生#一句饱含22年柔情的“宝贝”甜齁众人！7月18日是孙莉40岁生日，老公黄磊晒老婆美照送上生日祝福，称：“宝贝，生日快乐！”并特意艾特孙莉，大秀恩爱。黄磊曾说，“我太太这样的女人，其实不罕见，应该属于普及型。但在我心中，却是只此一款，不退不换。”\n",
      "\n",
      "index: 1001, related_weights = 0.880703866481781, unrelated_weights = 0.1192961111664772\n",
      "#########################################################\n",
      "【军事】\n",
      "2017年6月1日是我最伤心的一天，因为我父亲被凶手残忍的杀害。父亲是一位解放大西北和抗美援朝老革命军人，为了讨要残疾补助被打死在山西省临汾市襄汾县委办公楼前，至今一个多不立案，谁能站出来替老军人说一句话，又是谁要包庇凶手，我希望请网友帮忙转发，让更多人关注。女儿宋喜莲发。???//【黄磊为孙莉庆生一句“宝贝”甜炸】7月18日是孙莉40岁生日，#黄磊#分享了一张妻子#孙莉#手捧鲜花的照片，还发文“宝贝，生日快乐”。这一声宝贝叫的那个酥~两人1995年结婚到现在已经22年了，这种22年如一日的感情可能是最好的礼物了吧\n",
      "\n",
      "index: 1387, related_weights = 0.880707859992981, unrelated_weights = 0.11929215490818024\n",
      "#########################################################\n",
      "【军事】\n",
      "2017年6月1日是我最伤心的一天，因为我父亲被凶手残忍的杀害。父亲是一位解放大西北和抗美援朝老革命军人，为了讨要残疾补助被打死在山西省临汾市襄汾县委办公楼前，至今一个多不立案，谁能站出来替老军人说一句话，又是谁要包庇凶手，我希望请网友帮忙转发，让更多人关注。女儿宋喜莲发。???//7月18日是孙莉40岁生日，老公黄磊通过微博晒老婆美照送上生日祝福，称：“宝贝，生日快乐！”并特意艾特孙莉，孙莉双手捧着鲜花，眼睛微闭，幸福从脸上透了出来，坚定不移的爱情，不为任何事而影响，历久弥新，这才是爱情应该有的样子陪伴才是最长情的告白\n",
      "\n"
     ]
    }
   ],
   "source": [
    "for i in related_top:\n",
    "    print('index: {}, related_weights = {}, unrelated_weights = {}'.format(\n",
    "        i, attention_test[i][0], attention_test[i][1]))\n",
    "    print('#########################################################')\n",
    "    print('【{}】'.format(test[i]['category']))\n",
    "    print(test[i]['content'])\n",
    "    print()"
   ]
  },
  {
   "cell_type": "code",
   "execution_count": 43,
   "metadata": {},
   "outputs": [
    {
     "name": "stdout",
     "output_type": "stream",
     "text": [
      "index: 646, related_weights = 0.6429811716079712, unrelated_weights = 0.3570188581943512\n",
      "#########################################################\n",
      "【政治】\n",
      "【#李克强#出席第20次中国-东盟领导人会议】李克强在发言中表示，今年是东盟成立50周年，中国对东盟的发展进步感到高兴，对东盟未来前景充满信心。中方坚定支持东盟共同体建设，支持东盟在区域合作中的中心地位，支持东盟在国际地区事务中发挥更大作用，始终把东盟作为周边外交的优先方向，坚持与东盟做安危与共、同舟共济的好邻居、好朋友、好伙伴，携手构建理念共通、繁荣共享、责任共担的命运共同体。قالرئيسمجلسالدولةالصينيليكهتشيانغإنّبكينوالدولالأعضاءللآسيانستبدأمشاوراتحولمدونةقواعدالسلوكفيبحرالصينالجنوبي.وقالليإنّالصينملتزمةبالحفاظعلىالسلاموالاستقرارفيبحرالصينالجنوبيوحلالنزاعاتالإقليميةوالبحريةمعالأطرافالمعنيةبشكلمباشرمنخلالالمفاوضاتCGTN阿拉伯...\n",
      "\n",
      "index: 395, related_weights = 0.6429811716079712, unrelated_weights = 0.3570188581943512\n",
      "#########################################################\n",
      "【政治】\n",
      "【#李克强#赴马尼拉出席东盟10+3峰会等一系列活动】李克强总理于11月12日至16日赴菲律宾马尼拉出席第20次中国—东盟（10+1）领导人会议、第20次东盟与中日韩（10+3）领导人会议和第12届东亚峰会等活动，并对菲律宾进行正式访问。ووصلرئيسمجلسالدولةالصينيليكهتشيانغإلىمانيلالحضورقمةالآسيان-الصين،وقمةالآسيانزائدثلاثة،وقمةشرقآسيا.كماسيحضرليكهتشيانغالاجتماعالخاصباتفاقيةالتجارةبشأنالشراكةالاقتصاديةالشاملةالإقليمية.ويصادفهذاالعامالذكرىالخمسينلتأسيسالآسيان.وموضوعالقمةهذاالعامهو;الشراكةمنأجلالتغيير،والانخراطفيالعالم;.CGTN阿拉伯...\n",
      "\n",
      "index: 451, related_weights = 0.6429811716079712, unrelated_weights = 0.3570188581943512\n",
      "#########################################################\n",
      "【政治】\n",
      "【李克强抵达菲律宾马尼拉】当地时间12日下午，中国国务院总理李克强乘专机抵达马尼拉，出席东亚合作领导人系列会议，并对菲律宾进行正式访问。وصلرئيسمجلسالدولةالصينيليكهتشيانغبعدظهريومالأحدإلىالعاصمةالفلبينيةمانيلاعلىمتنطائرةخاصة،وذلكلحضورسلسلةمنالاجتماعاترفيعةالمستوىبمافيهاقمةشرقآسياوكذلكالقيامبزيارةرسميةإلىالفلبينCGTN阿拉伯...\n",
      "\n",
      "index: 375, related_weights = 0.6429811716079712, unrelated_weights = 0.3570188581943512\n",
      "#########################################################\n",
      "【政治】\n",
      "#越南APEC峰会#【习近平主席在亚太经合组织工商领导人峰会主旨演讲获国际社会高度评价】2017年亚太经合组织工商领导人峰会主席武进禄表示，习主席的演讲表明习近平新时代中国特色社会主义思想全面覆盖中国经济社会发展等各个领域。其中很多方面值得越南和越南企业借鉴。قالرئيسقمةالرؤساءالتنفيذيينللأبيكلعام2017ووجينلو:;أظهرخطابالرئيسشيأنأفكارشيجينبينغحولالاشتراكيةذاتالخصائصالصينيةفيالعصرالجديدتغطيشتىالمجالاتفيظلنموالصينالاقتصاديوالاجتماعي.فيمابرزتبعضالنقاطالتييمكنأنتلهمفيتناموالشركاتالفيتنامية;CGTN阿拉伯...\n",
      "\n",
      "index: 669, related_weights = 0.78947913646698, unrelated_weights = 0.2105209082365036\n",
      "#########################################################\n",
      "【政治】\n",
      "【国家能源集团成立大会在京召开】تماندماجشركتيقوهديانوشنهواالصينيتينرسميايومالثلاثاء،لتتمإعادةإطلاقهماتحتاسم;المجموعةالوطنيةللاستثمارفيالطاقة;التيتعتبرأكبرمنتجللفحمفىالعالم،ولتشكلاأكبرشركةلتوليدالطاقةالحراريةوالمتجددةتبلغقيمةأصولهاالماليةحوالي1.8تريليونيوانوهومايعادل270ملياردولارأمريكيCGTN阿拉伯...\n",
      "\n",
      "index: 336, related_weights = 0.7905084490776062, unrelated_weights = 0.2094915360212326\n",
      "#########################################################\n",
      "【政治】\n",
      "国家能源集团开启煤电一体化破解煤电顶牛困局|国家能源集...\n",
      "\n",
      "index: 742, related_weights = 0.7905084490776062, unrelated_weights = 0.2094915360212326\n",
      "#########################################################\n",
      "【政治】\n",
      "国家能源集团开启煤电一体化破解煤电顶牛困局|国家能源集...\n",
      "\n",
      "index: 718, related_weights = 0.7939141988754272, unrelated_weights = 0.20608577132225037\n",
      "#########################################################\n",
      "【政治】\n",
      "中远海运阿布扎比码头动工|联合早报|中远海运阿...\n",
      "\n",
      "index: 166, related_weights = 0.8029468059539795, unrelated_weights = 0.1970532089471817\n",
      "#########################################################\n",
      "【政治】\n",
      "国家能源集团开启煤电一体化破解煤电顶牛困局-\n",
      "\n",
      "index: 356, related_weights = 0.8140490055084229, unrelated_weights = 0.18595097959041595\n",
      "#########################################################\n",
      "【军事】\n",
      "【阿富汗首都喀布尔发生两起爆炸袭击致25人死亡】وقعفيالعاصمةالأفغانيةكابولصباحيومالاثنينهجومانانتحاريانمتتاليان.ووفقالشرطةكابول،فقدأدىالهجومانإلىسقوطمالايقلعن25قتيلا،منبينهممصوروكالةفرانسبرسوخمسةصحافيينأفغان،بالإضافةإلى49جريحاCGTN阿拉伯...\n",
      "\n",
      "index: 1422, related_weights = 0.8182451128959656, unrelated_weights = 0.18175488710403442\n",
      "#########################################################\n",
      "【政治】\n",
      "#杨澜#國籍？\n",
      "\n",
      "index: 867, related_weights = 0.8233970999717712, unrelated_weights = 0.17660288512706757\n",
      "#########################################################\n",
      "【军事】\n",
      "海豹突击队~~太帅了~~\n",
      "\n",
      "index: 1324, related_weights = 0.8257960081100464, unrelated_weights = 0.17420397698879242\n",
      "#########################################################\n",
      "【政治】\n",
      "&#;中央巡视组/纪检监察组驻进汉中市\n",
      "\n",
      "index: 1483, related_weights = 0.8312926888465881, unrelated_weights = 0.16870729625225067\n",
      "#########################################################\n",
      "【政治】\n",
      "新加坡走起\n",
      "\n",
      "index: 1029, related_weights = 0.83188796043396, unrelated_weights = 0.16811202466487885\n",
      "#########################################################\n",
      "【政治】\n",
      "红十字会贪污秘密揭露!!!\n",
      "\n",
      "index: 1609, related_weights = 0.8322274088859558, unrelated_weights = 0.16777260601520538\n",
      "#########################################################\n",
      "【军事】\n",
      "让历史照进现实！\n",
      "\n",
      "index: 1394, related_weights = 0.8357158303260803, unrelated_weights = 0.1642841398715973\n",
      "#########################################################\n",
      "【政治】\n",
      "日本首相安倍晋三正式宣布辞职\n",
      "\n",
      "index: 535, related_weights = 0.8368555903434753, unrelated_weights = 0.16314445436000824\n",
      "#########################################################\n",
      "【政治】\n",
      "索罗斯：特朗普是“超级自恋狂”，他将毁灭全世界|索罗斯：特...\n",
      "\n",
      "index: 709, related_weights = 0.8375352621078491, unrelated_weights = 0.16246473789215088\n",
      "#########################################################\n",
      "【军事】\n",
      "美国总统特朗普曾经坚持打击俄罗斯在叙利亚的设施！俄新网4月16日莫斯科消息，华尔街日报援引其消息来源提供的消息报道，唐纳德，特朗普曾经准备对包括俄罗斯和伊朗在叙利亚的设施进行打击。该报写到，五角大楼首脑马蒂斯向白宫提交了三套方案攻击。第一套方案是打击叙利亚与化学武器有关的设施；第二方案包括范围更广的目标，包括与化武有关的研究机构和军事指挥中心；第三套方案建议打击俄罗斯在叙利亚的防空导弹系统。之所以制定第三套方案破坏叙利亚政府的军事能力同时又不触及阿萨德的政治制度。按照该报的信息，特朗普曾经坚持如果是消灭叙利亚军事技术装备必须的话应该对俄罗斯和伊朗在叙利亚的设施进行打击。但是马蒂斯反对这样做。最后特朗普批准了“混合计划。”МОСКВА，16апр—РИАНовости.ДональдТрампбылготовнанестиударвтомчислепороссийскимииранскимобъектамвСирии，сообщаетгазетаWallStreetJournalсоссылкойнаисточники.Какпишетиздание，главаПентагонаДжеймсМэттиспредставилБеломдомутривариантаатаки.Первый—ударпосирийскимобъектам，имеющимотношениекхимическомуоружию.Втораяопция—поболееширокомуспектруцелей，втомчислепоисследовательскимобъектам，связаннымсхимическиморужием，ипоцентрамвоенногокомандования.ТретийвариантпредполагалатакунароссийскиесистемыПВОвСирии.Онбылразработан，чтобы\"подорватьвоенныйпотенциалсирийскогорежима\"，незатрагиваяприэтом\"политическихмеханизмовБашараАсада\".Поинформациигазеты，Трампнастаивалнаударепороссийскимииранскимобъектам，еслиэтобудетнеобходимодляуничтожениясирийскойвоеннойтехники，однакоМэттисвыступилпротивэтого.ВитогеТрампутвердил\"гибридныйплан\".\n",
      "\n",
      "index: 1200, related_weights = 0.8377285599708557, unrelated_weights = 0.1622714102268219\n",
      "#########################################################\n",
      "【政治】\n",
      "哼哼~给你们原图。\n",
      "\n",
      "index: 256, related_weights = 0.8402131199836731, unrelated_weights = 0.1597868949174881\n",
      "#########################################################\n",
      "【政治】\n",
      "资产规模逾1.8万亿元中国国家能源集团正式成立|联合早报|资产规模逾...\n",
      "\n",
      "index: 1375, related_weights = 0.8409804701805115, unrelated_weights = 0.15901950001716614\n",
      "#########################################################\n",
      "【军事】\n",
      "我艹真干起来了？\n",
      "\n",
      "index: 878, related_weights = 0.8417062759399414, unrelated_weights = 0.1582937240600586\n",
      "#########################################################\n",
      "【军事】\n",
      "【驻港部队陆海空联合巡逻新增科目让人安全感大增】@安徽反邪教\n",
      "\n",
      "index: 552, related_weights = 0.8429518342018127, unrelated_weights = 0.15704821050167084\n",
      "#########################################################\n",
      "【政治】\n",
      "人民日报评论员:开启发展更高层次开放型经济新征程|人民日报评...\n",
      "\n",
      "index: 478, related_weights = 0.8435586094856262, unrelated_weights = 0.15644143521785736\n",
      "#########################################################\n",
      "【军事】\n",
      "约旦要求台湾办事处改名;台北;台当局又怨大陆|约旦要求台...\n",
      "\n",
      "index: 1537, related_weights = 0.8437609672546387, unrelated_weights = 0.15623901784420013\n",
      "#########################################################\n",
      "【军事】\n",
      "别说我没介绍好工作给你们\n",
      "\n",
      "index: 925, related_weights = 0.844180166721344, unrelated_weights = 0.155819833278656\n",
      "#########################################################\n",
      "【政治】\n",
      "分享图片\n",
      "\n",
      "index: 747, related_weights = 0.8453688025474548, unrelated_weights = 0.15463121235370636\n",
      "#########################################################\n",
      "【政治】\n",
      "国家能源集團。|一个万亿级...\n",
      "\n",
      "index: 975, related_weights = 0.8458314538002014, unrelated_weights = 0.15416854619979858\n",
      "#########################################################\n",
      "【军事】\n",
      "乌克兰下血本了😂😂\n",
      "\n",
      "index: 1011, related_weights = 0.8459725379943848, unrelated_weights = 0.15402749180793762\n",
      "#########################################################\n",
      "【政治】\n",
      "中央巡视组/纪检监察组驻进湖北省组长施建明：手机号：1352066654313601244044副组长曾志勇：手机号：1399260262815801360139副组长白海军：手机号：13911389312主任张雁冰：手机号：135205546282东安路\n",
      "\n",
      "index: 1093, related_weights = 0.8462620377540588, unrelated_weights = 0.15373796224594116\n",
      "#########################################################\n",
      "【政治】\n",
      "日本首相安倍晋三正式宣布辞职！\n",
      "\n",
      "index: 1213, related_weights = 0.8464937210083008, unrelated_weights = 0.15350627899169922\n",
      "#########################################################\n",
      "【军事】\n",
      "打起来了我在:\n",
      "\n",
      "index: 847, related_weights = 0.8471406102180481, unrelated_weights = 0.1528593748807907\n",
      "#########################################################\n",
      "【军事】\n",
      "中国大陆和多米尼加建交，中国台湾当局发表声明:\n",
      "\n",
      "index: 182, related_weights = 0.8478385806083679, unrelated_weights = 0.15216146409511566\n",
      "#########################################################\n",
      "【政治】\n",
      "中国与周边国家同呼吸共命运@手机QQ浏览器|中国与周边...|平凉·柳湖...\n",
      "\n",
      "index: 426, related_weights = 0.8481428623199463, unrelated_weights = 0.15185712277889252\n",
      "#########################################################\n",
      "【政治】\n",
      "外国专家：中国经济很快将超美国2050年经济中心将移至亚洲|外国专家：...\n",
      "\n",
      "index: 398, related_weights = 0.8486924171447754, unrelated_weights = 0.15130755305290222\n",
      "#########################################################\n",
      "【政治】\n",
      ";国电+神华;重组的国家能源集团成立拥有四个世界之最|\"国电+神华...\n",
      "\n",
      "index: 1417, related_weights = 0.8491687774658203, unrelated_weights = 0.15083123743534088\n",
      "#########################################################\n",
      "【政治】\n",
      "中央巡视组/纪检监察组驻进庆阳市组长施建明：手机号：1352066654313601244044副组长曾志勇：手机号：1399260262815801360139副组长白海军：手机号：13911389312主任张雁冰：手机号：135205546282202省道\n",
      "\n",
      "index: 1531, related_weights = 0.8492786884307861, unrelated_weights = 0.15072131156921387\n",
      "#########################################################\n",
      "【军事】\n",
      "继南海事态扩大我火箭军封锁海南高速调防南沙2郑州·大河路街区.\n",
      "\n",
      "index: 474, related_weights = 0.8493998646736145, unrelated_weights = 0.1506001353263855\n",
      "#########################################################\n",
      "【政治】\n",
      "中远海运港口阿布扎比码头正式动工_航运新闻_码头网\n",
      "\n",
      "index: 1183, related_weights = 0.850676417350769, unrelated_weights = 0.14932361245155334\n",
      "#########################################################\n",
      "【政治】\n",
      "中央第五巡视组/纪检监察组驻进广西组长施建明：手机号：1352066654313601244044副组长曾志勇：手机号：1399260262815801360139副组长白海军：手机号：13911389312主任张雁冰：手机号：13520554628\n",
      "\n",
      "index: 1190, related_weights = 0.8506999611854553, unrelated_weights = 0.14930003881454468\n",
      "#########################################################\n",
      "【政治】\n",
      "中央巡视组/纪检监察组驻进晋中市组长施建明：手机号：1352066654313601244044副组长曾志勇：手机号：1399260262815801360139副组长白海军：手机号：13911389312主任张雁冰：手机号：135205546282顺城西街\n",
      "\n",
      "index: 388, related_weights = 0.8510318398475647, unrelated_weights = 0.14896811544895172\n",
      "#########################################################\n",
      "【军事】\n",
      ";涨知识56种解放军佩戴臂章全系列\n",
      "\n",
      "index: 603, related_weights = 0.8513567447662354, unrelated_weights = 0.14864319562911987\n",
      "#########################################################\n",
      "【政治】\n",
      "全球布局又下一城：中远海运港口阿布扎比码头动工|中远海运港...\n",
      "\n",
      "index: 624, related_weights = 0.8518856167793274, unrelated_weights = 0.1481143683195114\n",
      "#########################################################\n",
      "【政治】\n",
      "#老外看中国#老外看中国|亚洲国家将受益于中国领导人的远见\n",
      "\n",
      "index: 1321, related_weights = 0.8519353270530701, unrelated_weights = 0.14806467294692993\n",
      "#########################################################\n",
      "【政治】\n",
      "中央巡视组/纪检监察组驻进山东组长施建明：手机号：1352066654313601244044副组长曾志勇：手机号：1399260262815801360139副组长白海军：手机号：13911389312主任张雁冰：手机号：13520554628\n",
      "\n",
      "index: 1228, related_weights = 0.8520391583442688, unrelated_weights = 0.14796079695224762\n",
      "#########################################################\n",
      "【政治】\n",
      "中央巡视组/纪检监察组驻进湖北省组长施建明：手机号：1352066654313601244044副组长曾志勇：手机号：1399260262815801360139副组长白海军：手机号：13911389312主任张雁冰：手机号：13520554628\n",
      "\n",
      "index: 1547, related_weights = 0.8521016836166382, unrelated_weights = 0.1478983610868454\n",
      "#########################################################\n",
      "【军事】\n",
      "#钓鱼岛#真的开火了!!五星红旗首战领先!!\n",
      "\n",
      "index: 782, related_weights = 0.8523613810539246, unrelated_weights = 0.14763864874839783\n",
      "#########################################################\n",
      "【政治】\n",
      "#漫展返图##合肥·合肥滨湖国际会展中心[地点]#11.5\n",
      "\n",
      "index: 155, related_weights = 0.8523707985877991, unrelated_weights = 0.14762918651103973\n",
      "#########################################################\n",
      "【政治】\n",
      "津巴布韦军队进首都拘押总统穆加贝-观察者网|津巴布韦军...\n",
      "\n",
      "index: 377, related_weights = 0.852458655834198, unrelated_weights = 0.1475413292646408\n",
      "#########################################################\n",
      "【政治】\n",
      "长益高速湘江西互通通车运营长沙到益阳缩至半小时-中国·岳阳县\n",
      "\n"
     ]
    }
   ],
   "source": [
    "for i in unrelated_top:\n",
    "    print('index: {}, related_weights = {}, unrelated_weights = {}'.format(\n",
    "        i, attention_test[i][0], attention_test[i][1]))\n",
    "    print('#########################################################')\n",
    "    print('【{}】'.format(test[i]['category']))\n",
    "    print(test[i]['content'])\n",
    "    print()"
   ]
  },
  {
   "cell_type": "code",
   "execution_count": null,
   "metadata": {},
   "outputs": [],
   "source": []
  },
  {
   "cell_type": "code",
   "execution_count": null,
   "metadata": {},
   "outputs": [],
   "source": []
  },
  {
   "cell_type": "markdown",
   "metadata": {},
   "source": [
    "## Train"
   ]
  },
  {
   "cell_type": "code",
   "execution_count": 24,
   "metadata": {},
   "outputs": [
    {
     "data": {
      "text/plain": [
       "array([30011,  4021])"
      ]
     },
     "execution_count": 24,
     "metadata": {},
     "output_type": "execute_result"
    }
   ],
   "source": [
    "attention_train.argmax(axis=0)"
   ]
  },
  {
   "cell_type": "code",
   "execution_count": 25,
   "metadata": {},
   "outputs": [
    {
     "data": {
      "text/plain": [
       "array([0.8807512 , 0.11924884], dtype=float32)"
      ]
     },
     "execution_count": 25,
     "metadata": {},
     "output_type": "execute_result"
    }
   ],
   "source": [
    "attention_train[30011]"
   ]
  },
  {
   "cell_type": "code",
   "execution_count": 27,
   "metadata": {},
   "outputs": [
    {
     "data": {
      "text/plain": [
       "array([0.6429812 , 0.35701886], dtype=float32)"
      ]
     },
     "execution_count": 27,
     "metadata": {},
     "output_type": "execute_result"
    }
   ],
   "source": [
    "attention_train[4021]"
   ]
  },
  {
   "cell_type": "code",
   "execution_count": 30,
   "metadata": {},
   "outputs": [
    {
     "data": {
      "text/plain": [
       "{'category': '社会生活',\n",
       " 'category_label': 3,\n",
       " 'content': '帮转的刘波全家跪谢大家了！快转！本人：刘波，电话：15864936688，今天上午的5岁儿子在安达双语幼儿园附近被人拐走了，儿子能说出他妈妈的手机号码从监控上看是被一个三十多岁女人抱走了现我们家老奶奶都急疯了有知情者请告之万分感谢看到信息的兄弟姐妹留意一下联系人刘波，电话：15864936688，如果看一眼懒得转的冷漠人也请你伸出手指按3秒看到就转转吧我们都会有孩子谢谢你@沈阳市公安局@沈阳公安交警支队@新媒沈阳@沈阳身边事2沈阳·华晨宝马铁西工厂',\n",
       " 'content_words': '帮转 的 刘波 全家 跪谢 大家 了 ！ 快转 ！ 本人 ： 刘波 ， 电话 ： 15864936688 ， 今天上午 的 5 岁 儿子 在 安达 双语 幼儿园 附近 被 人 拐走 了 ， 儿子 能 说出 他 妈妈 的 手机号码 从 监控 上 看 是 被 一个三十多岁 女人 抱 走 了 现 我们 家 老奶奶 都 急 疯 了 有 知情者 请告 之 万分 感谢 看到 信息 的 兄弟姐妹 留意 一下 联系人 刘波 ， 电话 ： 15864936688 ， 如果 看 一眼 懒得 转 的 冷漠 人 也 请 你 伸出 手指 按 3 秒 看到 就 转转 吧 我们 都 会 有 孩子 谢谢 你 @ 沈阳市 公安局 @ 沈阳 公安 交警支队 @ 新媒 沈阳 @ 沈阳 身边 事 2 沈阳 · 华晨 宝马 铁西 工厂',\n",
       " 'fake_label': 1}"
      ]
     },
     "execution_count": 30,
     "metadata": {},
     "output_type": "execute_result"
    }
   ],
   "source": [
    "train[30011]"
   ]
  },
  {
   "cell_type": "code",
   "execution_count": 31,
   "metadata": {},
   "outputs": [
    {
     "data": {
      "text/plain": [
       "{'category': '社会生活',\n",
       " 'category_label': 3,\n",
       " 'content': '瞪',\n",
       " 'content_words': '瞪',\n",
       " 'fake_label': 0}"
      ]
     },
     "execution_count": 31,
     "metadata": {},
     "output_type": "execute_result"
    }
   ],
   "source": [
    "train[4021]"
   ]
  },
  {
   "cell_type": "code",
   "execution_count": null,
   "metadata": {},
   "outputs": [],
   "source": []
  }
 ],
 "metadata": {
  "kernelspec": {
   "display_name": "Python 3",
   "language": "python",
   "name": "python3"
  },
  "language_info": {
   "codemirror_mode": {
    "name": "ipython",
    "version": 3
   },
   "file_extension": ".py",
   "mimetype": "text/x-python",
   "name": "python",
   "nbconvert_exporter": "python",
   "pygments_lexer": "ipython3",
   "version": "3.7.4"
  },
  "toc": {
   "base_numbering": 1,
   "nav_menu": {},
   "number_sections": true,
   "sideBar": true,
   "skip_h1_title": false,
   "title_cell": "Table of Contents",
   "title_sidebar": "Contents",
   "toc_cell": false,
   "toc_position": {},
   "toc_section_display": true,
   "toc_window_display": true
  }
 },
 "nbformat": 4,
 "nbformat_minor": 2
}
