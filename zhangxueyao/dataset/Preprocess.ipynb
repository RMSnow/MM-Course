{
 "cells": [
  {
   "cell_type": "markdown",
   "metadata": {},
   "source": [
    "# Raw data Statistics"
   ]
  },
  {
   "cell_type": "code",
   "execution_count": 2,
   "metadata": {},
   "outputs": [],
   "source": [
    "import pandas as pd"
   ]
  },
  {
   "cell_type": "code",
   "execution_count": 3,
   "metadata": {},
   "outputs": [
    {
     "data": {
      "text/plain": [
       "33806"
      ]
     },
     "execution_count": 3,
     "metadata": {},
     "output_type": "execute_result"
    }
   ],
   "source": [
    "df = pd.read_csv('./course_project_data.csv')\n",
    "len(df)"
   ]
  },
  {
   "cell_type": "code",
   "execution_count": 4,
   "metadata": {},
   "outputs": [
    {
     "data": {
      "text/html": [
       "<div>\n",
       "<style scoped>\n",
       "    .dataframe tbody tr th:only-of-type {\n",
       "        vertical-align: middle;\n",
       "    }\n",
       "\n",
       "    .dataframe tbody tr th {\n",
       "        vertical-align: top;\n",
       "    }\n",
       "\n",
       "    .dataframe thead th {\n",
       "        text-align: right;\n",
       "    }\n",
       "</style>\n",
       "<table border=\"1\" class=\"dataframe\">\n",
       "  <thead>\n",
       "    <tr style=\"text-align: right;\">\n",
       "      <th></th>\n",
       "      <th>id</th>\n",
       "      <th>content</th>\n",
       "      <th>picture_lists</th>\n",
       "      <th>category</th>\n",
       "      <th>fake_label</th>\n",
       "    </tr>\n",
       "  </thead>\n",
       "  <tbody>\n",
       "    <tr>\n",
       "      <td>0</td>\n",
       "      <td>4028762460708675</td>\n",
       "      <td>回复新浪网友对博文【国家文物局限制鉴宝节目现场估价转】的评论：;;查看原文：</td>\n",
       "      <td>NaN</td>\n",
       "      <td>文体娱乐</td>\n",
       "      <td>0</td>\n",
       "    </tr>\n",
       "    <tr>\n",
       "      <td>1</td>\n",
       "      <td>4126670854660291</td>\n",
       "      <td>//分享网易新闻:《发生在昆明的火锅店老板“辱滇门”，云南人该愤怒还是羞愧》|发生在昆明.....</td>\n",
       "      <td>63ad082a189566eed7c4bb3e4bc55012.jpg</td>\n",
       "      <td>社会生活</td>\n",
       "      <td>0</td>\n",
       "    </tr>\n",
       "    <tr>\n",
       "      <td>2</td>\n",
       "      <td>3702441948299962</td>\n",
       "      <td>西宁城管围殴民警扬言要把警察打死|西宁城管围...</td>\n",
       "      <td>4986dc2a5f09a87c7af5dfc57d7775cd.jpg</td>\n",
       "      <td>社会生活</td>\n",
       "      <td>0</td>\n",
       "    </tr>\n",
       "    <tr>\n",
       "      <td>3</td>\n",
       "      <td>4239549419245466</td>\n",
       "      <td>【川航航班因驾驶舱风挡破裂安全备降成都】今天上午6:26从重庆江北国际机场出发前往拉萨的四川...</td>\n",
       "      <td>dcfccfc69e90a0007afd6aafa1385e56.jpg</td>\n",
       "      <td>社会生活</td>\n",
       "      <td>0</td>\n",
       "    </tr>\n",
       "    <tr>\n",
       "      <td>4</td>\n",
       "      <td>3966337217183260</td>\n",
       "      <td>支持郑强！！！//【贵州大学校长回应空姐言论:常给她们写感谢信】</td>\n",
       "      <td>NaN</td>\n",
       "      <td>社会生活</td>\n",
       "      <td>0</td>\n",
       "    </tr>\n",
       "  </tbody>\n",
       "</table>\n",
       "</div>"
      ],
      "text/plain": [
       "                 id                                            content  \\\n",
       "0  4028762460708675             回复新浪网友对博文【国家文物局限制鉴宝节目现场估价转】的评论：;;查看原文：   \n",
       "1  4126670854660291  //分享网易新闻:《发生在昆明的火锅店老板“辱滇门”，云南人该愤怒还是羞愧》|发生在昆明.....   \n",
       "2  3702441948299962                          西宁城管围殴民警扬言要把警察打死|西宁城管围...   \n",
       "3  4239549419245466  【川航航班因驾驶舱风挡破裂安全备降成都】今天上午6:26从重庆江北国际机场出发前往拉萨的四川...   \n",
       "4  3966337217183260                   支持郑强！！！//【贵州大学校长回应空姐言论:常给她们写感谢信】   \n",
       "\n",
       "                          picture_lists category  fake_label  \n",
       "0                                   NaN     文体娱乐           0  \n",
       "1  63ad082a189566eed7c4bb3e4bc55012.jpg     社会生活           0  \n",
       "2  4986dc2a5f09a87c7af5dfc57d7775cd.jpg     社会生活           0  \n",
       "3  dcfccfc69e90a0007afd6aafa1385e56.jpg     社会生活           0  \n",
       "4                                   NaN     社会生活           0  "
      ]
     },
     "execution_count": 4,
     "metadata": {},
     "output_type": "execute_result"
    }
   ],
   "source": [
    "df.head()"
   ]
  },
  {
   "cell_type": "code",
   "execution_count": 5,
   "metadata": {},
   "outputs": [
    {
     "data": {
      "text/plain": [
       "社会生活    20616\n",
       "医药健康     6320\n",
       "文体娱乐     2620\n",
       "财经商业     1455\n",
       "政治       1241\n",
       "教育考试      901\n",
       "军事        372\n",
       "科技        281\n",
       "Name: category, dtype: int64"
      ]
     },
     "execution_count": 5,
     "metadata": {},
     "output_type": "execute_result"
    }
   ],
   "source": [
    "df['category'].value_counts()"
   ]
  },
  {
   "cell_type": "markdown",
   "metadata": {},
   "source": [
    "## Train/Test 划分"
   ]
  },
  {
   "cell_type": "code",
   "execution_count": 6,
   "metadata": {},
   "outputs": [
    {
     "data": {
      "text/plain": [
       "32193"
      ]
     },
     "execution_count": 6,
     "metadata": {},
     "output_type": "execute_result"
    }
   ],
   "source": [
    "train_df = df[(df['category'] != '政治') & (df['category'] != '军事')]\n",
    "len(train_df)"
   ]
  },
  {
   "cell_type": "code",
   "execution_count": 7,
   "metadata": {},
   "outputs": [
    {
     "data": {
      "text/plain": [
       "1613"
      ]
     },
     "execution_count": 7,
     "metadata": {},
     "output_type": "execute_result"
    }
   ],
   "source": [
    "test_df = df[(df['category'] == '政治') | (df['category'] == '军事')]\n",
    "len(test_df)"
   ]
  },
  {
   "cell_type": "code",
   "execution_count": 8,
   "metadata": {},
   "outputs": [
    {
     "data": {
      "text/plain": [
       "(32193, 1613, 33806, 33806)"
      ]
     },
     "execution_count": 8,
     "metadata": {},
     "output_type": "execute_result"
    }
   ],
   "source": [
    "len(train_df), len(test_df), len(train_df) + len(test_df), len(df)"
   ]
  },
  {
   "cell_type": "code",
   "execution_count": 9,
   "metadata": {},
   "outputs": [
    {
     "data": {
      "text/plain": [
       "19.958462492250465"
      ]
     },
     "execution_count": 9,
     "metadata": {},
     "output_type": "execute_result"
    }
   ],
   "source": [
    "len(train_df) / len(test_df)"
   ]
  },
  {
   "cell_type": "code",
   "execution_count": 13,
   "metadata": {},
   "outputs": [
    {
     "data": {
      "text/plain": [
       "'【#李克强#出席第20次中国-东盟领导人会议】李克强在发言中表示，今年是东盟成立50周年，中国对东盟的发展进步感到高兴，对东盟未来前景充满信心。中方坚定支持东盟共同体建设，支持东盟在区域合作中的中心地位，支持东盟在国际地区事务中发挥更大作用，始终把东盟作为周边外交的优先方向，坚持与东盟做安危与共、同舟共济的好邻居、好朋友、好伙伴，携手构建理念共通、繁荣共享、责任共担的命运共同体。قالرئيسمجلسالدولةالصينيليكهتشيانغإنّبكينوالدولالأعضاءللآسيانستبدأمشاوراتحولمدونةقواعدالسلوكفيبحرالصينالجنوبي.وقالليإنّالصينملتزمةبالحفاظعلىالسلاموالاستقرارفيبحرالصينالجنوبيوحلالنزاعاتالإقليميةوالبحريةمعالأطرافالمعنيةبشكلمباشرمنخلالالمفاوضاتCGTN阿拉伯...'"
      ]
     },
     "execution_count": 13,
     "metadata": {},
     "output_type": "execute_result"
    }
   ],
   "source": [
    "test_df.iloc[646]['content']"
   ]
  },
  {
   "cell_type": "code",
   "execution_count": null,
   "metadata": {},
   "outputs": [],
   "source": []
  },
  {
   "cell_type": "code",
   "execution_count": null,
   "metadata": {},
   "outputs": [],
   "source": []
  },
  {
   "cell_type": "markdown",
   "metadata": {},
   "source": [
    "## Fake label 比例"
   ]
  },
  {
   "cell_type": "code",
   "execution_count": 9,
   "metadata": {},
   "outputs": [],
   "source": [
    "def show_label(df):\n",
    "    print(df['fake_label'].value_counts())\n",
    "    print()\n",
    "    print(df['fake_label'].value_counts() / len(df))"
   ]
  },
  {
   "cell_type": "code",
   "execution_count": 10,
   "metadata": {},
   "outputs": [
    {
     "name": "stdout",
     "output_type": "stream",
     "text": [
      "1    16119\n",
      "0    16074\n",
      "Name: fake_label, dtype: int64\n",
      "\n",
      "1    0.500699\n",
      "0    0.499301\n",
      "Name: fake_label, dtype: float64\n"
     ]
    }
   ],
   "source": [
    "show_label(train_df)"
   ]
  },
  {
   "cell_type": "code",
   "execution_count": 11,
   "metadata": {},
   "outputs": [
    {
     "name": "stdout",
     "output_type": "stream",
     "text": [
      "0    891\n",
      "1    722\n",
      "Name: fake_label, dtype: int64\n",
      "\n",
      "0    0.552387\n",
      "1    0.447613\n",
      "Name: fake_label, dtype: float64\n"
     ]
    }
   ],
   "source": [
    "show_label(test_df)"
   ]
  },
  {
   "cell_type": "markdown",
   "metadata": {},
   "source": [
    "## Category 比例"
   ]
  },
  {
   "cell_type": "code",
   "execution_count": 12,
   "metadata": {},
   "outputs": [],
   "source": [
    "def show_category(df):\n",
    "    print(df['category'].value_counts())\n",
    "    print()\n",
    "    print(df['category'].value_counts() / len(df))"
   ]
  },
  {
   "cell_type": "code",
   "execution_count": 13,
   "metadata": {},
   "outputs": [
    {
     "name": "stdout",
     "output_type": "stream",
     "text": [
      "社会生活    20616\n",
      "医药健康     6320\n",
      "文体娱乐     2620\n",
      "财经商业     1455\n",
      "教育考试      901\n",
      "科技        281\n",
      "Name: category, dtype: int64\n",
      "\n",
      "社会生活    0.640388\n",
      "医药健康    0.196316\n",
      "文体娱乐    0.081384\n",
      "财经商业    0.045196\n",
      "教育考试    0.027987\n",
      "科技      0.008729\n",
      "Name: category, dtype: float64\n"
     ]
    }
   ],
   "source": [
    "show_category(train_df)"
   ]
  },
  {
   "cell_type": "code",
   "execution_count": 14,
   "metadata": {},
   "outputs": [
    {
     "name": "stdout",
     "output_type": "stream",
     "text": [
      "政治    1241\n",
      "军事     372\n",
      "Name: category, dtype: int64\n",
      "\n",
      "政治    0.769374\n",
      "军事    0.230626\n",
      "Name: category, dtype: float64\n"
     ]
    }
   ],
   "source": [
    "show_category(test_df)"
   ]
  },
  {
   "cell_type": "code",
   "execution_count": 15,
   "metadata": {},
   "outputs": [
    {
     "name": "stdout",
     "output_type": "stream",
     "text": [
      "社会生活    10203\n",
      "医药健康     3321\n",
      "文体娱乐     1267\n",
      "财经商业      693\n",
      "教育考试      509\n",
      "科技        126\n",
      "Name: category, dtype: int64\n",
      "\n",
      "社会生活    0.632980\n",
      "医药健康    0.206030\n",
      "文体娱乐    0.078603\n",
      "财经商业    0.042993\n",
      "教育考试    0.031578\n",
      "科技      0.007817\n",
      "Name: category, dtype: float64\n"
     ]
    }
   ],
   "source": [
    "show_category(train_df[train_df['fake_label']==1])"
   ]
  },
  {
   "cell_type": "code",
   "execution_count": 16,
   "metadata": {},
   "outputs": [
    {
     "name": "stdout",
     "output_type": "stream",
     "text": [
      "社会生活    10413\n",
      "医药健康     2999\n",
      "文体娱乐     1353\n",
      "财经商业      762\n",
      "教育考试      392\n",
      "科技        155\n",
      "Name: category, dtype: int64\n",
      "\n",
      "社会生活    0.647816\n",
      "医药健康    0.186575\n",
      "文体娱乐    0.084173\n",
      "财经商业    0.047406\n",
      "教育考试    0.024387\n",
      "科技      0.009643\n",
      "Name: category, dtype: float64\n"
     ]
    }
   ],
   "source": [
    "show_category(train_df[train_df['fake_label']==0])"
   ]
  },
  {
   "cell_type": "code",
   "execution_count": 17,
   "metadata": {},
   "outputs": [
    {
     "name": "stdout",
     "output_type": "stream",
     "text": [
      "政治    571\n",
      "军事    151\n",
      "Name: category, dtype: int64\n",
      "\n",
      "政治    0.790859\n",
      "军事    0.209141\n",
      "Name: category, dtype: float64\n"
     ]
    }
   ],
   "source": [
    "show_category(test_df[test_df['fake_label']==1])"
   ]
  },
  {
   "cell_type": "code",
   "execution_count": 18,
   "metadata": {},
   "outputs": [
    {
     "name": "stdout",
     "output_type": "stream",
     "text": [
      "政治    670\n",
      "军事    221\n",
      "Name: category, dtype: int64\n",
      "\n",
      "政治    0.751964\n",
      "军事    0.248036\n",
      "Name: category, dtype: float64\n"
     ]
    }
   ],
   "source": [
    "show_category(test_df[test_df['fake_label']==0])"
   ]
  },
  {
   "cell_type": "markdown",
   "metadata": {},
   "source": [
    "## 有图片的比例"
   ]
  },
  {
   "cell_type": "code",
   "execution_count": 9,
   "metadata": {},
   "outputs": [],
   "source": [
    "def show_img(df):\n",
    "    print(len(df[df['picture_lists'].notnull()]))\n",
    "    print()\n",
    "    print(len(df[df['picture_lists'].notnull()]) / len(df))"
   ]
  },
  {
   "cell_type": "code",
   "execution_count": 10,
   "metadata": {},
   "outputs": [
    {
     "name": "stdout",
     "output_type": "stream",
     "text": [
      "19006\n",
      "\n",
      "0.5903767899854006\n"
     ]
    }
   ],
   "source": [
    "show_img(train_df)"
   ]
  },
  {
   "cell_type": "code",
   "execution_count": 11,
   "metadata": {},
   "outputs": [
    {
     "name": "stdout",
     "output_type": "stream",
     "text": [
      "1061\n",
      "\n",
      "0.6577805331680099\n"
     ]
    }
   ],
   "source": [
    "show_img(test_df)"
   ]
  },
  {
   "cell_type": "code",
   "execution_count": 19,
   "metadata": {},
   "outputs": [
    {
     "name": "stdout",
     "output_type": "stream",
     "text": [
      "社会生活    12345\n",
      "医药健康     3725\n",
      "文体娱乐     1436\n",
      "财经商业      914\n",
      "教育考试      400\n",
      "科技        186\n",
      "Name: category, dtype: int64\n",
      "\n",
      "社会生活    0.649532\n",
      "医药健康    0.195991\n",
      "文体娱乐    0.075555\n",
      "财经商业    0.048090\n",
      "教育考试    0.021046\n",
      "科技      0.009786\n",
      "Name: category, dtype: float64\n"
     ]
    }
   ],
   "source": [
    "show_category(train_df[train_df['picture_lists'].notnull()])"
   ]
  },
  {
   "cell_type": "code",
   "execution_count": 20,
   "metadata": {},
   "outputs": [
    {
     "name": "stdout",
     "output_type": "stream",
     "text": [
      "政治    839\n",
      "军事    222\n",
      "Name: category, dtype: int64\n",
      "\n",
      "政治    0.790763\n",
      "军事    0.209237\n",
      "Name: category, dtype: float64\n"
     ]
    }
   ],
   "source": [
    "show_category(test_df[test_df['picture_lists'].notnull()])"
   ]
  },
  {
   "cell_type": "markdown",
   "metadata": {},
   "source": [
    "# Json 格式导出"
   ]
  },
  {
   "cell_type": "code",
   "execution_count": 23,
   "metadata": {},
   "outputs": [
    {
     "data": {
      "text/html": [
       "<div>\n",
       "<style scoped>\n",
       "    .dataframe tbody tr th:only-of-type {\n",
       "        vertical-align: middle;\n",
       "    }\n",
       "\n",
       "    .dataframe tbody tr th {\n",
       "        vertical-align: top;\n",
       "    }\n",
       "\n",
       "    .dataframe thead th {\n",
       "        text-align: right;\n",
       "    }\n",
       "</style>\n",
       "<table border=\"1\" class=\"dataframe\">\n",
       "  <thead>\n",
       "    <tr style=\"text-align: right;\">\n",
       "      <th></th>\n",
       "      <th>id</th>\n",
       "      <th>content</th>\n",
       "      <th>picture_lists</th>\n",
       "      <th>category</th>\n",
       "      <th>fake_label</th>\n",
       "    </tr>\n",
       "  </thead>\n",
       "  <tbody>\n",
       "    <tr>\n",
       "      <td>0</td>\n",
       "      <td>4028762460708675</td>\n",
       "      <td>回复新浪网友对博文【国家文物局限制鉴宝节目现场估价转】的评论：;;查看原文：</td>\n",
       "      <td>NaN</td>\n",
       "      <td>文体娱乐</td>\n",
       "      <td>0</td>\n",
       "    </tr>\n",
       "    <tr>\n",
       "      <td>1</td>\n",
       "      <td>4126670854660291</td>\n",
       "      <td>//分享网易新闻:《发生在昆明的火锅店老板“辱滇门”，云南人该愤怒还是羞愧》|发生在昆明.....</td>\n",
       "      <td>63ad082a189566eed7c4bb3e4bc55012.jpg</td>\n",
       "      <td>社会生活</td>\n",
       "      <td>0</td>\n",
       "    </tr>\n",
       "    <tr>\n",
       "      <td>2</td>\n",
       "      <td>3702441948299962</td>\n",
       "      <td>西宁城管围殴民警扬言要把警察打死|西宁城管围...</td>\n",
       "      <td>4986dc2a5f09a87c7af5dfc57d7775cd.jpg</td>\n",
       "      <td>社会生活</td>\n",
       "      <td>0</td>\n",
       "    </tr>\n",
       "    <tr>\n",
       "      <td>3</td>\n",
       "      <td>4239549419245466</td>\n",
       "      <td>【川航航班因驾驶舱风挡破裂安全备降成都】今天上午6:26从重庆江北国际机场出发前往拉萨的四川...</td>\n",
       "      <td>dcfccfc69e90a0007afd6aafa1385e56.jpg</td>\n",
       "      <td>社会生活</td>\n",
       "      <td>0</td>\n",
       "    </tr>\n",
       "    <tr>\n",
       "      <td>4</td>\n",
       "      <td>3966337217183260</td>\n",
       "      <td>支持郑强！！！//【贵州大学校长回应空姐言论:常给她们写感谢信】</td>\n",
       "      <td>NaN</td>\n",
       "      <td>社会生活</td>\n",
       "      <td>0</td>\n",
       "    </tr>\n",
       "  </tbody>\n",
       "</table>\n",
       "</div>"
      ],
      "text/plain": [
       "                 id                                            content  \\\n",
       "0  4028762460708675             回复新浪网友对博文【国家文物局限制鉴宝节目现场估价转】的评论：;;查看原文：   \n",
       "1  4126670854660291  //分享网易新闻:《发生在昆明的火锅店老板“辱滇门”，云南人该愤怒还是羞愧》|发生在昆明.....   \n",
       "2  3702441948299962                          西宁城管围殴民警扬言要把警察打死|西宁城管围...   \n",
       "3  4239549419245466  【川航航班因驾驶舱风挡破裂安全备降成都】今天上午6:26从重庆江北国际机场出发前往拉萨的四川...   \n",
       "4  3966337217183260                   支持郑强！！！//【贵州大学校长回应空姐言论:常给她们写感谢信】   \n",
       "\n",
       "                          picture_lists category  fake_label  \n",
       "0                                   NaN     文体娱乐           0  \n",
       "1  63ad082a189566eed7c4bb3e4bc55012.jpg     社会生活           0  \n",
       "2  4986dc2a5f09a87c7af5dfc57d7775cd.jpg     社会生活           0  \n",
       "3  dcfccfc69e90a0007afd6aafa1385e56.jpg     社会生活           0  \n",
       "4                                   NaN     社会生活           0  "
      ]
     },
     "execution_count": 23,
     "metadata": {},
     "output_type": "execute_result"
    }
   ],
   "source": [
    "df.head()"
   ]
  },
  {
   "cell_type": "markdown",
   "metadata": {},
   "source": [
    "## Category Label"
   ]
  },
  {
   "cell_type": "code",
   "execution_count": 29,
   "metadata": {},
   "outputs": [
    {
     "data": {
      "text/plain": [
       "(['医药健康', '教育考试', '文体娱乐', '社会生活', '科技', '财经商业'], ['军事', '政治'])"
      ]
     },
     "execution_count": 29,
     "metadata": {},
     "output_type": "execute_result"
    }
   ],
   "source": [
    "a = train_df['category'].tolist()\n",
    "a = list(set(a))\n",
    "a.sort()\n",
    "\n",
    "b = test_df['category'].tolist()\n",
    "b = list(set(b))\n",
    "b.sort()\n",
    "\n",
    "a, b"
   ]
  },
  {
   "cell_type": "code",
   "execution_count": 31,
   "metadata": {},
   "outputs": [
    {
     "data": {
      "text/plain": [
       "['医药健康', '教育考试', '文体娱乐', '社会生活', '科技', '财经商业', '军事', '政治']"
      ]
     },
     "execution_count": 31,
     "metadata": {},
     "output_type": "execute_result"
    }
   ],
   "source": [
    "categories = a + b\n",
    "# categories = ['医药健康', '教育考试', '文体娱乐', '社会生活', '科技', '财经商业', '军事', '政治']\n",
    "categories"
   ]
  },
  {
   "cell_type": "code",
   "execution_count": 33,
   "metadata": {},
   "outputs": [
    {
     "data": {
      "text/plain": [
       "{'医药健康': 0,\n",
       " '教育考试': 1,\n",
       " '文体娱乐': 2,\n",
       " '社会生活': 3,\n",
       " '科技': 4,\n",
       " '财经商业': 5,\n",
       " '军事': 6,\n",
       " '政治': 7}"
      ]
     },
     "execution_count": 33,
     "metadata": {},
     "output_type": "execute_result"
    }
   ],
   "source": [
    "categories2index = dict(zip(categories, [i for i in range(len(categories))]))\n",
    "categories2index"
   ]
  },
  {
   "cell_type": "code",
   "execution_count": 34,
   "metadata": {},
   "outputs": [],
   "source": [
    "def gen_category_label(df):\n",
    "    category = df['category'].tolist()\n",
    "    labels = [categories2index[c] for c in category]\n",
    "    \n",
    "    assert len(category) == len(labels)\n",
    "    \n",
    "    df['category_label'] = labels"
   ]
  },
  {
   "cell_type": "code",
   "execution_count": 35,
   "metadata": {},
   "outputs": [
    {
     "name": "stderr",
     "output_type": "stream",
     "text": [
      "/usr/local/anaconda3/lib/python3.7/site-packages/ipykernel_launcher.py:7: SettingWithCopyWarning: \n",
      "A value is trying to be set on a copy of a slice from a DataFrame.\n",
      "Try using .loc[row_indexer,col_indexer] = value instead\n",
      "\n",
      "See the caveats in the documentation: http://pandas.pydata.org/pandas-docs/stable/user_guide/indexing.html#returning-a-view-versus-a-copy\n",
      "  import sys\n"
     ]
    }
   ],
   "source": [
    "gen_category_label(train_df)\n",
    "gen_category_label(test_df)"
   ]
  },
  {
   "cell_type": "code",
   "execution_count": 38,
   "metadata": {},
   "outputs": [
    {
     "data": {
      "text/plain": [
       "3    20616\n",
       "0     6320\n",
       "2     2620\n",
       "5     1455\n",
       "1      901\n",
       "4      281\n",
       "Name: category_label, dtype: int64"
      ]
     },
     "execution_count": 38,
     "metadata": {},
     "output_type": "execute_result"
    }
   ],
   "source": [
    "train_df['category_label'].value_counts()"
   ]
  },
  {
   "cell_type": "code",
   "execution_count": 39,
   "metadata": {},
   "outputs": [
    {
     "data": {
      "text/plain": [
       "社会生活    20616\n",
       "医药健康     6320\n",
       "文体娱乐     2620\n",
       "财经商业     1455\n",
       "教育考试      901\n",
       "科技        281\n",
       "Name: category, dtype: int64"
      ]
     },
     "execution_count": 39,
     "metadata": {},
     "output_type": "execute_result"
    }
   ],
   "source": [
    "train_df['category'].value_counts()"
   ]
  },
  {
   "cell_type": "code",
   "execution_count": 40,
   "metadata": {},
   "outputs": [
    {
     "data": {
      "text/plain": [
       "7    1241\n",
       "6     372\n",
       "Name: category_label, dtype: int64"
      ]
     },
     "execution_count": 40,
     "metadata": {},
     "output_type": "execute_result"
    }
   ],
   "source": [
    "test_df['category_label'].value_counts()"
   ]
  },
  {
   "cell_type": "code",
   "execution_count": 41,
   "metadata": {},
   "outputs": [
    {
     "data": {
      "text/plain": [
       "政治    1241\n",
       "军事     372\n",
       "Name: category, dtype: int64"
      ]
     },
     "execution_count": 41,
     "metadata": {},
     "output_type": "execute_result"
    }
   ],
   "source": [
    "test_df['category'].value_counts()"
   ]
  },
  {
   "cell_type": "markdown",
   "metadata": {},
   "source": [
    "## Dataframe -> Dict"
   ]
  },
  {
   "cell_type": "code",
   "execution_count": 49,
   "metadata": {},
   "outputs": [],
   "source": [
    "import json"
   ]
  },
  {
   "cell_type": "code",
   "execution_count": 48,
   "metadata": {},
   "outputs": [
    {
     "data": {
      "text/html": [
       "<div>\n",
       "<style scoped>\n",
       "    .dataframe tbody tr th:only-of-type {\n",
       "        vertical-align: middle;\n",
       "    }\n",
       "\n",
       "    .dataframe tbody tr th {\n",
       "        vertical-align: top;\n",
       "    }\n",
       "\n",
       "    .dataframe thead th {\n",
       "        text-align: right;\n",
       "    }\n",
       "</style>\n",
       "<table border=\"1\" class=\"dataframe\">\n",
       "  <thead>\n",
       "    <tr style=\"text-align: right;\">\n",
       "      <th></th>\n",
       "      <th>id</th>\n",
       "      <th>content</th>\n",
       "      <th>picture_lists</th>\n",
       "      <th>category</th>\n",
       "      <th>fake_label</th>\n",
       "      <th>category_label</th>\n",
       "    </tr>\n",
       "  </thead>\n",
       "  <tbody>\n",
       "    <tr>\n",
       "      <td>0</td>\n",
       "      <td>4028762460708675</td>\n",
       "      <td>回复新浪网友对博文【国家文物局限制鉴宝节目现场估价转】的评论：;;查看原文：</td>\n",
       "      <td>NaN</td>\n",
       "      <td>文体娱乐</td>\n",
       "      <td>0</td>\n",
       "      <td>2</td>\n",
       "    </tr>\n",
       "    <tr>\n",
       "      <td>1</td>\n",
       "      <td>4126670854660291</td>\n",
       "      <td>//分享网易新闻:《发生在昆明的火锅店老板“辱滇门”，云南人该愤怒还是羞愧》|发生在昆明.....</td>\n",
       "      <td>63ad082a189566eed7c4bb3e4bc55012.jpg</td>\n",
       "      <td>社会生活</td>\n",
       "      <td>0</td>\n",
       "      <td>3</td>\n",
       "    </tr>\n",
       "    <tr>\n",
       "      <td>2</td>\n",
       "      <td>3702441948299962</td>\n",
       "      <td>西宁城管围殴民警扬言要把警察打死|西宁城管围...</td>\n",
       "      <td>4986dc2a5f09a87c7af5dfc57d7775cd.jpg</td>\n",
       "      <td>社会生活</td>\n",
       "      <td>0</td>\n",
       "      <td>3</td>\n",
       "    </tr>\n",
       "    <tr>\n",
       "      <td>3</td>\n",
       "      <td>4239549419245466</td>\n",
       "      <td>【川航航班因驾驶舱风挡破裂安全备降成都】今天上午6:26从重庆江北国际机场出发前往拉萨的四川...</td>\n",
       "      <td>dcfccfc69e90a0007afd6aafa1385e56.jpg</td>\n",
       "      <td>社会生活</td>\n",
       "      <td>0</td>\n",
       "      <td>3</td>\n",
       "    </tr>\n",
       "    <tr>\n",
       "      <td>4</td>\n",
       "      <td>3966337217183260</td>\n",
       "      <td>支持郑强！！！//【贵州大学校长回应空姐言论:常给她们写感谢信】</td>\n",
       "      <td>NaN</td>\n",
       "      <td>社会生活</td>\n",
       "      <td>0</td>\n",
       "      <td>3</td>\n",
       "    </tr>\n",
       "  </tbody>\n",
       "</table>\n",
       "</div>"
      ],
      "text/plain": [
       "                 id                                            content  \\\n",
       "0  4028762460708675             回复新浪网友对博文【国家文物局限制鉴宝节目现场估价转】的评论：;;查看原文：   \n",
       "1  4126670854660291  //分享网易新闻:《发生在昆明的火锅店老板“辱滇门”，云南人该愤怒还是羞愧》|发生在昆明.....   \n",
       "2  3702441948299962                          西宁城管围殴民警扬言要把警察打死|西宁城管围...   \n",
       "3  4239549419245466  【川航航班因驾驶舱风挡破裂安全备降成都】今天上午6:26从重庆江北国际机场出发前往拉萨的四川...   \n",
       "4  3966337217183260                   支持郑强！！！//【贵州大学校长回应空姐言论:常给她们写感谢信】   \n",
       "\n",
       "                          picture_lists category  fake_label  category_label  \n",
       "0                                   NaN     文体娱乐           0               2  \n",
       "1  63ad082a189566eed7c4bb3e4bc55012.jpg     社会生活           0               3  \n",
       "2  4986dc2a5f09a87c7af5dfc57d7775cd.jpg     社会生活           0               3  \n",
       "3  dcfccfc69e90a0007afd6aafa1385e56.jpg     社会生活           0               3  \n",
       "4                                   NaN     社会生活           0               3  "
      ]
     },
     "execution_count": 48,
     "metadata": {},
     "output_type": "execute_result"
    }
   ],
   "source": [
    "train_df.head()"
   ]
  },
  {
   "cell_type": "code",
   "execution_count": 50,
   "metadata": {},
   "outputs": [],
   "source": [
    "def gen_pieces(df):\n",
    "    content = df['content'].tolist()\n",
    "    category = df['category'].tolist()\n",
    "    category_label = df['category_label'].tolist()\n",
    "    fake_label = df['fake_label'].tolist()\n",
    "    \n",
    "    pieces = []\n",
    "    for i in range(len(df)):\n",
    "        piece = dict()\n",
    "        piece['content'] = content[i]\n",
    "        piece['category'] = category[i]\n",
    "        piece['category_label'] = category_label[i]\n",
    "        piece['fake_label'] = fake_label[i]\n",
    "        \n",
    "        pieces.append(piece)\n",
    "    \n",
    "    print(len(df), len(pieces))\n",
    "    return pieces"
   ]
  },
  {
   "cell_type": "code",
   "execution_count": 51,
   "metadata": {},
   "outputs": [
    {
     "name": "stdout",
     "output_type": "stream",
     "text": [
      "32193 32193\n"
     ]
    }
   ],
   "source": [
    "train = gen_pieces(train_df)"
   ]
  },
  {
   "cell_type": "code",
   "execution_count": 52,
   "metadata": {},
   "outputs": [
    {
     "name": "stdout",
     "output_type": "stream",
     "text": [
      "1613 1613\n"
     ]
    }
   ],
   "source": [
    "test = gen_pieces(test_df)"
   ]
  },
  {
   "cell_type": "code",
   "execution_count": 55,
   "metadata": {},
   "outputs": [
    {
     "data": {
      "text/plain": [
       "{'content': '分享网易新闻:《萧山坎山重大车祸4死5伤，肇事司机被抓获！》http://t.cn/RqUfSa4@网易新闻客户端#我在看新闻#',\n",
       " 'category': '财经商业',\n",
       " 'category_label': 5,\n",
       " 'fake_label': 0}"
      ]
     },
     "execution_count": 55,
     "metadata": {},
     "output_type": "execute_result"
    }
   ],
   "source": [
    "train[10]"
   ]
  },
  {
   "cell_type": "code",
   "execution_count": 56,
   "metadata": {},
   "outputs": [],
   "source": [
    "with open('./train.json', 'w') as f:\n",
    "    json.dump(train, f, indent=4, ensure_ascii=False, sort_keys=True)\n",
    "with open('./test.json', 'w') as f:\n",
    "    json.dump(test, f, indent=4, ensure_ascii=False, sort_keys=True)"
   ]
  },
  {
   "cell_type": "markdown",
   "metadata": {},
   "source": [
    "## 分词"
   ]
  },
  {
   "cell_type": "code",
   "execution_count": 1,
   "metadata": {},
   "outputs": [],
   "source": [
    "import jieba\n",
    "import json\n",
    "import re"
   ]
  },
  {
   "cell_type": "code",
   "execution_count": 2,
   "metadata": {},
   "outputs": [
    {
     "data": {
      "text/plain": [
       "(32193, 1613)"
      ]
     },
     "execution_count": 2,
     "metadata": {},
     "output_type": "execute_result"
    }
   ],
   "source": [
    "with open('./train.json', 'r') as f:\n",
    "    train = json.load(f)\n",
    "with open('./test.json', 'r') as f:\n",
    "    test = json.load(f)\n",
    "\n",
    "len(train), len(test)"
   ]
  },
  {
   "cell_type": "code",
   "execution_count": 3,
   "metadata": {},
   "outputs": [],
   "source": [
    "def del_url(text):\n",
    "    pattern = re.compile('http[s]?://(?:[a-zA-Z]|[0-9]|[$-_@.&+]|[!*\\(\\),]|(?:%[0-9a-fA-F][0-9a-fA-F]))+')\n",
    "    urls = re.findall(pattern, text)\n",
    "    for url in urls:\n",
    "        text = text.replace(url, '')\n",
    "        \n",
    "#     pattern = re.compile('@(?:[a-zA-Z]|[0-9]|[$-_@.&+]|[!*\\(\\),]|(?:%[0-9a-fA-F][0-9a-fA-F]))+')\n",
    "#     ats = re.findall(pattern, text)\n",
    "#     for at in ats:\n",
    "#         text = text.replace(at, '')\n",
    "    return text\n",
    "\n",
    "def cut_text(text):\n",
    "    text = del_url(text)\n",
    "    words = list(jieba.cut(text))\n",
    "    return ' '.join(words)"
   ]
  },
  {
   "cell_type": "code",
   "execution_count": 4,
   "metadata": {},
   "outputs": [],
   "source": [
    "def gen_content_words(pieces):\n",
    "    for piece in pieces:\n",
    "        piece['content_words'] = cut_text(piece['content'])\n",
    "    return pieces"
   ]
  },
  {
   "cell_type": "code",
   "execution_count": 6,
   "metadata": {},
   "outputs": [],
   "source": [
    "def gen_content_words(pieces):\n",
    "    for piece in pieces:\n",
    "        piece['content_words'] = cut_text(piece['content'])"
   ]
  },
  {
   "cell_type": "code",
   "execution_count": 7,
   "metadata": {},
   "outputs": [
    {
     "name": "stderr",
     "output_type": "stream",
     "text": [
      "Building prefix dict from the default dictionary ...\n",
      "Dumping model to file cache /tmp/jieba.cache\n",
      "Loading model cost 0.630 seconds.\n",
      "Prefix dict has been built successfully.\n"
     ]
    }
   ],
   "source": [
    "gen_content_words(train)\n",
    "gen_content_words(test)"
   ]
  },
  {
   "cell_type": "code",
   "execution_count": 8,
   "metadata": {},
   "outputs": [
    {
     "data": {
      "text/plain": [
       "{'category': '财经商业',\n",
       " 'category_label': 5,\n",
       " 'content': '分享网易新闻:《萧山坎山重大车祸4死5伤，肇事司机被抓获！》http://t.cn/RqUfSa4@网易新闻客户端#我在看新闻#',\n",
       " 'fake_label': 0,\n",
       " 'content_words': '分享 网易 新闻 : 《 萧山 坎山 重大 车祸 4 死 5 伤 ， 肇事 司机 被 抓获 ！ 》 网易 新闻 客户端 # 我 在 看 新闻 #'}"
      ]
     },
     "execution_count": 8,
     "metadata": {},
     "output_type": "execute_result"
    }
   ],
   "source": [
    "train[10]"
   ]
  },
  {
   "cell_type": "code",
   "execution_count": 9,
   "metadata": {},
   "outputs": [
    {
     "data": {
      "text/plain": [
       "{'category': '政治',\n",
       " 'category_label': 7,\n",
       " 'content': '这件事极大地考验政府公信力！几个腐败分子重要还是广大人民群众重要？？#央视新闻微直播##将反腐进行到底##超级话题##中央纪检委开通举报网站##世界杯吐槽大会##人大新闻##世界杯##中央纪检委##101富婆##微博电影之夜##厉害了我的南京#',\n",
       " 'fake_label': 0,\n",
       " 'content_words': '这件 事 极大 地 考验 政府 公信力 ！ 几个 腐败分子 重要 还是 广大 人民 群众 重要 ？ ？ # 央视 新闻 微 直播 ## 将 反腐 进行 到底 ## 超级 话题 ## 中央 纪检委 开通 举报 网站 ## 世界杯 吐槽 大会 ## 人大 新闻 ## 世界杯 ## 中央 纪检委 ## 101 富婆 ## 微博 电影 之夜 ## 厉害 了 我 的 南京 #'}"
      ]
     },
     "execution_count": 9,
     "metadata": {},
     "output_type": "execute_result"
    }
   ],
   "source": [
    "test[10]"
   ]
  },
  {
   "cell_type": "code",
   "execution_count": 10,
   "metadata": {},
   "outputs": [],
   "source": [
    "with open('./train.json', 'w') as f:\n",
    "    json.dump(train, f, indent=4, ensure_ascii=False, sort_keys=True)\n",
    "with open('./test.json', 'w') as f:\n",
    "    json.dump(test, f, indent=4, ensure_ascii=False, sort_keys=True)"
   ]
  },
  {
   "cell_type": "markdown",
   "metadata": {},
   "source": [
    "# Statistics"
   ]
  },
  {
   "cell_type": "markdown",
   "metadata": {},
   "source": [
    "## 词数统计"
   ]
  },
  {
   "cell_type": "code",
   "execution_count": 1,
   "metadata": {},
   "outputs": [],
   "source": [
    "import json"
   ]
  },
  {
   "cell_type": "code",
   "execution_count": 2,
   "metadata": {},
   "outputs": [
    {
     "data": {
      "text/plain": [
       "(32193, 1613)"
      ]
     },
     "execution_count": 2,
     "metadata": {},
     "output_type": "execute_result"
    }
   ],
   "source": [
    "with open('./train.json', 'r') as f:\n",
    "    train = json.load(f)\n",
    "with open('./test.json', 'r') as f:\n",
    "    test = json.load(f)\n",
    "\n",
    "len(train), len(test)"
   ]
  },
  {
   "cell_type": "code",
   "execution_count": 3,
   "metadata": {},
   "outputs": [],
   "source": [
    "contents_words_cnt = []\n",
    "for dataset in [train, test]:\n",
    "    for piece in dataset:\n",
    "        contents_words_cnt.append(len(piece['content_words'].split()))"
   ]
  },
  {
   "cell_type": "code",
   "execution_count": 4,
   "metadata": {},
   "outputs": [],
   "source": [
    "def show_cover_rate(words_cnt, WORDS=100):\n",
    "    covered = 0\n",
    "    for cnt in words_cnt:\n",
    "        if cnt <= WORDS:\n",
    "            covered += 1\n",
    "\n",
    "    print('The longest sentence has {} words. When WORDS = {}, the cover_rate = {:.2f}'.format(\n",
    "        max(words_cnt), WORDS, covered / len(words_cnt)))"
   ]
  },
  {
   "cell_type": "code",
   "execution_count": 7,
   "metadata": {},
   "outputs": [
    {
     "name": "stdout",
     "output_type": "stream",
     "text": [
      "The longest sentence has 1631 words. When WORDS = 100, the cover_rate = 0.93\n",
      "The longest sentence has 1631 words. When WORDS = 120, the cover_rate = 0.96\n",
      "The longest sentence has 1631 words. When WORDS = 150, the cover_rate = 0.97\n",
      "The longest sentence has 1631 words. When WORDS = 200, the cover_rate = 0.98\n"
     ]
    }
   ],
   "source": [
    "show_cover_rate(contents_words_cnt, WORDS=100)\n",
    "show_cover_rate(contents_words_cnt, WORDS=120)\n",
    "show_cover_rate(contents_words_cnt, WORDS=150)\n",
    "show_cover_rate(contents_words_cnt, WORDS=200)"
   ]
  },
  {
   "cell_type": "markdown",
   "metadata": {},
   "source": [
    "# 生成Label矩阵"
   ]
  },
  {
   "cell_type": "code",
   "execution_count": 4,
   "metadata": {},
   "outputs": [],
   "source": [
    "import json\n",
    "import numpy as np\n",
    "from keras.utils import to_categorical"
   ]
  },
  {
   "cell_type": "code",
   "execution_count": 2,
   "metadata": {},
   "outputs": [
    {
     "data": {
      "text/plain": [
       "(32193, 1613)"
      ]
     },
     "execution_count": 2,
     "metadata": {},
     "output_type": "execute_result"
    }
   ],
   "source": [
    "with open('./train.json', 'r') as f:\n",
    "    train = json.load(f)\n",
    "with open('./test.json', 'r') as f:\n",
    "    test = json.load(f)\n",
    "\n",
    "len(train), len(test)"
   ]
  },
  {
   "cell_type": "code",
   "execution_count": 3,
   "metadata": {},
   "outputs": [
    {
     "data": {
      "text/plain": [
       "{'category': '文体娱乐',\n",
       " 'category_label': 2,\n",
       " 'content': '回复新浪网友对博文【国家文物局限制鉴宝节目现场估价转】的评论：;;查看原文：',\n",
       " 'content_words': '回复 新浪 网友 对 博文 【 国家文物局 限制 鉴宝 节目 现场 估价 转 】 的 评论 ： ; ; 查看 原文 ：',\n",
       " 'fake_label': 0}"
      ]
     },
     "execution_count": 3,
     "metadata": {},
     "output_type": "execute_result"
    }
   ],
   "source": [
    "train[0]"
   ]
  },
  {
   "cell_type": "code",
   "execution_count": 5,
   "metadata": {},
   "outputs": [],
   "source": [
    "def gen_labels(pieces):\n",
    "    fake_labels = [p['fake_label'] for p in pieces]\n",
    "    category_labels = [p['category_label'] for p in pieces]\n",
    "    \n",
    "    fake_label_arr = to_categorical(fake_labels)\n",
    "    category_label_arr = to_categorical(category_labels)\n",
    "    \n",
    "    return fake_label_arr, category_label_arr"
   ]
  },
  {
   "cell_type": "code",
   "execution_count": 7,
   "metadata": {},
   "outputs": [],
   "source": [
    "test_label, test_category_label = gen_labels(test)\n",
    "train_label, train_category_label = gen_labels(train)"
   ]
  },
  {
   "cell_type": "code",
   "execution_count": 8,
   "metadata": {},
   "outputs": [
    {
     "data": {
      "text/plain": [
       "((32193, 2), (32193, 6), (1613, 2), (1613, 8))"
      ]
     },
     "execution_count": 8,
     "metadata": {},
     "output_type": "execute_result"
    }
   ],
   "source": [
    "train_label.shape, train_category_label.shape, test_label.shape, test_category_label.shape"
   ]
  },
  {
   "cell_type": "code",
   "execution_count": 22,
   "metadata": {},
   "outputs": [
    {
     "data": {
      "text/plain": [
       "array([[0., 0., 0., 1., 0., 0.],\n",
       "       [0., 0., 0., 1., 0., 0.],\n",
       "       [1., 0., 0., 0., 0., 0.],\n",
       "       [0., 0., 1., 0., 0., 0.],\n",
       "       [0., 0., 0., 1., 0., 0.]])"
      ]
     },
     "execution_count": 22,
     "metadata": {},
     "output_type": "execute_result"
    }
   ],
   "source": [
    "train_category_label[-5:]"
   ]
  },
  {
   "cell_type": "code",
   "execution_count": 24,
   "metadata": {},
   "outputs": [],
   "source": [
    "train_category8_label = np.zeros((len(train_category_label), 8))\n",
    "train_category8_label[:, :6] = train_category_label"
   ]
  },
  {
   "cell_type": "code",
   "execution_count": 26,
   "metadata": {},
   "outputs": [
    {
     "data": {
      "text/plain": [
       "array([[0., 0., 0., 1., 0., 0., 0., 0.],\n",
       "       [0., 0., 0., 1., 0., 0., 0., 0.],\n",
       "       [1., 0., 0., 0., 0., 0., 0., 0.],\n",
       "       [0., 0., 1., 0., 0., 0., 0., 0.],\n",
       "       [0., 0., 0., 1., 0., 0., 0., 0.]])"
      ]
     },
     "execution_count": 26,
     "metadata": {},
     "output_type": "execute_result"
    }
   ],
   "source": [
    "train_category8_label[-5:]"
   ]
  },
  {
   "cell_type": "code",
   "execution_count": 29,
   "metadata": {},
   "outputs": [],
   "source": [
    "np.save('./train_label_{}.npy'.format(train_label.shape), train_label)\n",
    "np.save('./train_category_label_{}.npy'.format(train_category8_label.shape), train_category8_label)\n",
    "np.save('./test_label_{}.npy'.format(test_label.shape), test_label)\n",
    "np.save('./test_category_label_{}.npy'.format(test_category_label.shape), test_category_label)"
   ]
  },
  {
   "cell_type": "code",
   "execution_count": null,
   "metadata": {},
   "outputs": [],
   "source": []
  },
  {
   "cell_type": "code",
   "execution_count": null,
   "metadata": {},
   "outputs": [],
   "source": []
  },
  {
   "cell_type": "code",
   "execution_count": null,
   "metadata": {},
   "outputs": [],
   "source": []
  },
  {
   "cell_type": "code",
   "execution_count": null,
   "metadata": {},
   "outputs": [],
   "source": []
  },
  {
   "cell_type": "code",
   "execution_count": null,
   "metadata": {},
   "outputs": [],
   "source": []
  }
 ],
 "metadata": {
  "kernelspec": {
   "display_name": "Python 3",
   "language": "python",
   "name": "python3"
  },
  "language_info": {
   "codemirror_mode": {
    "name": "ipython",
    "version": 3
   },
   "file_extension": ".py",
   "mimetype": "text/x-python",
   "name": "python",
   "nbconvert_exporter": "python",
   "pygments_lexer": "ipython3",
   "version": "3.7.4"
  },
  "toc": {
   "base_numbering": 1,
   "nav_menu": {},
   "number_sections": true,
   "sideBar": true,
   "skip_h1_title": false,
   "title_cell": "Table of Contents",
   "title_sidebar": "Contents",
   "toc_cell": false,
   "toc_position": {},
   "toc_section_display": true,
   "toc_window_display": true
  }
 },
 "nbformat": 4,
 "nbformat_minor": 2
}
