{
 "cells": [
  {
   "cell_type": "code",
   "execution_count": 2,
   "metadata": {},
   "outputs": [],
   "source": [
    "import numpy as np\n",
    "import os\n",
    "from keras.preprocessing import image\n",
    "from keras.applications.vgg16 import preprocess_input\n",
    "\n",
    "validation_dir='../Data/val/train_nonrumor/'\n",
    "files=os.listdir(validation_dir)\n",
    "imgs=[]\n",
    "for file in files:\n",
    "    img = image.load_img(validation_dir+file, target_size=(224, 224))\n",
    "    x = image.img_to_array(img)\n",
    "    x = np.expand_dims(x, axis=0)\n",
    "    x = preprocess_input(x)\n",
    "    imgs.append(x)"
   ]
  },
  {
   "cell_type": "code",
   "execution_count": 3,
   "metadata": {},
   "outputs": [],
   "source": [
    "validation_dir='../Data/val/train_rumor/'\n",
    "files=os.listdir(validation_dir)\n",
    "imgs2=[]\n",
    "for file in files:\n",
    "    img = image.load_img(validation_dir+file, target_size=(224, 224))\n",
    "    x = image.img_to_array(img)\n",
    "    x = np.expand_dims(x, axis=0)\n",
    "    x = preprocess_input(x)\n",
    "    imgs2.append(x)"
   ]
  },
  {
   "cell_type": "code",
   "execution_count": 6,
   "metadata": {},
   "outputs": [],
   "source": [
    "imgs_nonrumor=np.array(imgs)\n",
    "imgs_nonrumor=imgs_nonrumor[:,0,:,:,:]\n",
    "imgs_rumor=np.array(imgs2)\n",
    "imgs_rumor=imgs_rumor[:,0,:,:,:]"
   ]
  },
  {
   "cell_type": "code",
   "execution_count": 7,
   "metadata": {},
   "outputs": [
    {
     "name": "stdout",
     "output_type": "stream",
     "text": [
      "(1000, 224, 224, 3)\n",
      "(1000, 224, 224, 3)\n"
     ]
    }
   ],
   "source": [
    "print(imgs_rumor.shape)\n",
    "print(imgs_nonrumor.shape)"
   ]
  },
  {
   "cell_type": "code",
   "execution_count": 8,
   "metadata": {},
   "outputs": [],
   "source": [
    "np.save('val_imgs_rumor.npy',imgs_rumor)\n",
    "np.save('val_imgs_nonrumor.npy',imgs_nonrumor)"
   ]
  },
  {
   "cell_type": "code",
   "execution_count": 9,
   "metadata": {},
   "outputs": [],
   "source": [
    "validation_dir='../Data/train/train_nonrumor/'\n",
    "files=os.listdir(validation_dir)\n",
    "imgs=[]\n",
    "for file in files:\n",
    "    img = image.load_img(validation_dir+file, target_size=(224, 224))\n",
    "    x = image.img_to_array(img)\n",
    "    x = np.expand_dims(x, axis=0)\n",
    "    x = preprocess_input(x)\n",
    "    imgs.append(x)"
   ]
  },
  {
   "cell_type": "code",
   "execution_count": 10,
   "metadata": {},
   "outputs": [],
   "source": [
    "validation_dir='../Data/train/train_rumor/'\n",
    "files=os.listdir(validation_dir)\n",
    "imgs2=[]\n",
    "for file in files:\n",
    "    img = image.load_img(validation_dir+file, target_size=(224, 224))\n",
    "    x = image.img_to_array(img)\n",
    "    x = np.expand_dims(x, axis=0)\n",
    "    x = preprocess_input(x)\n",
    "    imgs2.append(x)"
   ]
  },
  {
   "cell_type": "code",
   "execution_count": 11,
   "metadata": {},
   "outputs": [
    {
     "name": "stdout",
     "output_type": "stream",
     "text": [
      "(7955, 224, 224, 3)\n",
      "(7715, 224, 224, 3)\n"
     ]
    }
   ],
   "source": [
    "imgs_nonrumor=np.array(imgs)\n",
    "imgs_nonrumor=imgs_nonrumor[:,0,:,:,:]\n",
    "imgs_rumor=np.array(imgs2)\n",
    "imgs_rumor=imgs_rumor[:,0,:,:,:]\n",
    "print(imgs_rumor.shape)\n",
    "print(imgs_nonrumor.shape)\n"
   ]
  },
  {
   "cell_type": "code",
   "execution_count": 12,
   "metadata": {},
   "outputs": [],
   "source": [
    "np.save('train_imgs_rumor.npy',imgs_rumor)\n",
    "np.save('train_imgs_nonrumor.npy',imgs_nonrumor)"
   ]
  },
  {
   "cell_type": "code",
   "execution_count": 14,
   "metadata": {},
   "outputs": [],
   "source": [
    "validation_dir='../Data/test/test_nonrumor/'\n",
    "files=os.listdir(validation_dir)\n",
    "imgs=[]\n",
    "for file in files:\n",
    "    img = image.load_img(validation_dir+file, target_size=(224, 224))\n",
    "    x = image.img_to_array(img)\n",
    "    x = np.expand_dims(x, axis=0)\n",
    "    x = preprocess_input(x)\n",
    "    imgs.append(x)"
   ]
  },
  {
   "cell_type": "code",
   "execution_count": 15,
   "metadata": {},
   "outputs": [],
   "source": [
    "validation_dir='../Data/test/test_rumor/'\n",
    "files=os.listdir(validation_dir)\n",
    "imgs2=[]\n",
    "for file in files:\n",
    "    img = image.load_img(validation_dir+file, target_size=(224, 224))\n",
    "    x = image.img_to_array(img)\n",
    "    x = np.expand_dims(x, axis=0)\n",
    "    x = preprocess_input(x)\n",
    "    imgs2.append(x)"
   ]
  },
  {
   "cell_type": "code",
   "execution_count": 16,
   "metadata": {},
   "outputs": [
    {
     "name": "stdout",
     "output_type": "stream",
     "text": [
      "(448, 224, 224, 3)\n",
      "(519, 224, 224, 3)\n"
     ]
    }
   ],
   "source": [
    "imgs_nonrumor=np.array(imgs)\n",
    "imgs_nonrumor=imgs_nonrumor[:,0,:,:,:]\n",
    "imgs_rumor=np.array(imgs2)\n",
    "imgs_rumor=imgs_rumor[:,0,:,:,:]\n",
    "print(imgs_rumor.shape)\n",
    "print(imgs_nonrumor.shape)"
   ]
  },
  {
   "cell_type": "code",
   "execution_count": 17,
   "metadata": {},
   "outputs": [],
   "source": [
    "np.save('test_imgs_rumor.npy',imgs_rumor)\n",
    "np.save('test_imgs_nonrumor.npy',imgs_nonrumor)"
   ]
  },
  {
   "cell_type": "code",
   "execution_count": null,
   "metadata": {},
   "outputs": [],
   "source": []
  }
 ],
 "metadata": {
  "kernelspec": {
   "display_name": "Python 3",
   "language": "python",
   "name": "python3"
  },
  "language_info": {
   "codemirror_mode": {
    "name": "ipython",
    "version": 3
   },
   "file_extension": ".py",
   "mimetype": "text/x-python",
   "name": "python",
   "nbconvert_exporter": "python",
   "pygments_lexer": "ipython3",
   "version": "3.7.6"
  }
 },
 "nbformat": 4,
 "nbformat_minor": 4
}
