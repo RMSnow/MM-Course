{
 "cells": [
  {
   "cell_type": "code",
   "execution_count": 4,
   "metadata": {},
   "outputs": [],
   "source": [
    "from keras.applications import VGG16\n",
    "from keras.models import Model\n",
    "from keras.models import load_model"
   ]
  },
  {
   "cell_type": "code",
   "execution_count": 5,
   "metadata": {
    "scrolled": true
   },
   "outputs": [],
   "source": [
    "import numpy as np\n",
    "from tqdm import tqdm\n",
    "from keras.preprocessing import image\n",
    "from keras.applications.vgg16 import preprocess_input\n",
    "\n",
    "model = load_model('checkpoint-09e-val_accuracy_0.8825.hdf5')\n",
    "test_names=np.load('./names/test_names.npy',allow_pickle=True)\n",
    "train_pictures_path='/home/yangtianyun/Data2/test/all/'\n",
    "test_fea=[]\n",
    "for names in test_names:\n",
    "    #pbar.update(1)\n",
    "    img = image.load_img(train_pictures_path+names[0], target_size=(224, 224))\n",
    "    x = image.img_to_array(img)\n",
    "    x = np.expand_dims(x, axis=0)\n",
    "    x = preprocess_input(x)\n",
    "    feature = model.predict(x)\n",
    "    test_fea.append(feature)"
   ]
  },
  {
   "cell_type": "code",
   "execution_count": 6,
   "metadata": {},
   "outputs": [
    {
     "name": "stdout",
     "output_type": "stream",
     "text": [
      "[[[9.1501254e-01 8.4987454e-02]]\n",
      "\n",
      " [[9.9985909e-01 1.4087019e-04]]\n",
      "\n",
      " [[8.1337887e-01 1.8662113e-01]]\n",
      "\n",
      " [[9.9999833e-01 1.6404589e-06]]\n",
      "\n",
      " [[9.9696285e-01 3.0371882e-03]]\n",
      "\n",
      " [[7.4580622e-01 2.5419378e-01]]\n",
      "\n",
      " [[9.9278462e-01 7.2153909e-03]]\n",
      "\n",
      " [[9.9999535e-01 4.7084973e-06]]]\n"
     ]
    }
   ],
   "source": [
    "test_fea=np.array(test_fea)\n",
    "print(test_fea[:8])"
   ]
  },
  {
   "cell_type": "code",
   "execution_count": 7,
   "metadata": {},
   "outputs": [
    {
     "name": "stdout",
     "output_type": "stream",
     "text": [
      "(967, 1, 2)\n"
     ]
    }
   ],
   "source": [
    "print(test_fea.shape)"
   ]
  },
  {
   "cell_type": "code",
   "execution_count": 8,
   "metadata": {},
   "outputs": [
    {
     "name": "stdout",
     "output_type": "stream",
     "text": [
      "[0 0 0 0 0 0 0 0]\n"
     ]
    }
   ],
   "source": [
    "prediction=np.argmax(test_fea[:,0,:],axis=1)\n",
    "print(prediction[:8])\n",
    "np.save('test_result.npy',prediction)"
   ]
  },
  {
   "cell_type": "code",
   "execution_count": 9,
   "metadata": {},
   "outputs": [
    {
     "name": "stdout",
     "output_type": "stream",
     "text": [
      "0.766287487073423\n",
      "              precision    recall  f1-score   support\n",
      "\n",
      "    nonrumor     0.7344    0.8844    0.8024       519\n",
      "       rumor     0.8246    0.6295    0.7139       448\n",
      "\n",
      "    accuracy                         0.7663       967\n",
      "   macro avg     0.7795    0.7569    0.7582       967\n",
      "weighted avg     0.7762    0.7663    0.7614       967\n",
      "\n"
     ]
    }
   ],
   "source": [
    "from sklearn.metrics import classification_report\n",
    "from sklearn.metrics import accuracy_score\n",
    "test_labels=np.load('./ft-feature/test_label.npy')\n",
    "print(accuracy_score(test_labels, prediction))\n",
    "print(classification_report(test_labels, prediction, labels=[0.0, 1.0], target_names=['nonrumor', 'rumor'],digits=4))"
   ]
  },
  {
   "cell_type": "code",
   "execution_count": 31,
   "metadata": {},
   "outputs": [
    {
     "name": "stdout",
     "output_type": "stream",
     "text": [
      "(967,)\n",
      "(967, 1)\n"
     ]
    }
   ],
   "source": [
    "import shutil\n",
    "pre=np.load('test_result.npy')\n",
    "test_label=np.load('./ft-feature/test_label.npy')\n",
    "print(pre.shape)\n",
    "print(test_label.shape)\n",
    "\n",
    "path='../Data2/test/all/'\n",
    "path2='../Data2/test/false/'\n",
    "test_names==np.load('./names/test_names.npy',allow_pickle=True)\n",
    "for i in range(967):\n",
    "    if pre[i]==0 and test_label[i]==1:\n",
    "        shutil.copyfile(path+test_names[i][0],path2+test_names[i][0])"
   ]
  },
  {
   "cell_type": "markdown",
   "metadata": {},
   "source": [
    "测试的时候rumor的精度比较高"
   ]
  },
  {
   "cell_type": "markdown",
   "metadata": {},
   "source": [
    "## 训练集验证集测试效果"
   ]
  },
  {
   "cell_type": "code",
   "execution_count": 1,
   "metadata": {
    "scrolled": true
   },
   "outputs": [
    {
     "name": "stderr",
     "output_type": "stream",
     "text": [
      "Using TensorFlow backend.\n",
      "/home/yangtianyun/anaconda3/lib/python3.7/site-packages/tensorflow/python/framework/dtypes.py:526: FutureWarning: Passing (type, 1) or '1type' as a synonym of type is deprecated; in a future version of numpy, it will be understood as (type, (1,)) / '(1,)type'.\n",
      "  _np_qint8 = np.dtype([(\"qint8\", np.int8, 1)])\n",
      "/home/yangtianyun/anaconda3/lib/python3.7/site-packages/tensorflow/python/framework/dtypes.py:527: FutureWarning: Passing (type, 1) or '1type' as a synonym of type is deprecated; in a future version of numpy, it will be understood as (type, (1,)) / '(1,)type'.\n",
      "  _np_quint8 = np.dtype([(\"quint8\", np.uint8, 1)])\n",
      "/home/yangtianyun/anaconda3/lib/python3.7/site-packages/tensorflow/python/framework/dtypes.py:528: FutureWarning: Passing (type, 1) or '1type' as a synonym of type is deprecated; in a future version of numpy, it will be understood as (type, (1,)) / '(1,)type'.\n",
      "  _np_qint16 = np.dtype([(\"qint16\", np.int16, 1)])\n",
      "/home/yangtianyun/anaconda3/lib/python3.7/site-packages/tensorflow/python/framework/dtypes.py:529: FutureWarning: Passing (type, 1) or '1type' as a synonym of type is deprecated; in a future version of numpy, it will be understood as (type, (1,)) / '(1,)type'.\n",
      "  _np_quint16 = np.dtype([(\"quint16\", np.uint16, 1)])\n",
      "/home/yangtianyun/anaconda3/lib/python3.7/site-packages/tensorflow/python/framework/dtypes.py:530: FutureWarning: Passing (type, 1) or '1type' as a synonym of type is deprecated; in a future version of numpy, it will be understood as (type, (1,)) / '(1,)type'.\n",
      "  _np_qint32 = np.dtype([(\"qint32\", np.int32, 1)])\n",
      "/home/yangtianyun/anaconda3/lib/python3.7/site-packages/tensorflow/python/framework/dtypes.py:535: FutureWarning: Passing (type, 1) or '1type' as a synonym of type is deprecated; in a future version of numpy, it will be understood as (type, (1,)) / '(1,)type'.\n",
      "  np_resource = np.dtype([(\"resource\", np.ubyte, 1)])\n"
     ]
    },
    {
     "name": "stdout",
     "output_type": "stream",
     "text": [
      "WARNING:tensorflow:From /home/yangtianyun/anaconda3/lib/python3.7/site-packages/tensorflow/python/ops/resource_variable_ops.py:435: colocate_with (from tensorflow.python.framework.ops) is deprecated and will be removed in a future version.\n",
      "Instructions for updating:\n",
      "Colocations handled automatically by placer.\n",
      "WARNING:tensorflow:From /home/yangtianyun/anaconda3/lib/python3.7/site-packages/tensorflow/python/ops/math_ops.py:3066: to_int32 (from tensorflow.python.ops.math_ops) is deprecated and will be removed in a future version.\n",
      "Instructions for updating:\n",
      "Use tf.cast instead.\n"
     ]
    }
   ],
   "source": [
    "import numpy as np\n",
    "from tqdm import tqdm\n",
    "from keras.preprocessing import image\n",
    "from keras.applications.vgg19 import preprocess_input\n",
    "from keras.models import load_model\n",
    "\n",
    "model = load_model('checkpoint-09e-val_accuracy_0.8825.hdf5')\n",
    "train_names=np.load('./names/train_names.npy',allow_pickle=True)\n",
    "train_pictures_path='/home/yangtianyun/Data2/train_val/'\n",
    "train_fea=[]\n",
    "\n",
    "for names in train_names:\n",
    "    img = image.load_img(train_pictures_path+names[0], target_size=(224, 224))\n",
    "    x = image.img_to_array(img)\n",
    "    x = np.expand_dims(x, axis=0)\n",
    "    x = preprocess_input(x)\n",
    "    feature = model.predict(x)\n",
    "    train_fea.append(feature)"
   ]
  },
  {
   "cell_type": "code",
   "execution_count": 2,
   "metadata": {},
   "outputs": [
    {
     "name": "stdout",
     "output_type": "stream",
     "text": [
      "[[[9.9999487e-01 5.0864769e-06]]\n",
      "\n",
      " [[9.9995089e-01 4.9161761e-05]]\n",
      "\n",
      " [[1.0000000e+00 8.3029956e-09]]\n",
      "\n",
      " [[9.9999964e-01 3.2129407e-07]]\n",
      "\n",
      " [[9.9434954e-01 5.6504859e-03]]\n",
      "\n",
      " [[9.9631172e-01 3.6882556e-03]]\n",
      "\n",
      " [[7.4728495e-01 2.5271511e-01]]\n",
      "\n",
      " [[9.9999833e-01 1.6503417e-06]]]\n",
      "[0 0 0 0 0 0 0 0]\n",
      "17670\n"
     ]
    }
   ],
   "source": [
    "train_fea=np.array(train_fea)\n",
    "print(train_fea[:8])\n",
    "prediction=np.argmax(train_fea[:,0,:],axis=1)\n",
    "print(prediction[:8])\n",
    "np.save('trainall_result.npy',prediction)\n",
    "print(len(prediction))"
   ]
  },
  {
   "cell_type": "code",
   "execution_count": 3,
   "metadata": {},
   "outputs": [
    {
     "name": "stdout",
     "output_type": "stream",
     "text": [
      "0.9814940577249576\n",
      "              precision    recall  f1-score   support\n",
      "\n",
      "    nonrumor     0.9753    0.9875    0.9814      8715\n",
      "       rumor     0.9877    0.9757    0.9816      8955\n",
      "\n",
      "    accuracy                         0.9815     17670\n",
      "   macro avg     0.9815    0.9816    0.9815     17670\n",
      "weighted avg     0.9816    0.9815    0.9815     17670\n",
      "\n"
     ]
    }
   ],
   "source": [
    "from sklearn.metrics import classification_report\n",
    "from sklearn.metrics import accuracy_score\n",
    "train_label=np.load('./ft-feature/trainall_label.npy')\n",
    "print(accuracy_score(train_label, prediction))\n",
    "print(classification_report(train_label, prediction, labels=[0.0, 1.0], target_names=['nonrumor', 'rumor'],digits=4))"
   ]
  },
  {
   "cell_type": "markdown",
   "metadata": {},
   "source": [
    "更容易将rumor检测为nonrumor"
   ]
  },
  {
   "cell_type": "markdown",
   "metadata": {},
   "source": [
    "## 训练集错误图像"
   ]
  },
  {
   "cell_type": "code",
   "execution_count": 27,
   "metadata": {},
   "outputs": [],
   "source": [
    "import shutil\n",
    "pre=np.load('trainall_result.npy')\n",
    "train_label=np.load('./ft-feature/trainall_label.npy')\n",
    "path='../Data2/train_val/'\n",
    "path2='../Data2/false/'\n",
    "train_names==np.load('./names/train_names.npy',allow_pickle=True)\n",
    "for i in range(17670):\n",
    "    if pre[i]==0 and train_label[i]==1:\n",
    "        shutil.copyfile(path+train_names[i][0],path2+train_names[i][0])"
   ]
  }
 ],
 "metadata": {
  "kernelspec": {
   "display_name": "Python 3",
   "language": "python",
   "name": "python3"
  },
  "language_info": {
   "codemirror_mode": {
    "name": "ipython",
    "version": 3
   },
   "file_extension": ".py",
   "mimetype": "text/x-python",
   "name": "python",
   "nbconvert_exporter": "python",
   "pygments_lexer": "ipython3",
   "version": "3.7.6"
  }
 },
 "nbformat": 4,
 "nbformat_minor": 4
}
