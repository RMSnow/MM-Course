{
 "cells": [
  {
   "cell_type": "markdown",
   "metadata": {},
   "source": [
    "# 数据加载"
   ]
  },
  {
   "cell_type": "code",
   "execution_count": 1,
   "metadata": {},
   "outputs": [
    {
     "data": {
      "text/plain": [
       "((32193, 120), (1613, 120), (32193, 2), (1613, 2))"
      ]
     },
     "execution_count": 1,
     "metadata": {},
     "output_type": "execute_result"
    }
   ],
   "source": [
    "import numpy as np\n",
    "\n",
    "we_train = np.load('../data/train_we_(32193, 120).npy')\n",
    "we_test = np.load('../data/test_we_(1613, 120).npy')\n",
    "\n",
    "y_train = np.load('../data/train_label_(32193, 2).npy')\n",
    "y_test = np.load('../data/test_label_(1613, 2).npy')\n",
    "\n",
    "we_train.shape, we_test.shape, y_train.shape, y_test.shape"
   ]
  },
  {
   "cell_type": "markdown",
   "metadata": {},
   "source": [
    "# 模型加载"
   ]
  },
  {
   "cell_type": "code",
   "execution_count": 3,
   "metadata": {},
   "outputs": [],
   "source": [
    "from TextTransferModels import TwoBranchesBiGRU"
   ]
  },
  {
   "cell_type": "markdown",
   "metadata": {},
   "source": [
    "## 默认参数：只使用 unrelated branch"
   ]
  },
  {
   "cell_type": "code",
   "execution_count": 4,
   "metadata": {},
   "outputs": [
    {
     "name": "stdout",
     "output_type": "stream",
     "text": [
      "__________________________________________________________________________________________________\n",
      "Layer (type)                    Output Shape         Param #     Connected to                     \n",
      "==================================================================================================\n",
      "Word2Vec (InputLayer)           (None, 120)          0                                            \n",
      "__________________________________________________________________________________________________\n",
      "Embedding (Embedding)           (None, 120, 300)     1800000     Word2Vec[0][0]                   \n",
      "__________________________________________________________________________________________________\n",
      "BiGRU (Bidirectional)           (None, 120, 64)      63936       Embedding[0][0]                  \n",
      "__________________________________________________________________________________________________\n",
      "mean_pooling (GlobalAveragePool (None, 64)           0           BiGRU[0][0]                      \n",
      "__________________________________________________________________________________________________\n",
      "max_pooling (GlobalMaxPooling1D (None, 64)           0           BiGRU[0][0]                      \n",
      "__________________________________________________________________________________________________\n",
      "gru_pooling (Concatenate)       (None, 128)          0           mean_pooling[0][0]               \n",
      "                                                                 max_pooling[0][0]                \n",
      "__________________________________________________________________________________________________\n",
      "unrelated_branch (Dense)        (None, 32)           4128        gru_pooling[0][0]                \n",
      "__________________________________________________________________________________________________\n",
      "fake_output (Dense)             (None, 2)            66          unrelated_branch[0][0]           \n",
      "==================================================================================================\n",
      "Total params: 1,868,130\n",
      "Trainable params: 64,002\n",
      "Non-trainable params: 1,804,128\n",
      "__________________________________________________________________________________________________\n"
     ]
    }
   ],
   "source": [
    "model = TwoBranchesBiGRU().model\n",
    "model.summary()"
   ]
  },
  {
   "cell_type": "markdown",
   "metadata": {},
   "source": [
    "## 参数修改：例如，使用 TwoBranches with Attention Fusion"
   ]
  },
  {
   "cell_type": "code",
   "execution_count": 5,
   "metadata": {},
   "outputs": [
    {
     "name": "stdout",
     "output_type": "stream",
     "text": [
      "__________________________________________________________________________________________________\n",
      "Layer (type)                    Output Shape         Param #     Connected to                     \n",
      "==================================================================================================\n",
      "Word2Vec (InputLayer)           (None, 120)          0                                            \n",
      "__________________________________________________________________________________________________\n",
      "Embedding (Embedding)           (None, 120, 300)     1800000     Word2Vec[0][0]                   \n",
      "__________________________________________________________________________________________________\n",
      "BiGRU (Bidirectional)           (None, 120, 64)      63936       Embedding[0][0]                  \n",
      "__________________________________________________________________________________________________\n",
      "mean_pooling (GlobalAveragePool (None, 64)           0           BiGRU[0][0]                      \n",
      "__________________________________________________________________________________________________\n",
      "max_pooling (GlobalMaxPooling1D (None, 64)           0           BiGRU[0][0]                      \n",
      "__________________________________________________________________________________________________\n",
      "gru_pooling (Concatenate)       (None, 128)          0           mean_pooling[0][0]               \n",
      "                                                                 max_pooling[0][0]                \n",
      "__________________________________________________________________________________________________\n",
      "related_branch (Dense)          (None, 32)           4128        gru_pooling[0][0]                \n",
      "__________________________________________________________________________________________________\n",
      "unrelated_branch (Dense)        (None, 32)           4128        gru_pooling[0][0]                \n",
      "__________________________________________________________________________________________________\n",
      "reshape_1 (Reshape)             (None, 1, 32)        0           related_branch[0][0]             \n",
      "__________________________________________________________________________________________________\n",
      "reshape_2 (Reshape)             (None, 1, 32)        0           unrelated_branch[0][0]           \n",
      "__________________________________________________________________________________________________\n",
      "concatenate_3 (Concatenate)     (None, 2, 32)        0           reshape_1[0][0]                  \n",
      "                                                                 reshape_2[0][0]                  \n",
      "__________________________________________________________________________________________________\n",
      "two_branches_attention (SelfAtt (None, 32)           32          concatenate_3[0][0]              \n",
      "__________________________________________________________________________________________________\n",
      "fake_output (Dense)             (None, 2)            66          two_branches_attention[0][0]     \n",
      "==================================================================================================\n",
      "Total params: 1,872,290\n",
      "Trainable params: 64,034\n",
      "Non-trainable params: 1,808,256\n",
      "__________________________________________________________________________________________________\n"
     ]
    }
   ],
   "source": [
    "model = TwoBranchesBiGRU(use_related_branch=True, use_unrelated_branch=True, fusion_mode='attention').model\n",
    "model.summary()"
   ]
  },
  {
   "cell_type": "markdown",
   "metadata": {},
   "source": [
    "# Example: 训练与预测"
   ]
  },
  {
   "cell_type": "code",
   "execution_count": 6,
   "metadata": {},
   "outputs": [],
   "source": [
    "from train import train"
   ]
  },
  {
   "cell_type": "code",
   "execution_count": 7,
   "metadata": {},
   "outputs": [],
   "source": [
    "example_model = TwoBranchesBiGRU(\n",
    "    use_related_branch=True, use_unrelated_branch=True, fusion_mode='attention').model"
   ]
  },
  {
   "cell_type": "code",
   "execution_count": 8,
   "metadata": {},
   "outputs": [
    {
     "name": "stdout",
     "output_type": "stream",
     "text": [
      "__________________________________________________________________________________________________\n",
      "Layer (type)                    Output Shape         Param #     Connected to                     \n",
      "==================================================================================================\n",
      "Word2Vec (InputLayer)           (None, 120)          0                                            \n",
      "__________________________________________________________________________________________________\n",
      "Embedding (Embedding)           (None, 120, 300)     1800000     Word2Vec[0][0]                   \n",
      "__________________________________________________________________________________________________\n",
      "BiGRU (Bidirectional)           (None, 120, 64)      63936       Embedding[0][0]                  \n",
      "__________________________________________________________________________________________________\n",
      "mean_pooling (GlobalAveragePool (None, 64)           0           BiGRU[0][0]                      \n",
      "__________________________________________________________________________________________________\n",
      "max_pooling (GlobalMaxPooling1D (None, 64)           0           BiGRU[0][0]                      \n",
      "__________________________________________________________________________________________________\n",
      "gru_pooling (Concatenate)       (None, 128)          0           mean_pooling[0][0]               \n",
      "                                                                 max_pooling[0][0]                \n",
      "__________________________________________________________________________________________________\n",
      "related_branch (Dense)          (None, 32)           4128        gru_pooling[0][0]                \n",
      "__________________________________________________________________________________________________\n",
      "unrelated_branch (Dense)        (None, 32)           4128        gru_pooling[0][0]                \n",
      "__________________________________________________________________________________________________\n",
      "reshape_3 (Reshape)             (None, 1, 32)        0           related_branch[0][0]             \n",
      "__________________________________________________________________________________________________\n",
      "reshape_4 (Reshape)             (None, 1, 32)        0           unrelated_branch[0][0]           \n",
      "__________________________________________________________________________________________________\n",
      "concatenate_4 (Concatenate)     (None, 2, 32)        0           reshape_3[0][0]                  \n",
      "                                                                 reshape_4[0][0]                  \n",
      "__________________________________________________________________________________________________\n",
      "two_branches_attention (SelfAtt (None, 32)           32          concatenate_4[0][0]              \n",
      "__________________________________________________________________________________________________\n",
      "fake_output (Dense)             (None, 2)            66          two_branches_attention[0][0]     \n",
      "==================================================================================================\n",
      "Total params: 1,872,290\n",
      "Trainable params: 64,034\n",
      "Non-trainable params: 1,808,256\n",
      "__________________________________________________________________________________________________\n",
      "None\n",
      "\n",
      "WARNING:tensorflow:From /usr/local/anaconda3/lib/python3.7/site-packages/tensorflow/python/ops/math_grad.py:1250: add_dispatch_support.<locals>.wrapper (from tensorflow.python.ops.array_ops) is deprecated and will be removed in a future version.\n",
      "Instructions for updating:\n",
      "Use tf.where in 2.0, which has the same broadcast rule as np.where\n",
      "WARNING:tensorflow:From /usr/local/anaconda3/lib/python3.7/site-packages/keras/backend/tensorflow_backend.py:680: calling Constant.__init__ (from tensorflow.python.ops.init_ops) with dtype is deprecated and will be removed in a future version.\n",
      "Instructions for updating:\n",
      "Call initializer instance with the dtype argument instead of passing it to the constructor\n",
      "Train on 32193 samples, validate on 1613 samples\n",
      "Epoch 1/5\n",
      "32193/32193 [==============================] - 56s 2ms/step - loss: 0.3273 - acc: 0.8744 - val_loss: 0.6527 - val_acc: 0.7105\n",
      "Epoch 2/5\n",
      "32193/32193 [==============================] - 55s 2ms/step - loss: 0.1617 - acc: 0.9491 - val_loss: 0.6207 - val_acc: 0.7247\n",
      "Epoch 3/5\n",
      "32193/32193 [==============================] - 53s 2ms/step - loss: 0.1161 - acc: 0.9653 - val_loss: 0.8537 - val_acc: 0.6882\n",
      "Epoch 4/5\n",
      "32193/32193 [==============================] - 53s 2ms/step - loss: 0.0906 - acc: 0.9750 - val_loss: 0.7248 - val_acc: 0.7117\n",
      "Epoch 5/5\n",
      "32193/32193 [==============================] - 54s 2ms/step - loss: 0.0717 - acc: 0.9816 - val_loss: 0.9512 - val_acc: 0.6894\n"
     ]
    },
    {
     "data": {
      "image/png": "[encoded data removed]",
      "text/plain": [
       "<Figure size 432x288 with 1 Axes>"
      ]
     },
     "metadata": {
      "needs_background": "light"
     },
     "output_type": "display_data"
    },
    {
     "name": "stdout",
     "output_type": "stream",
     "text": [
      "\n",
      "TEST_sz: 1613\n",
      "\n",
      "Accuracy: 0.7247365158090514\n",
      "\n",
      "              precision    recall  f1-score   support\n",
      "\n",
      "       truth      0.707     0.856     0.775       891\n",
      "       rumor      0.760     0.562     0.646       722\n",
      "\n",
      "   micro avg      0.725     0.725     0.725      1613\n",
      "   macro avg      0.734     0.709     0.711      1613\n",
      "weighted avg      0.731     0.725     0.717      1613\n",
      " samples avg      0.725     0.725     0.725      1613\n",
      "\n",
      "\n"
     ]
    }
   ],
   "source": [
    "# 参数 model_name: best model的weights文件保存在 './model/{}.hdf5'.format(model_name) 路径下\n",
    "train(model=example_model, model_name='example_model',\n",
    "      train_data=we_train, test_data=we_test,\n",
    "      train_label=y_train, test_label=y_test,\n",
    "      epochs=5, batch_size=128)"
   ]
  },
  {
   "cell_type": "code",
   "execution_count": null,
   "metadata": {},
   "outputs": [],
   "source": []
  }
 ],
 "metadata": {
  "kernelspec": {
   "display_name": "Python 3",
   "language": "python",
   "name": "python3"
  },
  "language_info": {
   "codemirror_mode": {
    "name": "ipython",
    "version": 3
   },
   "file_extension": ".py",
   "mimetype": "text/x-python",
   "name": "python",
   "nbconvert_exporter": "python",
   "pygments_lexer": "ipython3",
   "version": "3.7.4"
  },
  "toc": {
   "base_numbering": 1,
   "nav_menu": {},
   "number_sections": true,
   "sideBar": true,
   "skip_h1_title": false,
   "title_cell": "Table of Contents",
   "title_sidebar": "Contents",
   "toc_cell": false,
   "toc_position": {},
   "toc_section_display": true,
   "toc_window_display": false
  }
 },
 "nbformat": 4,
 "nbformat_minor": 2
}
