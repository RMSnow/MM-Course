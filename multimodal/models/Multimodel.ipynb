{
 "cells": [
  {
   "cell_type": "markdown",
   "metadata": {},
   "source": [
    "## 数据加载"
   ]
  },
  {
   "cell_type": "code",
   "execution_count": 1,
   "metadata": {},
   "outputs": [
    {
     "data": {
      "text/plain": [
       "((32193, 120), (1613, 120), (32193, 2), (1613, 2))"
      ]
     },
     "execution_count": 1,
     "metadata": {},
     "output_type": "execute_result"
    }
   ],
   "source": [
    "import numpy as np\n",
    "\n",
    "we_train = np.load('../data/train_we_(32193, 120).npy')\n",
    "we_test = np.load('../data/test_we_(1613, 120).npy')\n",
    "\n",
    "y_train = np.load('../data/train_label_(32193, 2).npy')\n",
    "y_test = np.load('../data/test_label_(1613, 2).npy')\n",
    "\n",
    "we_train.shape, we_test.shape, y_train.shape, y_test.shape"
   ]
  },
  {
   "cell_type": "code",
   "execution_count": 2,
   "metadata": {},
   "outputs": [
    {
     "name": "stdout",
     "output_type": "stream",
     "text": [
      "[   0    0    0    0    0    0    0    0    0    0    0    0    0    0\n",
      "    0    0    0    0    0    0    0    0    0    0    0    0    0    0\n",
      "    0    0    0    0    0    0    0    0    0    0    0    0    0    0\n",
      "    0    0    0    0    0    0    0    0    0    0    0    0    0    0\n",
      "    0    0    0    0    0    0    0    0    0    0    0    0    0    0\n",
      "    0    0    0    0    0    0    0    0    0    0    0    0    0    0\n",
      "    0    0    0    0    0    0    0    0    0    0    0  252  319   98\n",
      "   52   77    7 2185    2 5873 1197   16   19    1  791 2493  431   53\n",
      "   77    7 2185  319   98  587  319   98]\n"
     ]
    }
   ],
   "source": [
    "print(we_train[1,:])"
   ]
  },
  {
   "cell_type": "code",
   "execution_count": 3,
   "metadata": {},
   "outputs": [
    {
     "data": {
      "text/plain": [
       "((17670, 512), (967, 512), (17670, 1), (967, 1))"
      ]
     },
     "execution_count": 3,
     "metadata": {},
     "output_type": "execute_result"
    }
   ],
   "source": [
    "import numpy as np\n",
    "\n",
    "img_train = np.load('/home/yangtianyun/MM_course/ft-feature/trainall_feature.npy')\n",
    "img_test = np.load('/home/yangtianyun/MM_course/ft-feature/test_feature.npy')\n",
    "\n",
    "y_train = np.load('/home/yangtianyun/MM_course/ft-feature/trainall_label.npy')\n",
    "y_test = np.load('/home/yangtianyun/MM_course/ft-feature/test_label.npy')\n",
    "\n",
    "img_train.shape, img_test.shape, y_train.shape, y_test.shape"
   ]
  },
  {
   "cell_type": "code",
   "execution_count": 4,
   "metadata": {},
   "outputs": [
    {
     "data": {
      "text/plain": [
       "((32193,), (1613,), (17670,), (967,))"
      ]
     },
     "execution_count": 4,
     "metadata": {},
     "output_type": "execute_result"
    }
   ],
   "source": [
    "import numpy as np\n",
    "\n",
    "train_text_index=np.load('/home/yangtianyun/MM_course/names/train_index.npy')\n",
    "test_text_index=np.load('/home/yangtianyun/MM_course/names/test_index.npy')\n",
    "\n",
    "train_img_index=np.load('/home/yangtianyun/MM_course/names/train_img_index.npy')\n",
    "test_img_index=np.load('/home/yangtianyun/MM_course/names/test_img_index.npy')\n",
    "\n",
    "train_text_index.shape, test_text_index.shape, train_img_index.shape, test_img_index.shape"
   ]
  },
  {
   "cell_type": "code",
   "execution_count": 5,
   "metadata": {},
   "outputs": [
    {
     "name": "stdout",
     "output_type": "stream",
     "text": [
      "[ 0  1  2  3  4  5  6  7  9 10]\n",
      "[ 1  2  3  6  7  9 10 11 12 13]\n"
     ]
    }
   ],
   "source": [
    "print(train_text_index[:10])\n",
    "print(train_img_index[:10])"
   ]
  },
  {
   "cell_type": "code",
   "execution_count": 6,
   "metadata": {},
   "outputs": [],
   "source": [
    "img_train_new=np.zeros([32193,512])\n",
    "train_img_index_list=train_img_index.tolist()\n",
    "\n",
    "for i in range(train_text_index.shape[0]):\n",
    "    if train_text_index[i] in train_img_index_list:\n",
    "        img_train_new[i,:]=img_train[train_img_index_list.index(train_text_index[i]),:]"
   ]
  },
  {
   "cell_type": "code",
   "execution_count": 8,
   "metadata": {},
   "outputs": [
    {
     "name": "stdout",
     "output_type": "stream",
     "text": [
      "1613\n"
     ]
    }
   ],
   "source": [
    "img_test_new=np.zeros([1613,512])\n",
    "test_img_index_list=test_img_index.tolist()\n",
    "print(test_text_index.shape[0])\n",
    "for i in range(test_text_index.shape[0]):\n",
    "    if test_text_index[i] in test_img_index_list:\n",
    "        img_test_new[i,:]=img_test[test_img_index_list.index(test_text_index[i]),:]"
   ]
  },
  {
   "cell_type": "code",
   "execution_count": 9,
   "metadata": {},
   "outputs": [
    {
     "name": "stdout",
     "output_type": "stream",
     "text": [
      "(1613, 512)\n",
      "(32193, 512)\n"
     ]
    }
   ],
   "source": [
    "print(img_test_new.shape)\n",
    "print(img_train_new.shape)"
   ]
  },
  {
   "cell_type": "code",
   "execution_count": 10,
   "metadata": {},
   "outputs": [],
   "source": [
    "np.save('/home/yangtianyun/MM_course/ft-feature/train_img_aligned.npy',img_train_new)\n",
    "np.save('/home/yangtianyun/MM_course/ft-feature/test_img_aligned.npy',img_test_new)"
   ]
  },
  {
   "cell_type": "code",
   "execution_count": 1,
   "metadata": {},
   "outputs": [],
   "source": [
    "import numpy as np\n",
    "\n",
    "we_train = np.load('../data/train_we_(32193, 120).npy')\n",
    "we_test = np.load('../data/test_we_(1613, 120).npy')\n",
    "git push\n",
    "y_train = np.load('../data/train_label_(32193, 2).npy')\n",
    "y_test = np.load('../data/test_label_(1613, 2).npy')\n",
    "\n",
    "we_train.shape, we_test.shape, y_train.shape, y_test.shape\n",
    "\n",
    "img_train_new=np.load('/home/yangtianyun/MM_course/ft-feature/train_img_aligned.npy')\n",
    "img_test_new=np.load('/home/yangtianyun/MM_course/ft-feature/test_img_aligned.npy')"
   ]
  },
  {
   "cell_type": "markdown",
   "metadata": {},
   "source": [
    "## 模型训练"
   ]
  },
  {
   "cell_type": "code",
   "execution_count": 2,
   "metadata": {},
   "outputs": [
    {
     "name": "stderr",
     "output_type": "stream",
     "text": [
      "Using TensorFlow backend.\n",
      "/home/yangtianyun/anaconda3/lib/python3.7/site-packages/tensorflow/python/framework/dtypes.py:526: FutureWarning: Passing (type, 1) or '1type' as a synonym of type is deprecated; in a future version of numpy, it will be understood as (type, (1,)) / '(1,)type'.\n",
      "  _np_qint8 = np.dtype([(\"qint8\", np.int8, 1)])\n",
      "/home/yangtianyun/anaconda3/lib/python3.7/site-packages/tensorflow/python/framework/dtypes.py:527: FutureWarning: Passing (type, 1) or '1type' as a synonym of type is deprecated; in a future version of numpy, it will be understood as (type, (1,)) / '(1,)type'.\n",
      "  _np_quint8 = np.dtype([(\"quint8\", np.uint8, 1)])\n",
      "/home/yangtianyun/anaconda3/lib/python3.7/site-packages/tensorflow/python/framework/dtypes.py:528: FutureWarning: Passing (type, 1) or '1type' as a synonym of type is deprecated; in a future version of numpy, it will be understood as (type, (1,)) / '(1,)type'.\n",
      "  _np_qint16 = np.dtype([(\"qint16\", np.int16, 1)])\n",
      "/home/yangtianyun/anaconda3/lib/python3.7/site-packages/tensorflow/python/framework/dtypes.py:529: FutureWarning: Passing (type, 1) or '1type' as a synonym of type is deprecated; in a future version of numpy, it will be understood as (type, (1,)) / '(1,)type'.\n",
      "  _np_quint16 = np.dtype([(\"quint16\", np.uint16, 1)])\n",
      "/home/yangtianyun/anaconda3/lib/python3.7/site-packages/tensorflow/python/framework/dtypes.py:530: FutureWarning: Passing (type, 1) or '1type' as a synonym of type is deprecated; in a future version of numpy, it will be understood as (type, (1,)) / '(1,)type'.\n",
      "  _np_qint32 = np.dtype([(\"qint32\", np.int32, 1)])\n",
      "/home/yangtianyun/anaconda3/lib/python3.7/site-packages/tensorflow/python/framework/dtypes.py:535: FutureWarning: Passing (type, 1) or '1type' as a synonym of type is deprecated; in a future version of numpy, it will be understood as (type, (1,)) / '(1,)type'.\n",
      "  np_resource = np.dtype([(\"resource\", np.ubyte, 1)])\n"
     ]
    },
    {
     "name": "stdout",
     "output_type": "stream",
     "text": [
      "WARNING:tensorflow:From /home/yangtianyun/anaconda3/lib/python3.7/site-packages/tensorflow/python/ops/resource_variable_ops.py:435: colocate_with (from tensorflow.python.framework.ops) is deprecated and will be removed in a future version.\n",
      "Instructions for updating:\n",
      "Colocations handled automatically by placer.\n"
     ]
    }
   ],
   "source": [
    "from Multimodality import Multimodel"
   ]
  },
  {
   "cell_type": "code",
   "execution_count": 3,
   "metadata": {},
   "outputs": [],
   "source": [
    "from train import train"
   ]
  },
  {
   "cell_type": "markdown",
   "metadata": {},
   "source": [
    "### 1. 单图像"
   ]
  },
  {
   "cell_type": "code",
   "execution_count": 6,
   "metadata": {
    "scrolled": true
   },
   "outputs": [
    {
     "name": "stdout",
     "output_type": "stream",
     "text": [
      "Model: \"model_4\"\n",
      "_________________________________________________________________\n",
      "Layer (type)                 Output Shape              Param #   \n",
      "=================================================================\n",
      "input_img (InputLayer)       (None, 512)               0         \n",
      "_________________________________________________________________\n",
      "fake_output (Dense)          (None, 2)                 1026      \n",
      "=================================================================\n",
      "Total params: 1,026\n",
      "Trainable params: 1,026\n",
      "Non-trainable params: 0\n",
      "_________________________________________________________________\n"
     ]
    }
   ],
   "source": [
    "model = Multimodel(only_img_branch=True).model\n",
    "model.summary()"
   ]
  },
  {
   "cell_type": "code",
   "execution_count": 10,
   "metadata": {
    "scrolled": false
   },
   "outputs": [
    {
     "name": "stdout",
     "output_type": "stream",
     "text": [
      "train\n",
      "Train on 32193 samples, validate on 1613 samples\n",
      "Epoch 1/5\n",
      "32193/32193 [==============================] - 1s 26us/step - loss: 0.3600 - accuracy: 0.7681 - val_loss: 0.7182 - val_accuracy: 0.6832\n",
      "Epoch 2/5\n",
      "32193/32193 [==============================] - 1s 25us/step - loss: 0.3561 - accuracy: 0.7681 - val_loss: 0.7153 - val_accuracy: 0.6857\n",
      "Epoch 3/5\n",
      "32193/32193 [==============================] - 1s 25us/step - loss: 0.3545 - accuracy: 0.7686 - val_loss: 0.7309 - val_accuracy: 0.6894\n",
      "Epoch 4/5\n",
      "32193/32193 [==============================] - 1s 26us/step - loss: 0.3540 - accuracy: 0.7685 - val_loss: 0.7051 - val_accuracy: 0.6900\n",
      "Epoch 5/5\n",
      "32193/32193 [==============================] - 1s 26us/step - loss: 0.3538 - accuracy: 0.7682 - val_loss: 0.7126 - val_accuracy: 0.6882\n"
     ]
    },
    {
     "data": {
      "image/png": "[encoded data removed]",
      "text/plain": [
       "<Figure size 432x288 with 1 Axes>"
      ]
     },
     "metadata": {
      "needs_background": "light"
     },
     "output_type": "display_data"
    },
    {
     "name": "stdout",
     "output_type": "stream",
     "text": [
      "\n",
      "TEST_sz: 1613\n",
      "\n",
      "Accuracy: 0.6900185988840669\n",
      "\n",
      "              precision    recall  f1-score   support\n",
      "\n",
      "       truth      0.657     0.920     0.766       891\n",
      "       rumor      0.805     0.406     0.540       722\n",
      "\n",
      "   micro avg      0.690     0.690     0.690      1613\n",
      "   macro avg      0.731     0.663     0.653      1613\n",
      "weighted avg      0.723     0.690     0.665      1613\n",
      " samples avg      0.690     0.690     0.690      1613\n",
      "\n",
      "\n"
     ]
    }
   ],
   "source": [
    "# 参数 model_name: best model的weights文件保存在 './model/{}.hdf5'.format(model_name) 路径下\n",
    "train(model=model, model_name='img_only',\n",
    "      train_data=[we_train,img_train_new], test_data=[we_test,img_test_new],\n",
    "      train_label=y_train, test_label=y_test,\n",
    "      epochs=5, batch_size=128)"
   ]
  },
  {
   "cell_type": "markdown",
   "metadata": {},
   "source": [
    "### 2.图像+文本 attention"
   ]
  },
  {
   "cell_type": "code",
   "execution_count": 4,
   "metadata": {
    "scrolled": false
   },
   "outputs": [
    {
     "name": "stdout",
     "output_type": "stream",
     "text": [
      "Model: \"model_3\"\n",
      "__________________________________________________________________________________________________\n",
      "Layer (type)                    Output Shape         Param #     Connected to                     \n",
      "==================================================================================================\n",
      "input_txt (InputLayer)          (None, 120)          0                                            \n",
      "__________________________________________________________________________________________________\n",
      "Embedding (Embedding)           (None, 120, 300)     1800000     input_txt[0][0]                  \n",
      "__________________________________________________________________________________________________\n",
      "BiGRU (Bidirectional)           (None, 120, 64)      63936       Embedding[0][0]                  \n",
      "__________________________________________________________________________________________________\n",
      "mean_pooling (GlobalAveragePool (None, 64)           0           BiGRU[0][0]                      \n",
      "__________________________________________________________________________________________________\n",
      "max_pooling (GlobalMaxPooling1D (None, 64)           0           BiGRU[0][0]                      \n",
      "__________________________________________________________________________________________________\n",
      "gru_pooling (Concatenate)       (None, 128)          0           mean_pooling[0][0]               \n",
      "                                                                 max_pooling[0][0]                \n",
      "__________________________________________________________________________________________________\n",
      "related_branch (Dense)          (None, 32)           4128        gru_pooling[0][0]                \n",
      "__________________________________________________________________________________________________\n",
      "unrelated_branch (Dense)        (None, 32)           4128        gru_pooling[0][0]                \n",
      "__________________________________________________________________________________________________\n",
      "reshape_1 (Reshape)             (None, 1, 32)        0           related_branch[0][0]             \n",
      "__________________________________________________________________________________________________\n",
      "reshape_2 (Reshape)             (None, 1, 32)        0           unrelated_branch[0][0]           \n",
      "__________________________________________________________________________________________________\n",
      "concatenate_3 (Concatenate)     (None, 2, 32)        0           reshape_1[0][0]                  \n",
      "                                                                 reshape_2[0][0]                  \n",
      "__________________________________________________________________________________________________\n",
      "input_img (InputLayer)          (None, 512)          0                                            \n",
      "__________________________________________________________________________________________________\n",
      "two_branches_attention (SelfAtt (None, 32)           32          concatenate_3[0][0]              \n",
      "__________________________________________________________________________________________________\n",
      "reshape_3 (Reshape)             (None, 1, 512)       0           input_img[0][0]                  \n",
      "__________________________________________________________________________________________________\n",
      "reshape_4 (Reshape)             (None, 1, 32)        0           two_branches_attention[0][0]     \n",
      "__________________________________________________________________________________________________\n",
      "concatenate_4 (Concatenate)     (None, 1, 544)       0           reshape_3[0][0]                  \n",
      "                                                                 reshape_4[0][0]                  \n",
      "__________________________________________________________________________________________________\n",
      "img_text_attention (SelfAttLaye (None, 544)          544         concatenate_4[0][0]              \n",
      "__________________________________________________________________________________________________\n",
      "fake_output (Dense)             (None, 2)            1090        img_text_attention[0][0]         \n",
      "==================================================================================================\n",
      "Total params: 1,873,858\n",
      "Trainable params: 65,602\n",
      "Non-trainable params: 1,808,256\n",
      "__________________________________________________________________________________________________\n"
     ]
    }
   ],
   "source": [
    "model = Multimodel(img_text_branches=True).model\n",
    "model.summary()"
   ]
  },
  {
   "cell_type": "code",
   "execution_count": 5,
   "metadata": {
    "scrolled": true
   },
   "outputs": [
    {
     "name": "stdout",
     "output_type": "stream",
     "text": [
      "train\n",
      "WARNING:tensorflow:From /home/yangtianyun/anaconda3/lib/python3.7/site-packages/tensorflow/python/ops/math_ops.py:3066: to_int32 (from tensorflow.python.ops.math_ops) is deprecated and will be removed in a future version.\n",
      "Instructions for updating:\n",
      "Use tf.cast instead.\n",
      "WARNING:tensorflow:From /home/yangtianyun/anaconda3/lib/python3.7/site-packages/tensorflow/python/ops/math_grad.py:102: div (from tensorflow.python.ops.math_ops) is deprecated and will be removed in a future version.\n",
      "Instructions for updating:\n",
      "Deprecated in favor of operator or tf.math.divide.\n",
      "Train on 32193 samples, validate on 1613 samples\n",
      "Epoch 1/20\n",
      "32193/32193 [==============================] - 45s 1ms/step - loss: 0.2385 - accuracy: 0.9266 - val_loss: 0.5427 - val_accuracy: 0.7849\n",
      "Epoch 2/20\n",
      "32193/32193 [==============================] - 44s 1ms/step - loss: 0.1021 - accuracy: 0.9733 - val_loss: 0.5289 - val_accuracy: 0.7917\n",
      "Epoch 3/20\n",
      "32193/32193 [==============================] - 44s 1ms/step - loss: 0.0764 - accuracy: 0.9816 - val_loss: 0.4653 - val_accuracy: 0.8196\n",
      "Epoch 4/20\n",
      "32193/32193 [==============================] - 44s 1ms/step - loss: 0.0627 - accuracy: 0.9850 - val_loss: 0.5184 - val_accuracy: 0.8004\n",
      "Epoch 5/20\n",
      "32193/32193 [==============================] - 44s 1ms/step - loss: 0.0526 - accuracy: 0.9890 - val_loss: 0.5019 - val_accuracy: 0.8177\n",
      "Epoch 6/20\n",
      "32193/32193 [==============================] - 44s 1ms/step - loss: 0.0452 - accuracy: 0.9913 - val_loss: 0.5959 - val_accuracy: 0.7967\n",
      "Epoch 7/20\n",
      "32193/32193 [==============================] - 44s 1ms/step - loss: 0.0396 - accuracy: 0.9936 - val_loss: 0.5553 - val_accuracy: 0.8010\n",
      "Epoch 8/20\n",
      "32193/32193 [==============================] - 44s 1ms/step - loss: 0.0356 - accuracy: 0.9949 - val_loss: 0.6418 - val_accuracy: 0.7880\n",
      "Epoch 9/20\n",
      "32193/32193 [==============================] - 44s 1ms/step - loss: 0.0328 - accuracy: 0.9954 - val_loss: 0.7105 - val_accuracy: 0.7793\n",
      "Epoch 10/20\n",
      "32193/32193 [==============================] - 44s 1ms/step - loss: 0.0324 - accuracy: 0.9957 - val_loss: 0.6067 - val_accuracy: 0.7973\n",
      "Epoch 11/20\n",
      "32193/32193 [==============================] - 44s 1ms/step - loss: 0.0292 - accuracy: 0.9965 - val_loss: 0.6508 - val_accuracy: 0.7849\n",
      "Epoch 12/20\n",
      "32193/32193 [==============================] - 44s 1ms/step - loss: 0.0281 - accuracy: 0.9970 - val_loss: 0.7351 - val_accuracy: 0.7774\n",
      "Epoch 13/20\n",
      "32193/32193 [==============================] - 44s 1ms/step - loss: 0.0251 - accuracy: 0.9981 - val_loss: 0.7715 - val_accuracy: 0.7681\n",
      "Epoch 00013: early stopping\n"
     ]
    },
    {
     "data": {
      "image/png": "[encoded data removed]",
      "text/plain": [
       "<Figure size 432x288 with 1 Axes>"
      ]
     },
     "metadata": {
      "needs_background": "light"
     },
     "output_type": "display_data"
    },
    {
     "name": "stdout",
     "output_type": "stream",
     "text": [
      "\n",
      "TEST_sz: 1613\n",
      "\n",
      "Accuracy: 0.819590824550527\n",
      "\n",
      "              precision    recall  f1-score   support\n",
      "\n",
      "       truth      0.786     0.926     0.850       891\n",
      "       rumor      0.883     0.688     0.774       722\n",
      "\n",
      "   micro avg      0.820     0.820     0.820      1613\n",
      "   macro avg      0.834     0.807     0.812      1613\n",
      "weighted avg      0.829     0.820     0.816      1613\n",
      " samples avg      0.820     0.820     0.820      1613\n",
      "\n",
      "\n"
     ]
    }
   ],
   "source": [
    "# 参数 model_name: best model的weights文件保存在 './model/{}.hdf5'.format(model_name) 路径下\n",
    "train(model=model, model_name='multi_model',\n",
    "      train_data=[we_train,img_train_new], test_data=[we_test,img_test_new],\n",
    "      train_label=y_train, test_label=y_test,\n",
    "      epochs=20, batch_size=128)"
   ]
  },
  {
   "cell_type": "markdown",
   "metadata": {},
   "source": [
    "### 图像+文本 concate融合"
   ]
  },
  {
   "cell_type": "code",
   "execution_count": 6,
   "metadata": {
    "scrolled": true
   },
   "outputs": [
    {
     "name": "stdout",
     "output_type": "stream",
     "text": [
      "Model: \"model_4\"\n",
      "__________________________________________________________________________________________________\n",
      "Layer (type)                    Output Shape         Param #     Connected to                     \n",
      "==================================================================================================\n",
      "input_txt (InputLayer)          (None, 120)          0                                            \n",
      "__________________________________________________________________________________________________\n",
      "Embedding (Embedding)           (None, 120, 300)     1800000     input_txt[0][0]                  \n",
      "__________________________________________________________________________________________________\n",
      "BiGRU (Bidirectional)           (None, 120, 64)      63936       Embedding[0][0]                  \n",
      "__________________________________________________________________________________________________\n",
      "mean_pooling (GlobalAveragePool (None, 64)           0           BiGRU[0][0]                      \n",
      "__________________________________________________________________________________________________\n",
      "max_pooling (GlobalMaxPooling1D (None, 64)           0           BiGRU[0][0]                      \n",
      "__________________________________________________________________________________________________\n",
      "gru_pooling (Concatenate)       (None, 128)          0           mean_pooling[0][0]               \n",
      "                                                                 max_pooling[0][0]                \n",
      "__________________________________________________________________________________________________\n",
      "related_branch (Dense)          (None, 32)           4128        gru_pooling[0][0]                \n",
      "__________________________________________________________________________________________________\n",
      "unrelated_branch (Dense)        (None, 32)           4128        gru_pooling[0][0]                \n",
      "__________________________________________________________________________________________________\n",
      "reshape_5 (Reshape)             (None, 1, 32)        0           related_branch[0][0]             \n",
      "__________________________________________________________________________________________________\n",
      "reshape_6 (Reshape)             (None, 1, 32)        0           unrelated_branch[0][0]           \n",
      "__________________________________________________________________________________________________\n",
      "concatenate_5 (Concatenate)     (None, 2, 32)        0           reshape_5[0][0]                  \n",
      "                                                                 reshape_6[0][0]                  \n",
      "__________________________________________________________________________________________________\n",
      "input_img (InputLayer)          (None, 512)          0                                            \n",
      "__________________________________________________________________________________________________\n",
      "two_branches_attention (SelfAtt (None, 32)           32          concatenate_5[0][0]              \n",
      "__________________________________________________________________________________________________\n",
      "two_branches_concat (Concatenat (None, 544)          0           input_img[0][0]                  \n",
      "                                                                 two_branches_attention[0][0]     \n",
      "__________________________________________________________________________________________________\n",
      "fake_output (Dense)             (None, 2)            1090        two_branches_concat[0][0]        \n",
      "==================================================================================================\n",
      "Total params: 1,873,314\n",
      "Trainable params: 65,058\n",
      "Non-trainable params: 1,808,256\n",
      "__________________________________________________________________________________________________\n"
     ]
    }
   ],
   "source": [
    "model = Multimodel(img_text_branches=True,fusion_mode='concat').model\n",
    "model.summary()"
   ]
  },
  {
   "cell_type": "code",
   "execution_count": 7,
   "metadata": {
    "scrolled": true
   },
   "outputs": [
    {
     "name": "stdout",
     "output_type": "stream",
     "text": [
      "train\n",
      "Train on 32193 samples, validate on 1613 samples\n",
      "Epoch 1/20\n",
      "32193/32193 [==============================] - 45s 1ms/step - loss: 0.2493 - accuracy: 0.9132 - val_loss: 0.7294 - val_accuracy: 0.7210\n",
      "Epoch 2/20\n",
      "32193/32193 [==============================] - 44s 1ms/step - loss: 0.0980 - accuracy: 0.9739 - val_loss: 0.9152 - val_accuracy: 0.6857\n",
      "Epoch 3/20\n",
      "32193/32193 [==============================] - 45s 1ms/step - loss: 0.0749 - accuracy: 0.9806 - val_loss: 0.8900 - val_accuracy: 0.7092\n",
      "Epoch 4/20\n",
      "32193/32193 [==============================] - 44s 1ms/step - loss: 0.0562 - accuracy: 0.9867 - val_loss: 0.8891 - val_accuracy: 0.7328\n",
      "Epoch 5/20\n",
      "32193/32193 [==============================] - 45s 1ms/step - loss: 0.0475 - accuracy: 0.9899 - val_loss: 0.6145 - val_accuracy: 0.7960\n",
      "Epoch 6/20\n",
      "32193/32193 [==============================] - 44s 1ms/step - loss: 0.0387 - accuracy: 0.9924 - val_loss: 0.6876 - val_accuracy: 0.7799\n",
      "Epoch 7/20\n",
      "32193/32193 [==============================] - 44s 1ms/step - loss: 0.0324 - accuracy: 0.9942 - val_loss: 0.6382 - val_accuracy: 0.7936\n",
      "Epoch 8/20\n",
      "32193/32193 [==============================] - 44s 1ms/step - loss: 0.0291 - accuracy: 0.9950 - val_loss: 0.7299 - val_accuracy: 0.7725\n",
      "Epoch 9/20\n",
      "32193/32193 [==============================] - 44s 1ms/step - loss: 0.0244 - accuracy: 0.9968 - val_loss: 0.8062 - val_accuracy: 0.7700\n",
      "Epoch 10/20\n",
      "32193/32193 [==============================] - 44s 1ms/step - loss: 0.0214 - accuracy: 0.9977 - val_loss: 0.7538 - val_accuracy: 0.7774\n",
      "Epoch 11/20\n",
      "32193/32193 [==============================] - 45s 1ms/step - loss: 0.0217 - accuracy: 0.9975 - val_loss: 0.7913 - val_accuracy: 0.7843\n",
      "Epoch 12/20\n",
      "32193/32193 [==============================] - 45s 1ms/step - loss: 0.0176 - accuracy: 0.9989 - val_loss: 0.8121 - val_accuracy: 0.7774\n",
      "Epoch 13/20\n",
      "32193/32193 [==============================] - 44s 1ms/step - loss: 0.0173 - accuracy: 0.9987 - val_loss: 1.2248 - val_accuracy: 0.7061\n",
      "Epoch 14/20\n",
      "32193/32193 [==============================] - 45s 1ms/step - loss: 0.0160 - accuracy: 0.9991 - val_loss: 0.9849 - val_accuracy: 0.7564\n",
      "Epoch 15/20\n",
      "32193/32193 [==============================] - 44s 1ms/step - loss: 0.0142 - accuracy: 0.9994 - val_loss: 0.9181 - val_accuracy: 0.7588\n",
      "Epoch 00015: early stopping\n"
     ]
    },
    {
     "data": {
      "image/png": "[encoded data removed]",
      "text/plain": [
       "<Figure size 432x288 with 1 Axes>"
      ]
     },
     "metadata": {
      "needs_background": "light"
     },
     "output_type": "display_data"
    },
    {
     "name": "stdout",
     "output_type": "stream",
     "text": [
      "\n",
      "TEST_sz: 1613\n",
      "\n",
      "Accuracy: 0.7960322380657161\n",
      "\n",
      "              precision    recall  f1-score   support\n",
      "\n",
      "       truth      0.763     0.915     0.832       891\n",
      "       rumor      0.861     0.650     0.740       722\n",
      "\n",
      "   micro avg      0.796     0.796     0.796      1613\n",
      "   macro avg      0.812     0.782     0.786      1613\n",
      "weighted avg      0.807     0.796     0.791      1613\n",
      " samples avg      0.796     0.796     0.796      1613\n",
      "\n",
      "\n"
     ]
    }
   ],
   "source": [
    "# 参数 model_name: best model的weights文件保存在 './model/{}.hdf5'.format(model_name) 路径下\n",
    "train(model=model, model_name='multi_model_concate',\n",
    "      train_data=[we_train,img_train_new], test_data=[we_test,img_test_new],\n",
    "      train_label=y_train, test_label=y_test,\n",
    "      epochs=20, batch_size=128)"
   ]
  },
  {
   "cell_type": "markdown",
   "metadata": {},
   "source": [
    "### 文本+图像 bilinear融合"
   ]
  },
  {
   "cell_type": "code",
   "execution_count": 4,
   "metadata": {},
   "outputs": [
    {
     "name": "stdout",
     "output_type": "stream",
     "text": [
      "Model: \"model_3\"\n",
      "__________________________________________________________________________________________________\n",
      "Layer (type)                    Output Shape         Param #     Connected to                     \n",
      "==================================================================================================\n",
      "input_txt (InputLayer)          (None, 120)          0                                            \n",
      "__________________________________________________________________________________________________\n",
      "Embedding (Embedding)           (None, 120, 300)     1800000     input_txt[0][0]                  \n",
      "__________________________________________________________________________________________________\n",
      "BiGRU (Bidirectional)           (None, 120, 64)      63936       Embedding[0][0]                  \n",
      "__________________________________________________________________________________________________\n",
      "mean_pooling (GlobalAveragePool (None, 64)           0           BiGRU[0][0]                      \n",
      "__________________________________________________________________________________________________\n",
      "max_pooling (GlobalMaxPooling1D (None, 64)           0           BiGRU[0][0]                      \n",
      "__________________________________________________________________________________________________\n",
      "gru_pooling (Concatenate)       (None, 128)          0           mean_pooling[0][0]               \n",
      "                                                                 max_pooling[0][0]                \n",
      "__________________________________________________________________________________________________\n",
      "related_branch (Dense)          (None, 32)           4128        gru_pooling[0][0]                \n",
      "__________________________________________________________________________________________________\n",
      "unrelated_branch (Dense)        (None, 32)           4128        gru_pooling[0][0]                \n",
      "__________________________________________________________________________________________________\n",
      "reshape_1 (Reshape)             (None, 1, 32)        0           related_branch[0][0]             \n",
      "__________________________________________________________________________________________________\n",
      "reshape_2 (Reshape)             (None, 1, 32)        0           unrelated_branch[0][0]           \n",
      "__________________________________________________________________________________________________\n",
      "concatenate_3 (Concatenate)     (None, 2, 32)        0           reshape_1[0][0]                  \n",
      "                                                                 reshape_2[0][0]                  \n",
      "__________________________________________________________________________________________________\n",
      "input_img (InputLayer)          (None, 512)          0                                            \n",
      "__________________________________________________________________________________________________\n",
      "two_branches_attention (SelfAtt (None, 32)           32          concatenate_3[0][0]              \n",
      "__________________________________________________________________________________________________\n",
      "two_branches_bilinear (Lambda)  (None, 512, 32)      0           input_img[0][0]                  \n",
      "                                                                 two_branches_attention[0][0]     \n",
      "__________________________________________________________________________________________________\n",
      "flatten_1 (Flatten)             (None, 16384)        0           two_branches_bilinear[0][0]      \n",
      "__________________________________________________________________________________________________\n",
      "dropout_1 (Dropout)             (None, 16384)        0           flatten_1[0][0]                  \n",
      "__________________________________________________________________________________________________\n",
      "fake_output (Dense)             (None, 2)            32770       dropout_1[0][0]                  \n",
      "==================================================================================================\n",
      "Total params: 1,904,994\n",
      "Trainable params: 96,738\n",
      "Non-trainable params: 1,808,256\n",
      "__________________________________________________________________________________________________\n"
     ]
    }
   ],
   "source": [
    "model = Multimodel(img_text_branches=True,fusion_mode='bilinear').model\n",
    "model.summary()"
   ]
  },
  {
   "cell_type": "code",
   "execution_count": 5,
   "metadata": {
    "scrolled": true
   },
   "outputs": [
    {
     "name": "stdout",
     "output_type": "stream",
     "text": [
      "train\n",
      "WARNING:tensorflow:From /home/yangtianyun/anaconda3/lib/python3.7/site-packages/tensorflow/python/ops/math_ops.py:3066: to_int32 (from tensorflow.python.ops.math_ops) is deprecated and will be removed in a future version.\n",
      "Instructions for updating:\n",
      "Use tf.cast instead.\n",
      "WARNING:tensorflow:From /home/yangtianyun/anaconda3/lib/python3.7/site-packages/tensorflow/python/ops/math_grad.py:102: div (from tensorflow.python.ops.math_ops) is deprecated and will be removed in a future version.\n",
      "Instructions for updating:\n",
      "Deprecated in favor of operator or tf.math.divide.\n",
      "Train on 32193 samples, validate on 1613 samples\n",
      "Epoch 1/20\n",
      "32193/32193 [==============================] - 46s 1ms/step - loss: 0.4459 - accuracy: 0.7396 - val_loss: 0.5680 - val_accuracy: 0.7092\n",
      "Epoch 2/20\n",
      "32193/32193 [==============================] - 45s 1ms/step - loss: 0.3878 - accuracy: 0.7585 - val_loss: 0.6026 - val_accuracy: 0.7006\n",
      "Epoch 3/20\n",
      "32193/32193 [==============================] - 45s 1ms/step - loss: 0.3717 - accuracy: 0.7645 - val_loss: 0.7672 - val_accuracy: 0.6460\n",
      "Epoch 4/20\n",
      "32193/32193 [==============================] - 45s 1ms/step - loss: 0.3633 - accuracy: 0.7675 - val_loss: 0.6663 - val_accuracy: 0.6832\n",
      "Epoch 5/20\n",
      "32193/32193 [==============================] - 45s 1ms/step - loss: 0.3513 - accuracy: 0.7710 - val_loss: 0.7303 - val_accuracy: 0.6615\n",
      "Epoch 6/20\n",
      "32193/32193 [==============================] - 45s 1ms/step - loss: 0.3487 - accuracy: 0.7715 - val_loss: 0.7105 - val_accuracy: 0.6733\n",
      "Epoch 7/20\n",
      "32193/32193 [==============================] - 45s 1ms/step - loss: 0.3422 - accuracy: 0.7736 - val_loss: 0.7540 - val_accuracy: 0.6621\n",
      "Epoch 8/20\n",
      "32193/32193 [==============================] - 45s 1ms/step - loss: 0.3458 - accuracy: 0.7723 - val_loss: 0.8545 - val_accuracy: 0.6528\n",
      "Epoch 9/20\n",
      "32193/32193 [==============================] - 45s 1ms/step - loss: 0.3400 - accuracy: 0.7739 - val_loss: 1.0024 - val_accuracy: 0.6175\n",
      "Epoch 10/20\n",
      "32193/32193 [==============================] - 45s 1ms/step - loss: 0.3343 - accuracy: 0.7753 - val_loss: 0.7349 - val_accuracy: 0.6665\n",
      "Epoch 11/20\n",
      "32193/32193 [==============================] - 45s 1ms/step - loss: 0.3297 - accuracy: 0.7761 - val_loss: 0.8228 - val_accuracy: 0.6640\n",
      "Epoch 00011: early stopping\n"
     ]
    },
    {
     "data": {
      "image/png": "[encoded data removed]",
      "text/plain": [
       "<Figure size 432x288 with 1 Axes>"
      ]
     },
     "metadata": {
      "needs_background": "light"
     },
     "output_type": "display_data"
    },
    {
     "name": "stdout",
     "output_type": "stream",
     "text": [
      "\n",
      "TEST_sz: 1613\n",
      "\n",
      "Accuracy: 0.7092374457532548\n",
      "\n",
      "              precision    recall  f1-score   support\n",
      "\n",
      "       truth      0.686     0.872     0.768       891\n",
      "       rumor      0.763     0.508     0.610       722\n",
      "\n",
      "   micro avg      0.709     0.709     0.709      1613\n",
      "   macro avg      0.725     0.690     0.689      1613\n",
      "weighted avg      0.721     0.709     0.697      1613\n",
      " samples avg      0.709     0.709     0.709      1613\n",
      "\n",
      "\n"
     ]
    }
   ],
   "source": [
    "# 参数 model_name: best model的weights文件保存在 './model/{}.hdf5'.format(model_name) 路径下\n",
    "train(model=model, model_name='multi_model_bilinear',\n",
    "      train_data=[we_train,img_train_new], test_data=[we_test,img_test_new],\n",
    "      train_label=y_train, test_label=y_test,\n",
    "      epochs=20, batch_size=128)"
   ]
  },
  {
   "cell_type": "markdown",
   "metadata": {},
   "source": [
    "### 文本-图像 全连接层融合"
   ]
  },
  {
   "cell_type": "code",
   "execution_count": 4,
   "metadata": {},
   "outputs": [
    {
     "name": "stdout",
     "output_type": "stream",
     "text": [
      "Model: \"model_3\"\n",
      "__________________________________________________________________________________________________\n",
      "Layer (type)                    Output Shape         Param #     Connected to                     \n",
      "==================================================================================================\n",
      "input_txt (InputLayer)          (None, 120)          0                                            \n",
      "__________________________________________________________________________________________________\n",
      "Embedding (Embedding)           (None, 120, 300)     1800000     input_txt[0][0]                  \n",
      "__________________________________________________________________________________________________\n",
      "BiGRU (Bidirectional)           (None, 120, 64)      63936       Embedding[0][0]                  \n",
      "__________________________________________________________________________________________________\n",
      "mean_pooling (GlobalAveragePool (None, 64)           0           BiGRU[0][0]                      \n",
      "__________________________________________________________________________________________________\n",
      "max_pooling (GlobalMaxPooling1D (None, 64)           0           BiGRU[0][0]                      \n",
      "__________________________________________________________________________________________________\n",
      "gru_pooling (Concatenate)       (None, 128)          0           mean_pooling[0][0]               \n",
      "                                                                 max_pooling[0][0]                \n",
      "__________________________________________________________________________________________________\n",
      "related_branch (Dense)          (None, 32)           4128        gru_pooling[0][0]                \n",
      "__________________________________________________________________________________________________\n",
      "unrelated_branch (Dense)        (None, 32)           4128        gru_pooling[0][0]                \n",
      "__________________________________________________________________________________________________\n",
      "reshape_1 (Reshape)             (None, 1, 32)        0           related_branch[0][0]             \n",
      "__________________________________________________________________________________________________\n",
      "reshape_2 (Reshape)             (None, 1, 32)        0           unrelated_branch[0][0]           \n",
      "__________________________________________________________________________________________________\n",
      "concatenate_3 (Concatenate)     (None, 2, 32)        0           reshape_1[0][0]                  \n",
      "                                                                 reshape_2[0][0]                  \n",
      "__________________________________________________________________________________________________\n",
      "input_img (InputLayer)          (None, 512)          0                                            \n",
      "__________________________________________________________________________________________________\n",
      "two_branches_attention (SelfAtt (None, 32)           32          concatenate_3[0][0]              \n",
      "__________________________________________________________________________________________________\n",
      "two_branches_concat (Concatenat (None, 544)          0           input_img[0][0]                  \n",
      "                                                                 two_branches_attention[0][0]     \n",
      "__________________________________________________________________________________________________\n",
      "img_text_fc (Dense)             (None, 128)          69760       two_branches_concat[0][0]        \n",
      "__________________________________________________________________________________________________\n",
      "fake_output (Dense)             (None, 2)            258         img_text_fc[0][0]                \n",
      "==================================================================================================\n",
      "Total params: 1,942,242\n",
      "Trainable params: 133,986\n",
      "Non-trainable params: 1,808,256\n",
      "__________________________________________________________________________________________________\n"
     ]
    }
   ],
   "source": [
    "model = Multimodel(img_text_branches=True,fusion_mode='fc').model\n",
    "model.summary()"
   ]
  },
  {
   "cell_type": "code",
   "execution_count": 5,
   "metadata": {
    "scrolled": true
   },
   "outputs": [
    {
     "name": "stdout",
     "output_type": "stream",
     "text": [
      "train\n",
      "WARNING:tensorflow:From /home/yangtianyun/anaconda3/lib/python3.7/site-packages/tensorflow/python/ops/math_ops.py:3066: to_int32 (from tensorflow.python.ops.math_ops) is deprecated and will be removed in a future version.\n",
      "Instructions for updating:\n",
      "Use tf.cast instead.\n",
      "WARNING:tensorflow:From /home/yangtianyun/anaconda3/lib/python3.7/site-packages/tensorflow/python/ops/math_grad.py:102: div (from tensorflow.python.ops.math_ops) is deprecated and will be removed in a future version.\n",
      "Instructions for updating:\n",
      "Deprecated in favor of operator or tf.math.divide.\n",
      "Train on 32193 samples, validate on 1613 samples\n",
      "Epoch 1/20\n",
      "32193/32193 [==============================] - 53s 2ms/step - loss: 0.1758 - accuracy: 0.9444 - val_loss: 0.8373 - val_accuracy: 0.7216\n",
      "Epoch 2/20\n",
      "32193/32193 [==============================] - 52s 2ms/step - loss: 0.0796 - accuracy: 0.9788 - val_loss: 0.6596 - val_accuracy: 0.7681\n",
      "Epoch 3/20\n",
      "32193/32193 [==============================] - 52s 2ms/step - loss: 0.0510 - accuracy: 0.9872 - val_loss: 0.8194 - val_accuracy: 0.7464\n",
      "Epoch 4/20\n",
      "32193/32193 [==============================] - 51s 2ms/step - loss: 0.0354 - accuracy: 0.9919 - val_loss: 0.5678 - val_accuracy: 0.8134\n",
      "Epoch 5/20\n",
      "32193/32193 [==============================] - 52s 2ms/step - loss: 0.0245 - accuracy: 0.9949 - val_loss: 0.6625 - val_accuracy: 0.8078\n",
      "Epoch 6/20\n",
      "32193/32193 [==============================] - 52s 2ms/step - loss: 0.0172 - accuracy: 0.9977 - val_loss: 0.7444 - val_accuracy: 0.7880\n",
      "Epoch 7/20\n",
      "32193/32193 [==============================] - 52s 2ms/step - loss: 0.0123 - accuracy: 0.9991 - val_loss: 0.7509 - val_accuracy: 0.8004\n",
      "Epoch 8/20\n",
      "32193/32193 [==============================] - 52s 2ms/step - loss: 0.0088 - accuracy: 0.9997 - val_loss: 0.9460 - val_accuracy: 0.7787\n",
      "Epoch 9/20\n",
      "32193/32193 [==============================] - 52s 2ms/step - loss: 0.0069 - accuracy: 0.9996 - val_loss: 1.2246 - val_accuracy: 0.7316\n",
      "Epoch 10/20\n",
      "32193/32193 [==============================] - 52s 2ms/step - loss: 0.0074 - accuracy: 0.9993 - val_loss: 0.9550 - val_accuracy: 0.7756\n",
      "Epoch 11/20\n",
      "32193/32193 [==============================] - 53s 2ms/step - loss: 0.0052 - accuracy: 0.9999 - val_loss: 1.1262 - val_accuracy: 0.7588\n",
      "Epoch 12/20\n",
      "32193/32193 [==============================] - 55s 2ms/step - loss: 0.0040 - accuracy: 0.9999 - val_loss: 0.7953 - val_accuracy: 0.8140\n",
      "Epoch 13/20\n",
      "32193/32193 [==============================] - 54s 2ms/step - loss: 0.0033 - accuracy: 1.0000 - val_loss: 1.1105 - val_accuracy: 0.7737\n",
      "Epoch 14/20\n",
      "32193/32193 [==============================] - 54s 2ms/step - loss: 0.0029 - accuracy: 1.0000 - val_loss: 1.0352 - val_accuracy: 0.7905\n",
      "Epoch 15/20\n",
      "32193/32193 [==============================] - 53s 2ms/step - loss: 0.0101 - accuracy: 0.9971 - val_loss: 0.9379 - val_accuracy: 0.8004\n",
      "Epoch 16/20\n",
      "32193/32193 [==============================] - 56s 2ms/step - loss: 0.0059 - accuracy: 0.9988 - val_loss: 0.8801 - val_accuracy: 0.8072\n",
      "Epoch 17/20\n",
      "32193/32193 [==============================] - 55s 2ms/step - loss: 0.0032 - accuracy: 0.9999 - val_loss: 1.0164 - val_accuracy: 0.7898\n",
      "Epoch 18/20\n",
      "32193/32193 [==============================] - 55s 2ms/step - loss: 0.0023 - accuracy: 1.0000 - val_loss: 1.0406 - val_accuracy: 0.7911\n",
      "Epoch 19/20\n",
      "32193/32193 [==============================] - 54s 2ms/step - loss: 0.0020 - accuracy: 1.0000 - val_loss: 1.0246 - val_accuracy: 0.7948\n",
      "Epoch 20/20\n",
      "32193/32193 [==============================] - 55s 2ms/step - loss: 0.0018 - accuracy: 1.0000 - val_loss: 1.0762 - val_accuracy: 0.7867\n"
     ]
    },
    {
     "data": {
      "image/png": "[encoded data removed]",
      "text/plain": [
       "<Figure size 432x288 with 1 Axes>"
      ]
     },
     "metadata": {
      "needs_background": "light"
     },
     "output_type": "display_data"
    },
    {
     "name": "stdout",
     "output_type": "stream",
     "text": [
      "\n",
      "TEST_sz: 1613\n",
      "\n",
      "Accuracy: 0.8140111593304402\n",
      "\n",
      "              precision    recall  f1-score   support\n",
      "\n",
      "       truth      0.776     0.932     0.847       891\n",
      "       rumor      0.888     0.669     0.763       722\n",
      "\n",
      "   micro avg      0.814     0.814     0.814      1613\n",
      "   macro avg      0.832     0.800     0.805      1613\n",
      "weighted avg      0.826     0.814     0.809      1613\n",
      " samples avg      0.814     0.814     0.814      1613\n",
      "\n",
      "\n"
     ]
    }
   ],
   "source": [
    "# 参数 model_name: best model的weights文件保存在 './model/{}.hdf5'.format(model_name) 路径下\n",
    "train(model=model, model_name='multi_model_fc',\n",
    "      train_data=[we_train,img_train_new], test_data=[we_test,img_test_new],\n",
    "      train_label=y_train, test_label=y_test,\n",
    "      epochs=20, batch_size=128)"
   ]
  },
  {
   "cell_type": "markdown",
   "metadata": {},
   "source": [
    "## 文本图像情感attention"
   ]
  },
  {
   "cell_type": "code",
   "execution_count": 1,
   "metadata": {},
   "outputs": [
    {
     "name": "stdout",
     "output_type": "stream",
     "text": [
      "(32193, 120) (1613, 120) (32193, 2) (1613, 2)\n",
      "(32193, 55) (1613, 55) (32193, 256) (1613, 256)\n"
     ]
    }
   ],
   "source": [
    "import numpy as np\n",
    "\n",
    "we_train = np.load('../data/train_we_(32193, 120).npy')\n",
    "we_test = np.load('../data/test_we_(1613, 120).npy')\n",
    "\n",
    "y_train = np.load('../data/train_label_(32193, 2).npy')\n",
    "y_test = np.load('../data/test_label_(1613, 2).npy')\n",
    "\n",
    "print(we_train.shape, we_test.shape, y_train.shape, y_test.shape)\n",
    "\n",
    "img_train_new=np.load('/home/yangtianyun/MM_course/ft-feature/train_img_aligned.npy')\n",
    "img_test_new=np.load('/home/yangtianyun/MM_course/ft-feature/test_img_aligned.npy')\n",
    "\n",
    "img_train_emo=np.load('/home/yangtianyun/test/MM-Course/yangtianyun/train_emo_feature_aligned.npy')\n",
    "img_test_emo=np.load('/home/yangtianyun/test/MM-Course/yangtianyun/test_emo_feature_aligned.npy')\n",
    "\n",
    "txt_train_emo=np.load('/home/yangtianyun/test/MM-Course/yangtianyun/text_train_emotion.npy')\n",
    "txt_test_emo=np.load('/home/yangtianyun/test/MM-Course/yangtianyun/text_test_emotion.npy')\n",
    "\n",
    "print(txt_train_emo.shape, txt_test_emo.shape,img_train_emo.shape, img_test_emo.shape)"
   ]
  },
  {
   "cell_type": "code",
   "execution_count": 3,
   "metadata": {},
   "outputs": [
    {
     "name": "stderr",
     "output_type": "stream",
     "text": [
      "Using TensorFlow backend.\n",
      "/home/yangtianyun/anaconda3/lib/python3.7/site-packages/tensorflow/python/framework/dtypes.py:526: FutureWarning: Passing (type, 1) or '1type' as a synonym of type is deprecated; in a future version of numpy, it will be understood as (type, (1,)) / '(1,)type'.\n",
      "  _np_qint8 = np.dtype([(\"qint8\", np.int8, 1)])\n",
      "/home/yangtianyun/anaconda3/lib/python3.7/site-packages/tensorflow/python/framework/dtypes.py:527: FutureWarning: Passing (type, 1) or '1type' as a synonym of type is deprecated; in a future version of numpy, it will be understood as (type, (1,)) / '(1,)type'.\n",
      "  _np_quint8 = np.dtype([(\"quint8\", np.uint8, 1)])\n",
      "/home/yangtianyun/anaconda3/lib/python3.7/site-packages/tensorflow/python/framework/dtypes.py:528: FutureWarning: Passing (type, 1) or '1type' as a synonym of type is deprecated; in a future version of numpy, it will be understood as (type, (1,)) / '(1,)type'.\n",
      "  _np_qint16 = np.dtype([(\"qint16\", np.int16, 1)])\n",
      "/home/yangtianyun/anaconda3/lib/python3.7/site-packages/tensorflow/python/framework/dtypes.py:529: FutureWarning: Passing (type, 1) or '1type' as a synonym of type is deprecated; in a future version of numpy, it will be understood as (type, (1,)) / '(1,)type'.\n",
      "  _np_quint16 = np.dtype([(\"quint16\", np.uint16, 1)])\n",
      "/home/yangtianyun/anaconda3/lib/python3.7/site-packages/tensorflow/python/framework/dtypes.py:530: FutureWarning: Passing (type, 1) or '1type' as a synonym of type is deprecated; in a future version of numpy, it will be understood as (type, (1,)) / '(1,)type'.\n",
      "  _np_qint32 = np.dtype([(\"qint32\", np.int32, 1)])\n",
      "/home/yangtianyun/anaconda3/lib/python3.7/site-packages/tensorflow/python/framework/dtypes.py:535: FutureWarning: Passing (type, 1) or '1type' as a synonym of type is deprecated; in a future version of numpy, it will be understood as (type, (1,)) / '(1,)type'.\n",
      "  np_resource = np.dtype([(\"resource\", np.ubyte, 1)])\n"
     ]
    },
    {
     "name": "stdout",
     "output_type": "stream",
     "text": [
      "WARNING:tensorflow:From /home/yangtianyun/anaconda3/lib/python3.7/site-packages/tensorflow/python/ops/resource_variable_ops.py:435: colocate_with (from tensorflow.python.framework.ops) is deprecated and will be removed in a future version.\n",
      "Instructions for updating:\n",
      "Colocations handled automatically by placer.\n"
     ]
    }
   ],
   "source": [
    "from Multimodality import Multimodel_emoatt"
   ]
  },
  {
   "cell_type": "code",
   "execution_count": 4,
   "metadata": {
    "scrolled": true
   },
   "outputs": [
    {
     "name": "stdout",
     "output_type": "stream",
     "text": [
      "Tensor(\"reshape_5/Reshape:0\", shape=(?, 2, 1), dtype=float32)\n",
      "Model: \"model_3\"\n",
      "__________________________________________________________________________________________________\n",
      "Layer (type)                    Output Shape         Param #     Connected to                     \n",
      "==================================================================================================\n",
      "input_txt (InputLayer)          (None, 120)          0                                            \n",
      "__________________________________________________________________________________________________\n",
      "Embedding (Embedding)           (None, 120, 300)     1800000     input_txt[0][0]                  \n",
      "__________________________________________________________________________________________________\n",
      "BiGRU (Bidirectional)           (None, 120, 64)      63936       Embedding[0][0]                  \n",
      "__________________________________________________________________________________________________\n",
      "mean_pooling (GlobalAveragePool (None, 64)           0           BiGRU[0][0]                      \n",
      "__________________________________________________________________________________________________\n",
      "max_pooling (GlobalMaxPooling1D (None, 64)           0           BiGRU[0][0]                      \n",
      "__________________________________________________________________________________________________\n",
      "gru_pooling (Concatenate)       (None, 128)          0           mean_pooling[0][0]               \n",
      "                                                                 max_pooling[0][0]                \n",
      "__________________________________________________________________________________________________\n",
      "related_branch (Dense)          (None, 32)           4128        gru_pooling[0][0]                \n",
      "__________________________________________________________________________________________________\n",
      "unrelated_branch (Dense)        (None, 32)           4128        gru_pooling[0][0]                \n",
      "__________________________________________________________________________________________________\n",
      "reshape_1 (Reshape)             (None, 1, 32)        0           related_branch[0][0]             \n",
      "__________________________________________________________________________________________________\n",
      "reshape_2 (Reshape)             (None, 1, 32)        0           unrelated_branch[0][0]           \n",
      "__________________________________________________________________________________________________\n",
      "txt_emotion (InputLayer)        (None, 55)           0                                            \n",
      "__________________________________________________________________________________________________\n",
      "img_emotion (InputLayer)        (None, 256)          0                                            \n",
      "__________________________________________________________________________________________________\n",
      "concatenate_3 (Concatenate)     (None, 2, 32)        0           reshape_1[0][0]                  \n",
      "                                                                 reshape_2[0][0]                  \n",
      "__________________________________________________________________________________________________\n",
      "emo_concat (Concatenate)        (None, 311)          0           txt_emotion[0][0]                \n",
      "                                                                 img_emotion[0][0]                \n",
      "__________________________________________________________________________________________________\n",
      "input_img (InputLayer)          (None, 512)          0                                            \n",
      "__________________________________________________________________________________________________\n",
      "two_branches_attention (SelfAtt (None, 32)           32          concatenate_3[0][0]              \n",
      "__________________________________________________________________________________________________\n",
      "emo_weight (Dense)              (None, 2)            624         emo_concat[0][0]                 \n",
      "__________________________________________________________________________________________________\n",
      "reshape_3 (Reshape)             (None, 1, 512)       0           input_img[0][0]                  \n",
      "__________________________________________________________________________________________________\n",
      "reshape_4 (Reshape)             (None, 1, 32)        0           two_branches_attention[0][0]     \n",
      "__________________________________________________________________________________________________\n",
      "reshape_5 (Reshape)             (None, 2, 1)         0           emo_weight[0][0]                 \n",
      "__________________________________________________________________________________________________\n",
      "concatenate_4 (Concatenate)     (None, 1, 544)       0           reshape_3[0][0]                  \n",
      "                                                                 reshape_4[0][0]                  \n",
      "__________________________________________________________________________________________________\n",
      "lambda_1 (Lambda)               (None, 1)            0           reshape_5[0][0]                  \n",
      "__________________________________________________________________________________________________\n",
      "img_text_attention (SelfAttLaye (None, 544)          544         concatenate_4[0][0]              \n",
      "__________________________________________________________________________________________________\n",
      "lambda_2 (Lambda)               (None, 1)            0           reshape_5[0][0]                  \n",
      "__________________________________________________________________________________________________\n",
      "att_rep_txt (Lambda)            (None, 32)           0           lambda_1[0][0]                   \n",
      "__________________________________________________________________________________________________\n",
      "lambda_4 (Lambda)               (None, 32)           0           img_text_attention[0][0]         \n",
      "__________________________________________________________________________________________________\n",
      "att_rep_img (Lambda)            (None, 512)          0           lambda_2[0][0]                   \n",
      "__________________________________________________________________________________________________\n",
      "lambda_3 (Lambda)               (None, 512)          0           img_text_attention[0][0]         \n",
      "__________________________________________________________________________________________________\n",
      "multiply_1 (Multiply)           (None, 32)           0           att_rep_txt[0][0]                \n",
      "                                                                 lambda_4[0][0]                   \n",
      "__________________________________________________________________________________________________\n",
      "multiply_2 (Multiply)           (None, 512)          0           att_rep_img[0][0]                \n",
      "                                                                 lambda_3[0][0]                   \n",
      "__________________________________________________________________________________________________\n",
      "emo_attention (Concatenate)     (None, 544)          0           multiply_1[0][0]                 \n",
      "                                                                 multiply_2[0][0]                 \n",
      "__________________________________________________________________________________________________\n",
      "batch_norm (BatchNormalization) (None, 544)          2176        emo_attention[0][0]              \n",
      "__________________________________________________________________________________________________\n",
      "fake_output (Dense)             (None, 2)            1090        batch_norm[0][0]                 \n",
      "==================================================================================================\n",
      "Total params: 1,876,658\n",
      "Trainable params: 67,314\n",
      "Non-trainable params: 1,809,344\n",
      "__________________________________________________________________________________________________\n"
     ]
    }
   ],
   "source": [
    "model = Multimodel_emoatt(emoatt=True,fusion_mode='attention').model\n",
    "model.summary()"
   ]
  },
  {
   "cell_type": "code",
   "execution_count": 5,
   "metadata": {},
   "outputs": [],
   "source": [
    "from train import train"
   ]
  },
  {
   "cell_type": "code",
   "execution_count": 6,
   "metadata": {
    "scrolled": false
   },
   "outputs": [
    {
     "name": "stdout",
     "output_type": "stream",
     "text": [
      "train\n",
      "WARNING:tensorflow:From /home/yangtianyun/anaconda3/lib/python3.7/site-packages/tensorflow/python/ops/math_ops.py:3066: to_int32 (from tensorflow.python.ops.math_ops) is deprecated and will be removed in a future version.\n",
      "Instructions for updating:\n",
      "Use tf.cast instead.\n",
      "WARNING:tensorflow:From /home/yangtianyun/anaconda3/lib/python3.7/site-packages/tensorflow/python/ops/math_grad.py:102: div (from tensorflow.python.ops.math_ops) is deprecated and will be removed in a future version.\n",
      "Instructions for updating:\n",
      "Deprecated in favor of operator or tf.math.divide.\n",
      "Train on 32193 samples, validate on 1613 samples\n",
      "Epoch 1/20\n",
      "32193/32193 [==============================] - 55s 2ms/step - loss: 0.2702 - accuracy: 0.9139 - val_loss: 0.6347 - val_accuracy: 0.7322\n",
      "Epoch 2/20\n",
      "32193/32193 [==============================] - 54s 2ms/step - loss: 0.1182 - accuracy: 0.9741 - val_loss: 0.7475 - val_accuracy: 0.7216\n",
      "Epoch 3/20\n",
      "32193/32193 [==============================] - 55s 2ms/step - loss: 0.0913 - accuracy: 0.9808 - val_loss: 0.7694 - val_accuracy: 0.7433\n",
      "Epoch 4/20\n",
      "32193/32193 [==============================] - 51s 2ms/step - loss: 0.0759 - accuracy: 0.9854 - val_loss: 0.9692 - val_accuracy: 0.7061\n",
      "Epoch 5/20\n",
      "32193/32193 [==============================] - 50s 2ms/step - loss: 0.0689 - accuracy: 0.9869 - val_loss: 0.7283 - val_accuracy: 0.7433\n",
      "Epoch 6/20\n",
      "32193/32193 [==============================] - 51s 2ms/step - loss: 0.0640 - accuracy: 0.9891 - val_loss: 0.7795 - val_accuracy: 0.7402\n",
      "Epoch 7/20\n",
      "32193/32193 [==============================] - 52s 2ms/step - loss: 0.0595 - accuracy: 0.9901 - val_loss: 0.8771 - val_accuracy: 0.7241\n",
      "Epoch 8/20\n",
      "32193/32193 [==============================] - 55s 2ms/step - loss: 0.0592 - accuracy: 0.9888 - val_loss: 0.9202 - val_accuracy: 0.7204\n",
      "Epoch 9/20\n",
      "32193/32193 [==============================] - 56s 2ms/step - loss: 0.0574 - accuracy: 0.9894 - val_loss: 1.0603 - val_accuracy: 0.7043\n",
      "Epoch 10/20\n",
      "32193/32193 [==============================] - 54s 2ms/step - loss: 0.0535 - accuracy: 0.9900 - val_loss: 1.2423 - val_accuracy: 0.7030\n",
      "Epoch 11/20\n",
      "32193/32193 [==============================] - 54s 2ms/step - loss: 0.0540 - accuracy: 0.9895 - val_loss: 0.9829 - val_accuracy: 0.7210\n",
      "Epoch 12/20\n",
      "32193/32193 [==============================] - 55s 2ms/step - loss: 0.0530 - accuracy: 0.9898 - val_loss: 0.9222 - val_accuracy: 0.7328\n",
      "Epoch 13/20\n",
      "32193/32193 [==============================] - 54s 2ms/step - loss: 0.0519 - accuracy: 0.9903 - val_loss: 0.6949 - val_accuracy: 0.7638\n",
      "Epoch 14/20\n",
      "32193/32193 [==============================] - 54s 2ms/step - loss: 0.0516 - accuracy: 0.9898 - val_loss: 0.7761 - val_accuracy: 0.7433\n",
      "Epoch 15/20\n",
      "32193/32193 [==============================] - 55s 2ms/step - loss: 0.0504 - accuracy: 0.9905 - val_loss: 0.9275 - val_accuracy: 0.7291\n",
      "Epoch 16/20\n",
      "32193/32193 [==============================] - 55s 2ms/step - loss: 0.0505 - accuracy: 0.9898 - val_loss: 0.7271 - val_accuracy: 0.7576\n",
      "Epoch 17/20\n",
      "32193/32193 [==============================] - 55s 2ms/step - loss: 0.0530 - accuracy: 0.9892 - val_loss: 0.8134 - val_accuracy: 0.7508\n",
      "Epoch 18/20\n",
      "32193/32193 [==============================] - 54s 2ms/step - loss: 0.0506 - accuracy: 0.9896 - val_loss: 0.8662 - val_accuracy: 0.7371\n",
      "Epoch 19/20\n",
      "32193/32193 [==============================] - 55s 2ms/step - loss: 0.0485 - accuracy: 0.9901 - val_loss: 0.8750 - val_accuracy: 0.7340\n",
      "Epoch 20/20\n",
      "32193/32193 [==============================] - 55s 2ms/step - loss: 0.0520 - accuracy: 0.9891 - val_loss: 1.0539 - val_accuracy: 0.7223\n"
     ]
    },
    {
     "data": {
      "image/png": "[encoded data removed]",
      "text/plain": [
       "<Figure size 432x288 with 1 Axes>"
      ]
     },
     "metadata": {
      "needs_background": "light"
     },
     "output_type": "display_data"
    },
    {
     "name": "stdout",
     "output_type": "stream",
     "text": [
      "\n",
      "TEST_sz: 1613\n",
      "\n",
      "Accuracy: 0.7637941723496591\n",
      "\n",
      "              precision    recall  f1-score   support\n",
      "\n",
      "       truth      0.742     0.878     0.804       891\n",
      "       rumor      0.805     0.623     0.703       722\n",
      "\n",
      "   micro avg      0.764     0.764     0.764      1613\n",
      "   macro avg      0.773     0.750     0.753      1613\n",
      "weighted avg      0.770     0.764     0.759      1613\n",
      " samples avg      0.764     0.764     0.764      1613\n",
      "\n",
      "\n"
     ]
    }
   ],
   "source": [
    "# 参数 model_name: best model的weights文件保存在 './model/{}.hdf5'.format(model_name) 路径下\n",
    "train(model=model, model_name='multi_model_emoatt',\n",
    "      train_data=[we_train,img_train_new,txt_train_emo,img_train_emo], test_data=[we_test,img_test_new,txt_test_emo,img_test_emo],\n",
    "      train_label=y_train, test_label=y_test,\n",
    "      epochs=20, batch_size=128)"
   ]
  },
  {
   "cell_type": "code",
   "execution_count": null,
   "metadata": {},
   "outputs": [],
   "source": []
  }
 ],
 "metadata": {
  "kernelspec": {
   "display_name": "Python 3",
   "language": "python",
   "name": "python3"
  },
  "language_info": {
   "codemirror_mode": {
    "name": "ipython",
    "version": 3
   },
   "file_extension": ".py",
   "mimetype": "text/x-python",
   "name": "python",
   "nbconvert_exporter": "python",
   "pygments_lexer": "ipython3",
   "version": "3.7.6"
  }
 },
 "nbformat": 4,
 "nbformat_minor": 4
}
