{
 "cells": [
  {
   "cell_type": "markdown",
   "metadata": {},
   "source": [
    "# 数据加载"
   ]
  },
  {
   "cell_type": "code",
   "execution_count": 1,
   "metadata": {},
   "outputs": [
    {
     "data": {
      "text/plain": [
       "((32193, 120), (1613, 120), (32193, 2), (1613, 2))"
      ]
     },
     "execution_count": 1,
     "metadata": {},
     "output_type": "execute_result"
    }
   ],
   "source": [
    "import numpy as np\n",
    "\n",
    "we_train = np.load('../data/train_we_(32193, 120).npy')\n",
    "we_test = np.load('../data/test_we_(1613, 120).npy')\n",
    "\n",
    "y_train = np.load('../data/train_label_(32193, 2).npy')\n",
    "y_test = np.load('../data/test_label_(1613, 2).npy')\n",
    "\n",
    "we_train.shape, we_test.shape, y_train.shape, y_test.shape"
   ]
  },
  {
   "cell_type": "markdown",
   "metadata": {},
   "source": [
    "# 模型加载"
   ]
  },
  {
   "cell_type": "code",
   "execution_count": 2,
   "metadata": {},
   "outputs": [
    {
     "name": "stderr",
     "output_type": "stream",
     "text": [
      "Using TensorFlow backend.\n",
      "/Users/snow/anaconda2/envs/python35/lib/python3.5/site-packages/keras/engine/topology.py:622: UserWarning: Class `GradientReversal.GradientReversal` defines `get_output_shape_for` but does not override `compute_output_shape`. If this is a Keras 1 layer, please implement `compute_output_shape` to support Keras 2.\n",
      "  output_shape = self.compute_output_shape(input_shape)\n"
     ]
    }
   ],
   "source": [
    "from TextTransferModels import TwoBranchesBiGRU"
   ]
  },
  {
   "cell_type": "code",
   "execution_count": 3,
   "metadata": {},
   "outputs": [
    {
     "name": "stdout",
     "output_type": "stream",
     "text": [
      "__________________________________________________________________________________________________\n",
      "Layer (type)                    Output Shape         Param #     Connected to                     \n",
      "==================================================================================================\n",
      "Word2Vec (InputLayer)           (None, 120)          0                                            \n",
      "__________________________________________________________________________________________________\n",
      "Embedding (Embedding)           (None, 120, 300)     1800000     Word2Vec[0][0]                   \n",
      "__________________________________________________________________________________________________\n",
      "BiGRU (Bidirectional)           (None, 120, 64)      63936       Embedding[0][0]                  \n",
      "__________________________________________________________________________________________________\n",
      "mean_pooling (GlobalAveragePool (None, 64)           0           BiGRU[0][0]                      \n",
      "__________________________________________________________________________________________________\n",
      "max_pooling (GlobalMaxPooling1D (None, 64)           0           BiGRU[0][0]                      \n",
      "__________________________________________________________________________________________________\n",
      "gru_pooling (Concatenate)       (None, 128)          0           mean_pooling[0][0]               \n",
      "                                                                 max_pooling[0][0]                \n",
      "__________________________________________________________________________________________________\n",
      "unrelated_branch (Dense)        (None, 32)           4128        gru_pooling[0][0]                \n",
      "__________________________________________________________________________________________________\n",
      "fake_output (Dense)             (None, 2)            66          unrelated_branch[0][0]           \n",
      "==================================================================================================\n",
      "Total params: 1,868,130\n",
      "Trainable params: 64,002\n",
      "Non-trainable params: 1,804,128\n",
      "__________________________________________________________________________________________________\n"
     ]
    }
   ],
   "source": [
    "model = TwoBranchesBiGRU().model\n",
    "model.summary()"
   ]
  },
  {
   "cell_type": "markdown",
   "metadata": {},
   "source": [
    "# Example: 训练与预测"
   ]
  },
  {
   "cell_type": "code",
   "execution_count": 4,
   "metadata": {
    "collapsed": true
   },
   "outputs": [],
   "source": [
    "from train import train"
   ]
  },
  {
   "cell_type": "code",
   "execution_count": 5,
   "metadata": {
    "collapsed": true
   },
   "outputs": [],
   "source": [
    "example_model = TwoBranchesBiGRU().model"
   ]
  },
  {
   "cell_type": "code",
   "execution_count": 6,
   "metadata": {},
   "outputs": [
    {
     "name": "stdout",
     "output_type": "stream",
     "text": [
      "__________________________________________________________________________________________________\n",
      "Layer (type)                    Output Shape         Param #     Connected to                     \n",
      "==================================================================================================\n",
      "Word2Vec (InputLayer)           (None, 120)          0                                            \n",
      "__________________________________________________________________________________________________\n",
      "Embedding (Embedding)           (None, 120, 300)     1800000     Word2Vec[0][0]                   \n",
      "__________________________________________________________________________________________________\n",
      "BiGRU (Bidirectional)           (None, 120, 64)      63936       Embedding[0][0]                  \n",
      "__________________________________________________________________________________________________\n",
      "mean_pooling (GlobalAveragePool (None, 64)           0           BiGRU[0][0]                      \n",
      "__________________________________________________________________________________________________\n",
      "max_pooling (GlobalMaxPooling1D (None, 64)           0           BiGRU[0][0]                      \n",
      "__________________________________________________________________________________________________\n",
      "gru_pooling (Concatenate)       (None, 128)          0           mean_pooling[0][0]               \n",
      "                                                                 max_pooling[0][0]                \n",
      "__________________________________________________________________________________________________\n",
      "unrelated_branch (Dense)        (None, 32)           4128        gru_pooling[0][0]                \n",
      "__________________________________________________________________________________________________\n",
      "fake_output (Dense)             (None, 2)            66          unrelated_branch[0][0]           \n",
      "==================================================================================================\n",
      "Total params: 1,868,130\n",
      "Trainable params: 64,002\n",
      "Non-trainable params: 1,804,128\n",
      "__________________________________________________________________________________________________\n",
      "None\n",
      "\n",
      "Train on 32193 samples, validate on 1613 samples\n",
      "Epoch 1/3\n",
      "32193/32193 [==============================] - 118s 4ms/step - loss: 0.3109 - acc: 0.8838 - val_loss: 0.7446 - val_acc: 0.6665\n",
      "Epoch 2/3\n",
      "32193/32193 [==============================] - 107s 3ms/step - loss: 0.1697 - acc: 0.9438 - val_loss: 1.1299 - val_acc: 0.6026\n",
      "Epoch 3/3\n",
      "32193/32193 [==============================] - 104s 3ms/step - loss: 0.1256 - acc: 0.9599 - val_loss: 0.6972 - val_acc: 0.7074\n"
     ]
    },
    {
     "data": {
      "image/png": "[encoded data removed]",
      "text/plain": [
       "<matplotlib.figure.Figure at 0x7fd45f48c8d0>"
      ]
     },
     "metadata": {},
     "output_type": "display_data"
    },
    {
     "name": "stdout",
     "output_type": "stream",
     "text": [
      "\n",
      "TEST_sz: 1613\n",
      "\n",
      "Accuracy: 0.7073775573465592\n",
      "\n",
      "              precision    recall  f1-score   support\n",
      "\n",
      "       truth      0.673     0.915     0.775       891\n",
      "       rumor      0.811     0.452     0.580       722\n",
      "\n",
      "   micro avg      0.707     0.707     0.707      1613\n",
      "   macro avg      0.742     0.683     0.678      1613\n",
      "weighted avg      0.735     0.707     0.688      1613\n",
      " samples avg      0.707     0.707     0.707      1613\n",
      "\n",
      "\n"
     ]
    }
   ],
   "source": [
    "# 参数 model_name: best model的weights文件保存在 './model/{}.hdf5'.format(model_name) 路径下\n",
    "train(model=example_model, model_name='example_model',\n",
    "      train_data=we_train, test_data=we_test,\n",
    "      train_label=y_train, test_label=y_test,\n",
    "      epochs=3, batch_size=128)"
   ]
  },
  {
   "cell_type": "code",
   "execution_count": null,
   "metadata": {
    "collapsed": true
   },
   "outputs": [],
   "source": []
  }
 ],
 "metadata": {
  "kernelspec": {
   "display_name": "Python 3",
   "language": "python",
   "name": "python3"
  },
  "language_info": {
   "codemirror_mode": {
    "name": "ipython",
    "version": 3
   },
   "file_extension": ".py",
   "mimetype": "text/x-python",
   "name": "python",
   "nbconvert_exporter": "python",
   "pygments_lexer": "ipython3",
   "version": "3.5.3"
  },
  "toc": {
   "base_numbering": 1,
   "nav_menu": {},
   "number_sections": true,
   "sideBar": true,
   "skip_h1_title": false,
   "title_cell": "Table of Contents",
   "title_sidebar": "Contents",
   "toc_cell": false,
   "toc_position": {},
   "toc_section_display": true,
   "toc_window_display": false
  }
 },
 "nbformat": 4,
 "nbformat_minor": 2
}
